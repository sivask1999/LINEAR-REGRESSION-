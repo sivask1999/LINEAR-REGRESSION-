{
 "cells": [
  {
   "cell_type": "markdown",
   "metadata": {
    "id": "lMLu9YZPGT8I"
   },
   "source": [
    "### About the data set 1 (Life Expectancy data)\n",
    "\n",
    "The dataset contains information about several health and economic factors that contribute to average life expectancy for different countries. <br> Attribute information: \n",
    "\n",
    "**Country:** Name of the country\n",
    "\n",
    "**Status:** Whether the country is Developed or Developing\n",
    "\n",
    "**Adult_Mortality:** Mortality rate for age group 15-60 out of every 1000 individuals of the population\n",
    "\n",
    "**Infant_Deaths:** Number of infant deaths per 1000 population\n",
    "\n",
    "**Hepatitis:** Hepatitis B (HepB) immunization coverage for 1 year olds (Percentage)\n",
    "\n",
    "**Measles:** Number of reported cases for measles per 1000 from population\n",
    "\n",
    "**BMI:** Average Body Mass Index for entire population\n",
    "\n",
    "**Underfive_Deaths:** Number of deaths under 5 years of age per 1000 population\n",
    "\n",
    "**Polio:** Polio (Pol3) immunization coverage for 1 year olds (Percentage)\n",
    "\n",
    "**Diphtheria:** Diphtheria tetanus toxoid and pertussis (DTP3) immunization coverage for 1 year olds (Percentage)\n",
    "\n",
    "**HIV:** Deaths per 1000 live births due to HIV/AIDS (0-4 years)\n",
    "\n",
    "**GDP:** Gross Domestic Product per capita (in USD)\n",
    "\n",
    "**Population:** Population of the country\n",
    "\n",
    "**Malnourished10_19:** Prevalence of malnutrition among children and adolescents for Age 10 to 19 (Percentage)\n",
    "\n",
    "**Malnourished5_9:** Prevalence of malnutrition among children for Age 5 to 9 (Percentage)\n",
    "\n",
    "**Income_Index:** Human Development Index (HDI) in terms of national income per capita (index ranging from 0 to 1)\n",
    "\n",
    "**Schooling:** Number of years of Schooling\n",
    "\n",
    "**Life_Expectancy:** Life Expectancy in age for the country\n",
    "\n",
    "\n",
    "\n"
   ]
  },
  {
   "cell_type": "markdown",
   "metadata": {
    "id": "3_VvvpB2GT8L"
   },
   "source": [
    "## Table of Content\n",
    "\n",
    "1. **[Bivariate Regression](#Bivariate)**\n",
    "2. **[Multiple Linear Regression (MLR)](#MLR)**\n",
    "3. **[Inferences about slope](#ins)**\n",
    "4. **[Model Evaluation](#ML_eval)**\n",
    "5. **[Assumptions of Linear Regression](#assum)**\n",
    "6. **[Model Performance](#ml_perf)**"
   ]
  },
  {
   "cell_type": "markdown",
   "metadata": {
    "id": "URgibpgWGT8M"
   },
   "source": [
    "**Import the required libraries**"
   ]
  },
  {
   "cell_type": "code",
   "execution_count": 1,
   "metadata": {
    "id": "xtl3HwF1GT8N"
   },
   "outputs": [],
   "source": [
    "import pandas as pd\n",
    "import seaborn as sns\n",
    "import numpy as np\n",
    "import matplotlib.pyplot as plt\n",
    "import statsmodels.api as sm\n",
    "import statsmodels.formula.api as smf\n",
    "import scipy.stats as stats"
   ]
  },
  {
   "cell_type": "markdown",
   "metadata": {
    "id": "NCMH7Vq7GT8Q"
   },
   "source": [
    "#### Load the first dataset and check the first five observations\n",
    "\n",
    "Load the csv file and set the first column as index"
   ]
  },
  {
   "cell_type": "code",
   "execution_count": 2,
   "metadata": {
    "id": "v49wF7S6GT8R"
   },
   "outputs": [
    {
     "data": {
      "text/html": [
       "<div>\n",
       "<style scoped>\n",
       "    .dataframe tbody tr th:only-of-type {\n",
       "        vertical-align: middle;\n",
       "    }\n",
       "\n",
       "    .dataframe tbody tr th {\n",
       "        vertical-align: top;\n",
       "    }\n",
       "\n",
       "    .dataframe thead th {\n",
       "        text-align: right;\n",
       "    }\n",
       "</style>\n",
       "<table border=\"1\" class=\"dataframe\">\n",
       "  <thead>\n",
       "    <tr style=\"text-align: right;\">\n",
       "      <th></th>\n",
       "      <th>Country</th>\n",
       "      <th>Status</th>\n",
       "      <th>Adult_Mortality</th>\n",
       "      <th>Infant_Deaths</th>\n",
       "      <th>Hepatitis</th>\n",
       "      <th>Measles</th>\n",
       "      <th>BMI</th>\n",
       "      <th>Underfive_Deaths</th>\n",
       "      <th>Polio</th>\n",
       "      <th>Diphtheria</th>\n",
       "      <th>HIV</th>\n",
       "      <th>GDP</th>\n",
       "      <th>Population</th>\n",
       "      <th>Malnourished10_19</th>\n",
       "      <th>Malnourished5_9</th>\n",
       "      <th>Income_Index</th>\n",
       "      <th>Schooling</th>\n",
       "      <th>Expected</th>\n",
       "    </tr>\n",
       "  </thead>\n",
       "  <tbody>\n",
       "    <tr>\n",
       "      <th>0</th>\n",
       "      <td>Afghanistan</td>\n",
       "      <td>Developing</td>\n",
       "      <td>263</td>\n",
       "      <td>62</td>\n",
       "      <td>65</td>\n",
       "      <td>1154</td>\n",
       "      <td>19.1</td>\n",
       "      <td>83</td>\n",
       "      <td>6</td>\n",
       "      <td>65</td>\n",
       "      <td>0.1</td>\n",
       "      <td>584.259210</td>\n",
       "      <td>33736494</td>\n",
       "      <td>17.2</td>\n",
       "      <td>17.3</td>\n",
       "      <td>0.479</td>\n",
       "      <td>10.1</td>\n",
       "      <td>65.0</td>\n",
       "    </tr>\n",
       "    <tr>\n",
       "      <th>1</th>\n",
       "      <td>Albania</td>\n",
       "      <td>Developing</td>\n",
       "      <td>8</td>\n",
       "      <td>0</td>\n",
       "      <td>98</td>\n",
       "      <td>0</td>\n",
       "      <td>57.2</td>\n",
       "      <td>1</td>\n",
       "      <td>98</td>\n",
       "      <td>98</td>\n",
       "      <td>0.1</td>\n",
       "      <td>4575.763787</td>\n",
       "      <td>288914</td>\n",
       "      <td>1.2</td>\n",
       "      <td>1.3</td>\n",
       "      <td>0.761</td>\n",
       "      <td>14.2</td>\n",
       "      <td>77.5</td>\n",
       "    </tr>\n",
       "    <tr>\n",
       "      <th>2</th>\n",
       "      <td>Algeria</td>\n",
       "      <td>Developing</td>\n",
       "      <td>19</td>\n",
       "      <td>21</td>\n",
       "      <td>95</td>\n",
       "      <td>63</td>\n",
       "      <td>59.5</td>\n",
       "      <td>24</td>\n",
       "      <td>95</td>\n",
       "      <td>95</td>\n",
       "      <td>0.1</td>\n",
       "      <td>4132.762920</td>\n",
       "      <td>39871528</td>\n",
       "      <td>6.0</td>\n",
       "      <td>5.8</td>\n",
       "      <td>0.743</td>\n",
       "      <td>14.4</td>\n",
       "      <td>75.6</td>\n",
       "    </tr>\n",
       "    <tr>\n",
       "      <th>3</th>\n",
       "      <td>Angola</td>\n",
       "      <td>Developing</td>\n",
       "      <td>335</td>\n",
       "      <td>66</td>\n",
       "      <td>64</td>\n",
       "      <td>118</td>\n",
       "      <td>23.3</td>\n",
       "      <td>98</td>\n",
       "      <td>7</td>\n",
       "      <td>64</td>\n",
       "      <td>1.9</td>\n",
       "      <td>3695.793748</td>\n",
       "      <td>2785935</td>\n",
       "      <td>8.3</td>\n",
       "      <td>8.2</td>\n",
       "      <td>0.531</td>\n",
       "      <td>11.4</td>\n",
       "      <td>52.4</td>\n",
       "    </tr>\n",
       "    <tr>\n",
       "      <th>4</th>\n",
       "      <td>Argentina</td>\n",
       "      <td>Developing</td>\n",
       "      <td>116</td>\n",
       "      <td>8</td>\n",
       "      <td>94</td>\n",
       "      <td>0</td>\n",
       "      <td>62.8</td>\n",
       "      <td>9</td>\n",
       "      <td>93</td>\n",
       "      <td>94</td>\n",
       "      <td>0.1</td>\n",
       "      <td>13467.123600</td>\n",
       "      <td>43417765</td>\n",
       "      <td>1.0</td>\n",
       "      <td>0.9</td>\n",
       "      <td>0.826</td>\n",
       "      <td>17.3</td>\n",
       "      <td>76.3</td>\n",
       "    </tr>\n",
       "  </tbody>\n",
       "</table>\n",
       "</div>"
      ],
      "text/plain": [
       "       Country      Status  Adult_Mortality  Infant_Deaths  Hepatitis   \\\n",
       "0  Afghanistan  Developing              263             62          65   \n",
       "1      Albania  Developing                8              0          98   \n",
       "2      Algeria  Developing               19             21          95   \n",
       "3       Angola  Developing              335             66          64   \n",
       "4    Argentina  Developing              116              8          94   \n",
       "\n",
       "   Measles    BMI   Underfive_Deaths   Polio  Diphtheria    HIV           GDP  \\\n",
       "0      1154   19.1                 83      6           65   0.1    584.259210   \n",
       "1         0   57.2                  1     98           98   0.1   4575.763787   \n",
       "2        63   59.5                 24     95           95   0.1   4132.762920   \n",
       "3       118   23.3                 98      7           64   1.9   3695.793748   \n",
       "4         0   62.8                  9     93           94   0.1  13467.123600   \n",
       "\n",
       "   Population  Malnourished10_19   Malnourished5_9  Income_Index  Schooling  \\\n",
       "0    33736494                17.2             17.3         0.479       10.1   \n",
       "1      288914                 1.2              1.3         0.761       14.2   \n",
       "2    39871528                 6.0              5.8         0.743       14.4   \n",
       "3     2785935                 8.3              8.2         0.531       11.4   \n",
       "4    43417765                 1.0              0.9         0.826       17.3   \n",
       "\n",
       "   Expected  \n",
       "0      65.0  \n",
       "1      77.5  \n",
       "2      75.6  \n",
       "3      52.4  \n",
       "4      76.3  "
      ]
     },
     "execution_count": 2,
     "metadata": {},
     "output_type": "execute_result"
    }
   ],
   "source": [
    "df = pd.read_csv(\"Life_Expectancy.csv\")\n",
    "df.head()"
   ]
  },
  {
   "cell_type": "code",
   "execution_count": 3,
   "metadata": {},
   "outputs": [
    {
     "name": "stdout",
     "output_type": "stream",
     "text": [
      "<class 'pandas.core.frame.DataFrame'>\n",
      "RangeIndex: 124 entries, 0 to 123\n",
      "Data columns (total 18 columns):\n",
      " #   Column              Non-Null Count  Dtype  \n",
      "---  ------              --------------  -----  \n",
      " 0   Country             124 non-null    object \n",
      " 1   Status              124 non-null    object \n",
      " 2   Adult_Mortality     124 non-null    int64  \n",
      " 3   Infant_Deaths       124 non-null    int64  \n",
      " 4   Hepatitis           124 non-null    int64  \n",
      " 5   Measles             124 non-null    int64  \n",
      " 6    BMI                124 non-null    float64\n",
      " 7   Underfive_Deaths    124 non-null    int64  \n",
      " 8   Polio               124 non-null    int64  \n",
      " 9   Diphtheria          124 non-null    int64  \n",
      " 10   HIV                124 non-null    float64\n",
      " 11  GDP                 124 non-null    float64\n",
      " 12  Population          124 non-null    int64  \n",
      " 13  Malnourished10_19   124 non-null    float64\n",
      " 14  Malnourished5_9     124 non-null    float64\n",
      " 15  Income_Index        124 non-null    float64\n",
      " 16  Schooling           124 non-null    float64\n",
      " 17  Expected            124 non-null    float64\n",
      "dtypes: float64(8), int64(8), object(2)\n",
      "memory usage: 17.6+ KB\n"
     ]
    }
   ],
   "source": [
    "df.info()"
   ]
  },
  {
   "cell_type": "code",
   "execution_count": 4,
   "metadata": {},
   "outputs": [],
   "source": [
    "cols = df.columns\n",
    "cols = [col.strip() for col in cols]\n",
    "df.columns = cols         #removing spaces|"
   ]
  },
  {
   "cell_type": "markdown",
   "metadata": {
    "id": "FpJxUnoNGT8U"
   },
   "source": [
    "### Let's begin with some hands-on practice exercises"
   ]
  },
  {
   "cell_type": "markdown",
   "metadata": {
    "id": "_-PzGAQbGT8W"
   },
   "source": [
    "<a id=\"Bivariate\"> </a>\n",
    "## 1. Bivariate Regression"
   ]
  },
  {
   "cell_type": "markdown",
   "metadata": {
    "id": "MmEYEa-DGT8X"
   },
   "source": [
    "## We shall use the life expectancy dataset"
   ]
  },
  {
   "cell_type": "markdown",
   "metadata": {
    "collapsed": true,
    "id": "SqvgZqnAGT8Y"
   },
   "source": [
    "<table align=\"left\">\n",
    "    <tr>\n",
    "        <td width=\"6%\">\n",
    "            <img src=\"question_icon.png\">\n",
    "        </td>\n",
    "        <td>\n",
    "            <div align=\"left\", style=\"font-size:120%\">\n",
    "                <font color=\"#21618C\">\n",
    "                    <b>1. How do we analyze the impact of adult mortality rate on average life expectancy of a country?</b>\n",
    "                </font>\n",
    "            </div>\n",
    "        </td>\n",
    "    </tr>\n",
    "</table>"
   ]
  },
  {
   "cell_type": "code",
   "execution_count": 5,
   "metadata": {
    "id": "3hp6DBLcGT8Z"
   },
   "outputs": [
    {
     "data": {
      "text/plain": [
       "Index(['Country', 'Status', 'Adult_Mortality', 'Infant_Deaths', 'Hepatitis',\n",
       "       'Measles', 'BMI', 'Underfive_Deaths', 'Polio', 'Diphtheria', 'HIV',\n",
       "       'GDP', 'Population', 'Malnourished10_19', 'Malnourished5_9',\n",
       "       'Income_Index', 'Schooling', 'Expected'],\n",
       "      dtype='object')"
      ]
     },
     "execution_count": 5,
     "metadata": {},
     "output_type": "execute_result"
    }
   ],
   "source": [
    "df.columns"
   ]
  },
  {
   "cell_type": "code",
   "execution_count": 6,
   "metadata": {},
   "outputs": [
    {
     "data": {
      "image/png": "[encoded data removed]",
      "text/plain": [
       "<Figure size 432x288 with 1 Axes>"
      ]
     },
     "metadata": {
      "needs_background": "light"
     },
     "output_type": "display_data"
    }
   ],
   "source": [
    "plt.scatter(df['Adult_Mortality'],df['Expected'])\n",
    "plt.show()"
   ]
  },
  {
   "cell_type": "code",
   "execution_count": 7,
   "metadata": {},
   "outputs": [],
   "source": [
    "x = df[['Adult_Mortality']]\n",
    "y = df['Expected']"
   ]
  },
  {
   "cell_type": "code",
   "execution_count": 8,
   "metadata": {},
   "outputs": [],
   "source": [
    "xc = sm.add_constant(x)"
   ]
  },
  {
   "cell_type": "code",
   "execution_count": 9,
   "metadata": {},
   "outputs": [
    {
     "data": {
      "text/html": [
       "<table class=\"simpletable\">\n",
       "<caption>OLS Regression Results</caption>\n",
       "<tr>\n",
       "  <th>Dep. Variable:</th>        <td>Expected</td>     <th>  R-squared:         </th> <td>   0.505</td>\n",
       "</tr>\n",
       "<tr>\n",
       "  <th>Model:</th>                   <td>OLS</td>       <th>  Adj. R-squared:    </th> <td>   0.501</td>\n",
       "</tr>\n",
       "<tr>\n",
       "  <th>Method:</th>             <td>Least Squares</td>  <th>  F-statistic:       </th> <td>   124.6</td>\n",
       "</tr>\n",
       "<tr>\n",
       "  <th>Date:</th>             <td>Tue, 06 Sep 2022</td> <th>  Prob (F-statistic):</th> <td>2.27e-20</td>\n",
       "</tr>\n",
       "<tr>\n",
       "  <th>Time:</th>                 <td>15:29:15</td>     <th>  Log-Likelihood:    </th> <td> -396.71</td>\n",
       "</tr>\n",
       "<tr>\n",
       "  <th>No. Observations:</th>      <td>   124</td>      <th>  AIC:               </th> <td>   797.4</td>\n",
       "</tr>\n",
       "<tr>\n",
       "  <th>Df Residuals:</th>          <td>   122</td>      <th>  BIC:               </th> <td>   803.1</td>\n",
       "</tr>\n",
       "<tr>\n",
       "  <th>Df Model:</th>              <td>     1</td>      <th>                     </th>     <td> </td>   \n",
       "</tr>\n",
       "<tr>\n",
       "  <th>Covariance Type:</th>      <td>nonrobust</td>    <th>                     </th>     <td> </td>   \n",
       "</tr>\n",
       "</table>\n",
       "<table class=\"simpletable\">\n",
       "<tr>\n",
       "         <td></td>            <th>coef</th>     <th>std err</th>      <th>t</th>      <th>P>|t|</th>  <th>[0.025</th>    <th>0.975]</th>  \n",
       "</tr>\n",
       "<tr>\n",
       "  <th>const</th>           <td>   80.7106</td> <td>    1.005</td> <td>   80.272</td> <td> 0.000</td> <td>   78.720</td> <td>   82.701</td>\n",
       "</tr>\n",
       "<tr>\n",
       "  <th>Adult_Mortality</th> <td>   -0.0591</td> <td>    0.005</td> <td>  -11.164</td> <td> 0.000</td> <td>   -0.070</td> <td>   -0.049</td>\n",
       "</tr>\n",
       "</table>\n",
       "<table class=\"simpletable\">\n",
       "<tr>\n",
       "  <th>Omnibus:</th>       <td>57.611</td> <th>  Durbin-Watson:     </th> <td>   1.624</td>\n",
       "</tr>\n",
       "<tr>\n",
       "  <th>Prob(Omnibus):</th> <td> 0.000</td> <th>  Jarque-Bera (JB):  </th> <td> 160.621</td>\n",
       "</tr>\n",
       "<tr>\n",
       "  <th>Skew:</th>          <td>-1.821</td> <th>  Prob(JB):          </th> <td>1.32e-35</td>\n",
       "</tr>\n",
       "<tr>\n",
       "  <th>Kurtosis:</th>      <td> 7.222</td> <th>  Cond. No.          </th> <td>    355.</td>\n",
       "</tr>\n",
       "</table><br/><br/>Notes:<br/>[1] Standard Errors assume that the covariance matrix of the errors is correctly specified."
      ],
      "text/plain": [
       "<class 'statsmodels.iolib.summary.Summary'>\n",
       "\"\"\"\n",
       "                            OLS Regression Results                            \n",
       "==============================================================================\n",
       "Dep. Variable:               Expected   R-squared:                       0.505\n",
       "Model:                            OLS   Adj. R-squared:                  0.501\n",
       "Method:                 Least Squares   F-statistic:                     124.6\n",
       "Date:                Tue, 06 Sep 2022   Prob (F-statistic):           2.27e-20\n",
       "Time:                        15:29:15   Log-Likelihood:                -396.71\n",
       "No. Observations:                 124   AIC:                             797.4\n",
       "Df Residuals:                     122   BIC:                             803.1\n",
       "Df Model:                           1                                         \n",
       "Covariance Type:            nonrobust                                         \n",
       "===================================================================================\n",
       "                      coef    std err          t      P>|t|      [0.025      0.975]\n",
       "-----------------------------------------------------------------------------------\n",
       "const              80.7106      1.005     80.272      0.000      78.720      82.701\n",
       "Adult_Mortality    -0.0591      0.005    -11.164      0.000      -0.070      -0.049\n",
       "==============================================================================\n",
       "Omnibus:                       57.611   Durbin-Watson:                   1.624\n",
       "Prob(Omnibus):                  0.000   Jarque-Bera (JB):              160.621\n",
       "Skew:                          -1.821   Prob(JB):                     1.32e-35\n",
       "Kurtosis:                       7.222   Cond. No.                         355.\n",
       "==============================================================================\n",
       "\n",
       "Notes:\n",
       "[1] Standard Errors assume that the covariance matrix of the errors is correctly specified.\n",
       "\"\"\""
      ]
     },
     "execution_count": 9,
     "metadata": {},
     "output_type": "execute_result"
    }
   ],
   "source": [
    "model = sm.OLS(y,xc).fit()\n",
    "model.summary()"
   ]
  },
  {
   "cell_type": "markdown",
   "metadata": {
    "collapsed": true,
    "id": "5Fq3cHG0GT8a"
   },
   "source": [
    "<table align=\"left\">\n",
    "    <tr>\n",
    "        <td width=\"6%\">\n",
    "            <img src=\"question_icon.png\">\n",
    "        </td>\n",
    "        <td>\n",
    "            <div align=\"left\", style=\"font-size:120%\">\n",
    "                <font color=\"#21618C\">\n",
    "                    <b>2. A regression model is built to check the impact of Human Development Index (Income) on the life expectancy of a nation. What is the expected error value?</b>\n",
    "                </font>\n",
    "            </div>\n",
    "        </td>\n",
    "    </tr>\n",
    "</table>"
   ]
  },
  {
   "cell_type": "code",
   "execution_count": 10,
   "metadata": {
    "id": "amV7PHtlGT8b"
   },
   "outputs": [
    {
     "data": {
      "text/plain": [
       "Index(['Country', 'Status', 'Adult_Mortality', 'Infant_Deaths', 'Hepatitis',\n",
       "       'Measles', 'BMI', 'Underfive_Deaths', 'Polio', 'Diphtheria', 'HIV',\n",
       "       'GDP', 'Population', 'Malnourished10_19', 'Malnourished5_9',\n",
       "       'Income_Index', 'Schooling', 'Expected'],\n",
       "      dtype='object')"
      ]
     },
     "execution_count": 10,
     "metadata": {},
     "output_type": "execute_result"
    }
   ],
   "source": [
    "df.columns"
   ]
  },
  {
   "cell_type": "code",
   "execution_count": 11,
   "metadata": {},
   "outputs": [],
   "source": [
    "y = df['Expected']\n",
    "x = df['Income_Index']"
   ]
  },
  {
   "cell_type": "code",
   "execution_count": 12,
   "metadata": {},
   "outputs": [
    {
     "data": {
      "text/html": [
       "<table class=\"simpletable\">\n",
       "<caption>OLS Regression Results</caption>\n",
       "<tr>\n",
       "  <th>Dep. Variable:</th>        <td>Expected</td>     <th>  R-squared:         </th> <td>   0.711</td>\n",
       "</tr>\n",
       "<tr>\n",
       "  <th>Model:</th>                   <td>OLS</td>       <th>  Adj. R-squared:    </th> <td>   0.709</td>\n",
       "</tr>\n",
       "<tr>\n",
       "  <th>Method:</th>             <td>Least Squares</td>  <th>  F-statistic:       </th> <td>   300.0</td>\n",
       "</tr>\n",
       "<tr>\n",
       "  <th>Date:</th>             <td>Tue, 06 Sep 2022</td> <th>  Prob (F-statistic):</th> <td>1.13e-34</td>\n",
       "</tr>\n",
       "<tr>\n",
       "  <th>Time:</th>                 <td>15:29:15</td>     <th>  Log-Likelihood:    </th> <td> -363.40</td>\n",
       "</tr>\n",
       "<tr>\n",
       "  <th>No. Observations:</th>      <td>   124</td>      <th>  AIC:               </th> <td>   730.8</td>\n",
       "</tr>\n",
       "<tr>\n",
       "  <th>Df Residuals:</th>          <td>   122</td>      <th>  BIC:               </th> <td>   736.4</td>\n",
       "</tr>\n",
       "<tr>\n",
       "  <th>Df Model:</th>              <td>     1</td>      <th>                     </th>     <td> </td>   \n",
       "</tr>\n",
       "<tr>\n",
       "  <th>Covariance Type:</th>      <td>nonrobust</td>    <th>                     </th>     <td> </td>   \n",
       "</tr>\n",
       "</table>\n",
       "<table class=\"simpletable\">\n",
       "<tr>\n",
       "        <td></td>          <th>coef</th>     <th>std err</th>      <th>t</th>      <th>P>|t|</th>  <th>[0.025</th>    <th>0.975]</th>  \n",
       "</tr>\n",
       "<tr>\n",
       "  <th>const</th>        <td>   41.9191</td> <td>    1.741</td> <td>   24.081</td> <td> 0.000</td> <td>   38.473</td> <td>   45.365</td>\n",
       "</tr>\n",
       "<tr>\n",
       "  <th>Income_Index</th> <td>   42.4243</td> <td>    2.449</td> <td>   17.322</td> <td> 0.000</td> <td>   37.576</td> <td>   47.273</td>\n",
       "</tr>\n",
       "</table>\n",
       "<table class=\"simpletable\">\n",
       "<tr>\n",
       "  <th>Omnibus:</th>       <td>11.870</td> <th>  Durbin-Watson:     </th> <td>   1.355</td>\n",
       "</tr>\n",
       "<tr>\n",
       "  <th>Prob(Omnibus):</th> <td> 0.003</td> <th>  Jarque-Bera (JB):  </th> <td>  26.475</td>\n",
       "</tr>\n",
       "<tr>\n",
       "  <th>Skew:</th>          <td> 0.280</td> <th>  Prob(JB):          </th> <td>1.78e-06</td>\n",
       "</tr>\n",
       "<tr>\n",
       "  <th>Kurtosis:</th>      <td> 5.193</td> <th>  Cond. No.          </th> <td>    8.87</td>\n",
       "</tr>\n",
       "</table><br/><br/>Notes:<br/>[1] Standard Errors assume that the covariance matrix of the errors is correctly specified."
      ],
      "text/plain": [
       "<class 'statsmodels.iolib.summary.Summary'>\n",
       "\"\"\"\n",
       "                            OLS Regression Results                            \n",
       "==============================================================================\n",
       "Dep. Variable:               Expected   R-squared:                       0.711\n",
       "Model:                            OLS   Adj. R-squared:                  0.709\n",
       "Method:                 Least Squares   F-statistic:                     300.0\n",
       "Date:                Tue, 06 Sep 2022   Prob (F-statistic):           1.13e-34\n",
       "Time:                        15:29:15   Log-Likelihood:                -363.40\n",
       "No. Observations:                 124   AIC:                             730.8\n",
       "Df Residuals:                     122   BIC:                             736.4\n",
       "Df Model:                           1                                         \n",
       "Covariance Type:            nonrobust                                         \n",
       "================================================================================\n",
       "                   coef    std err          t      P>|t|      [0.025      0.975]\n",
       "--------------------------------------------------------------------------------\n",
       "const           41.9191      1.741     24.081      0.000      38.473      45.365\n",
       "Income_Index    42.4243      2.449     17.322      0.000      37.576      47.273\n",
       "==============================================================================\n",
       "Omnibus:                       11.870   Durbin-Watson:                   1.355\n",
       "Prob(Omnibus):                  0.003   Jarque-Bera (JB):               26.475\n",
       "Skew:                           0.280   Prob(JB):                     1.78e-06\n",
       "Kurtosis:                       5.193   Cond. No.                         8.87\n",
       "==============================================================================\n",
       "\n",
       "Notes:\n",
       "[1] Standard Errors assume that the covariance matrix of the errors is correctly specified.\n",
       "\"\"\""
      ]
     },
     "execution_count": 12,
     "metadata": {},
     "output_type": "execute_result"
    }
   ],
   "source": [
    "xc = sm.add_constant(x)\n",
    "\n",
    "model = sm.OLS(y,xc).fit()\n",
    "model.summary()"
   ]
  },
  {
   "cell_type": "code",
   "execution_count": 13,
   "metadata": {},
   "outputs": [],
   "source": [
    "#we should calculate mean of the error"
   ]
  },
  {
   "cell_type": "code",
   "execution_count": 14,
   "metadata": {},
   "outputs": [
    {
     "data": {
      "text/plain": [
       "20.56116776979111"
      ]
     },
     "execution_count": 14,
     "metadata": {},
     "output_type": "execute_result"
    }
   ],
   "source": [
    "y_pred = model.predict(xc)\n",
    "mean_error = np.sum((y-y_pred)**2)/len(y)\n",
    "mean_error"
   ]
  },
  {
   "cell_type": "markdown",
   "metadata": {
    "id": "6EdKTMb_GT8c"
   },
   "source": [
    "<a id=\"MLR\"> </a>\n",
    "## 2. Multiple Linear Regression(MLR)"
   ]
  },
  {
   "cell_type": "markdown",
   "metadata": {
    "collapsed": true,
    "id": "Ma9ZHu_FGT8c"
   },
   "source": [
    "<table align=\"left\">\n",
    "    <tr>\n",
    "        <td width=\"6%\">\n",
    "            <img src=\"question_icon.png\">\n",
    "        </td>\n",
    "        <td>\n",
    "            <div align=\"left\", style=\"font-size:120%\">\n",
    "                <font color=\"#21618C\">\n",
    "                    <b>3. Analyze the impact of immunization on life expectancy. </b>\n",
    "                </font>\n",
    "            </div>\n",
    "        </td>\n",
    "    </tr>\n",
    "</table>"
   ]
  },
  {
   "cell_type": "code",
   "execution_count": 15,
   "metadata": {
    "id": "WmDtZAm-GT8d"
   },
   "outputs": [
    {
     "data": {
      "text/plain": [
       "Index(['Country', 'Status', 'Adult_Mortality', 'Infant_Deaths', 'Hepatitis',\n",
       "       'Measles', 'BMI', 'Underfive_Deaths', 'Polio', 'Diphtheria', 'HIV',\n",
       "       'GDP', 'Population', 'Malnourished10_19', 'Malnourished5_9',\n",
       "       'Income_Index', 'Schooling', 'Expected'],\n",
       "      dtype='object')"
      ]
     },
     "execution_count": 15,
     "metadata": {},
     "output_type": "execute_result"
    }
   ],
   "source": [
    "df.columns"
   ]
  },
  {
   "cell_type": "code",
   "execution_count": 16,
   "metadata": {},
   "outputs": [],
   "source": [
    "y = df['Expected']\n",
    "x = df[['Polio','Hepatitis','Diphtheria']]"
   ]
  },
  {
   "cell_type": "code",
   "execution_count": 17,
   "metadata": {},
   "outputs": [],
   "source": [
    "xc = sm.add_constant(x)"
   ]
  },
  {
   "cell_type": "code",
   "execution_count": 18,
   "metadata": {},
   "outputs": [
    {
     "data": {
      "text/html": [
       "<table class=\"simpletable\">\n",
       "<caption>OLS Regression Results</caption>\n",
       "<tr>\n",
       "  <th>Dep. Variable:</th>        <td>Expected</td>     <th>  R-squared:         </th> <td>   0.138</td>\n",
       "</tr>\n",
       "<tr>\n",
       "  <th>Model:</th>                   <td>OLS</td>       <th>  Adj. R-squared:    </th> <td>   0.116</td>\n",
       "</tr>\n",
       "<tr>\n",
       "  <th>Method:</th>             <td>Least Squares</td>  <th>  F-statistic:       </th> <td>   6.395</td>\n",
       "</tr>\n",
       "<tr>\n",
       "  <th>Date:</th>             <td>Tue, 06 Sep 2022</td> <th>  Prob (F-statistic):</th> <td>0.000468</td>\n",
       "</tr>\n",
       "<tr>\n",
       "  <th>Time:</th>                 <td>15:29:15</td>     <th>  Log-Likelihood:    </th> <td> -431.15</td>\n",
       "</tr>\n",
       "<tr>\n",
       "  <th>No. Observations:</th>      <td>   124</td>      <th>  AIC:               </th> <td>   870.3</td>\n",
       "</tr>\n",
       "<tr>\n",
       "  <th>Df Residuals:</th>          <td>   120</td>      <th>  BIC:               </th> <td>   881.6</td>\n",
       "</tr>\n",
       "<tr>\n",
       "  <th>Df Model:</th>              <td>     3</td>      <th>                     </th>     <td> </td>   \n",
       "</tr>\n",
       "<tr>\n",
       "  <th>Covariance Type:</th>      <td>nonrobust</td>    <th>                     </th>     <td> </td>   \n",
       "</tr>\n",
       "</table>\n",
       "<table class=\"simpletable\">\n",
       "<tr>\n",
       "       <td></td>         <th>coef</th>     <th>std err</th>      <th>t</th>      <th>P>|t|</th>  <th>[0.025</th>    <th>0.975]</th>  \n",
       "</tr>\n",
       "<tr>\n",
       "  <th>const</th>      <td>   57.9881</td> <td>    3.524</td> <td>   16.453</td> <td> 0.000</td> <td>   51.010</td> <td>   64.966</td>\n",
       "</tr>\n",
       "<tr>\n",
       "  <th>Polio</th>      <td>    0.0910</td> <td>    0.043</td> <td>    2.099</td> <td> 0.038</td> <td>    0.005</td> <td>    0.177</td>\n",
       "</tr>\n",
       "<tr>\n",
       "  <th>Hepatitis</th>  <td>   -0.1037</td> <td>    0.068</td> <td>   -1.528</td> <td> 0.129</td> <td>   -0.238</td> <td>    0.031</td>\n",
       "</tr>\n",
       "<tr>\n",
       "  <th>Diphtheria</th> <td>    0.1613</td> <td>    0.082</td> <td>    1.969</td> <td> 0.051</td> <td>   -0.001</td> <td>    0.323</td>\n",
       "</tr>\n",
       "</table>\n",
       "<table class=\"simpletable\">\n",
       "<tr>\n",
       "  <th>Omnibus:</th>       <td> 4.513</td> <th>  Durbin-Watson:     </th> <td>   1.000</td>\n",
       "</tr>\n",
       "<tr>\n",
       "  <th>Prob(Omnibus):</th> <td> 0.105</td> <th>  Jarque-Bera (JB):  </th> <td>   4.279</td>\n",
       "</tr>\n",
       "<tr>\n",
       "  <th>Skew:</th>          <td>-0.396</td> <th>  Prob(JB):          </th> <td>   0.118</td>\n",
       "</tr>\n",
       "<tr>\n",
       "  <th>Kurtosis:</th>      <td> 2.550</td> <th>  Cond. No.          </th> <td>    755.</td>\n",
       "</tr>\n",
       "</table><br/><br/>Notes:<br/>[1] Standard Errors assume that the covariance matrix of the errors is correctly specified."
      ],
      "text/plain": [
       "<class 'statsmodels.iolib.summary.Summary'>\n",
       "\"\"\"\n",
       "                            OLS Regression Results                            \n",
       "==============================================================================\n",
       "Dep. Variable:               Expected   R-squared:                       0.138\n",
       "Model:                            OLS   Adj. R-squared:                  0.116\n",
       "Method:                 Least Squares   F-statistic:                     6.395\n",
       "Date:                Tue, 06 Sep 2022   Prob (F-statistic):           0.000468\n",
       "Time:                        15:29:15   Log-Likelihood:                -431.15\n",
       "No. Observations:                 124   AIC:                             870.3\n",
       "Df Residuals:                     120   BIC:                             881.6\n",
       "Df Model:                           3                                         \n",
       "Covariance Type:            nonrobust                                         \n",
       "==============================================================================\n",
       "                 coef    std err          t      P>|t|      [0.025      0.975]\n",
       "------------------------------------------------------------------------------\n",
       "const         57.9881      3.524     16.453      0.000      51.010      64.966\n",
       "Polio          0.0910      0.043      2.099      0.038       0.005       0.177\n",
       "Hepatitis     -0.1037      0.068     -1.528      0.129      -0.238       0.031\n",
       "Diphtheria     0.1613      0.082      1.969      0.051      -0.001       0.323\n",
       "==============================================================================\n",
       "Omnibus:                        4.513   Durbin-Watson:                   1.000\n",
       "Prob(Omnibus):                  0.105   Jarque-Bera (JB):                4.279\n",
       "Skew:                          -0.396   Prob(JB):                        0.118\n",
       "Kurtosis:                       2.550   Cond. No.                         755.\n",
       "==============================================================================\n",
       "\n",
       "Notes:\n",
       "[1] Standard Errors assume that the covariance matrix of the errors is correctly specified.\n",
       "\"\"\""
      ]
     },
     "execution_count": 18,
     "metadata": {},
     "output_type": "execute_result"
    }
   ],
   "source": [
    "model = sm.OLS(y,xc).fit()\n",
    "model.summary()"
   ]
  },
  {
   "cell_type": "code",
   "execution_count": 19,
   "metadata": {},
   "outputs": [],
   "source": [
    "y = df['Expected']\n",
    "x = df[['Hepatitis','Diphtheria']]"
   ]
  },
  {
   "cell_type": "code",
   "execution_count": 20,
   "metadata": {},
   "outputs": [],
   "source": [
    "xc = sm.add_constant(x)"
   ]
  },
  {
   "cell_type": "code",
   "execution_count": 21,
   "metadata": {},
   "outputs": [
    {
     "data": {
      "text/html": [
       "<table class=\"simpletable\">\n",
       "<caption>OLS Regression Results</caption>\n",
       "<tr>\n",
       "  <th>Dep. Variable:</th>        <td>Expected</td>     <th>  R-squared:         </th> <td>   0.106</td>\n",
       "</tr>\n",
       "<tr>\n",
       "  <th>Model:</th>                   <td>OLS</td>       <th>  Adj. R-squared:    </th> <td>   0.091</td>\n",
       "</tr>\n",
       "<tr>\n",
       "  <th>Method:</th>             <td>Least Squares</td>  <th>  F-statistic:       </th> <td>   7.187</td>\n",
       "</tr>\n",
       "<tr>\n",
       "  <th>Date:</th>             <td>Tue, 06 Sep 2022</td> <th>  Prob (F-statistic):</th>  <td>0.00112</td>\n",
       "</tr>\n",
       "<tr>\n",
       "  <th>Time:</th>                 <td>15:29:15</td>     <th>  Log-Likelihood:    </th> <td> -433.39</td>\n",
       "</tr>\n",
       "<tr>\n",
       "  <th>No. Observations:</th>      <td>   124</td>      <th>  AIC:               </th> <td>   872.8</td>\n",
       "</tr>\n",
       "<tr>\n",
       "  <th>Df Residuals:</th>          <td>   121</td>      <th>  BIC:               </th> <td>   881.2</td>\n",
       "</tr>\n",
       "<tr>\n",
       "  <th>Df Model:</th>              <td>     2</td>      <th>                     </th>     <td> </td>   \n",
       "</tr>\n",
       "<tr>\n",
       "  <th>Covariance Type:</th>      <td>nonrobust</td>    <th>                     </th>     <td> </td>   \n",
       "</tr>\n",
       "</table>\n",
       "<table class=\"simpletable\">\n",
       "<tr>\n",
       "       <td></td>         <th>coef</th>     <th>std err</th>      <th>t</th>      <th>P>|t|</th>  <th>[0.025</th>    <th>0.975]</th>  \n",
       "</tr>\n",
       "<tr>\n",
       "  <th>const</th>      <td>   60.0765</td> <td>    3.428</td> <td>   17.523</td> <td> 0.000</td> <td>   53.289</td> <td>   66.864</td>\n",
       "</tr>\n",
       "<tr>\n",
       "  <th>Hepatitis</th>  <td>   -0.1126</td> <td>    0.069</td> <td>   -1.640</td> <td> 0.104</td> <td>   -0.249</td> <td>    0.023</td>\n",
       "</tr>\n",
       "<tr>\n",
       "  <th>Diphtheria</th> <td>    0.2358</td> <td>    0.075</td> <td>    3.150</td> <td> 0.002</td> <td>    0.088</td> <td>    0.384</td>\n",
       "</tr>\n",
       "</table>\n",
       "<table class=\"simpletable\">\n",
       "<tr>\n",
       "  <th>Omnibus:</th>       <td> 4.871</td> <th>  Durbin-Watson:     </th> <td>   1.056</td>\n",
       "</tr>\n",
       "<tr>\n",
       "  <th>Prob(Omnibus):</th> <td> 0.088</td> <th>  Jarque-Bera (JB):  </th> <td>   4.353</td>\n",
       "</tr>\n",
       "<tr>\n",
       "  <th>Skew:</th>          <td>-0.381</td> <th>  Prob(JB):          </th> <td>   0.113</td>\n",
       "</tr>\n",
       "<tr>\n",
       "  <th>Kurtosis:</th>      <td> 2.487</td> <th>  Cond. No.          </th> <td>    593.</td>\n",
       "</tr>\n",
       "</table><br/><br/>Notes:<br/>[1] Standard Errors assume that the covariance matrix of the errors is correctly specified."
      ],
      "text/plain": [
       "<class 'statsmodels.iolib.summary.Summary'>\n",
       "\"\"\"\n",
       "                            OLS Regression Results                            \n",
       "==============================================================================\n",
       "Dep. Variable:               Expected   R-squared:                       0.106\n",
       "Model:                            OLS   Adj. R-squared:                  0.091\n",
       "Method:                 Least Squares   F-statistic:                     7.187\n",
       "Date:                Tue, 06 Sep 2022   Prob (F-statistic):            0.00112\n",
       "Time:                        15:29:15   Log-Likelihood:                -433.39\n",
       "No. Observations:                 124   AIC:                             872.8\n",
       "Df Residuals:                     121   BIC:                             881.2\n",
       "Df Model:                           2                                         \n",
       "Covariance Type:            nonrobust                                         \n",
       "==============================================================================\n",
       "                 coef    std err          t      P>|t|      [0.025      0.975]\n",
       "------------------------------------------------------------------------------\n",
       "const         60.0765      3.428     17.523      0.000      53.289      66.864\n",
       "Hepatitis     -0.1126      0.069     -1.640      0.104      -0.249       0.023\n",
       "Diphtheria     0.2358      0.075      3.150      0.002       0.088       0.384\n",
       "==============================================================================\n",
       "Omnibus:                        4.871   Durbin-Watson:                   1.056\n",
       "Prob(Omnibus):                  0.088   Jarque-Bera (JB):                4.353\n",
       "Skew:                          -0.381   Prob(JB):                        0.113\n",
       "Kurtosis:                       2.487   Cond. No.                         593.\n",
       "==============================================================================\n",
       "\n",
       "Notes:\n",
       "[1] Standard Errors assume that the covariance matrix of the errors is correctly specified.\n",
       "\"\"\""
      ]
     },
     "execution_count": 21,
     "metadata": {},
     "output_type": "execute_result"
    }
   ],
   "source": [
    "model = sm.OLS(y,xc).fit()\n",
    "model.summary()"
   ]
  },
  {
   "cell_type": "code",
   "execution_count": 22,
   "metadata": {},
   "outputs": [
    {
     "data": {
      "text/html": [
       "<table class=\"simpletable\">\n",
       "<caption>OLS Regression Results</caption>\n",
       "<tr>\n",
       "  <th>Dep. Variable:</th>        <td>Expected</td>     <th>  R-squared:         </th> <td>   0.033</td>\n",
       "</tr>\n",
       "<tr>\n",
       "  <th>Model:</th>                   <td>OLS</td>       <th>  Adj. R-squared:    </th> <td>   0.025</td>\n",
       "</tr>\n",
       "<tr>\n",
       "  <th>Method:</th>             <td>Least Squares</td>  <th>  F-statistic:       </th> <td>   4.147</td>\n",
       "</tr>\n",
       "<tr>\n",
       "  <th>Date:</th>             <td>Tue, 06 Sep 2022</td> <th>  Prob (F-statistic):</th>  <td>0.0439</td> \n",
       "</tr>\n",
       "<tr>\n",
       "  <th>Time:</th>                 <td>15:29:15</td>     <th>  Log-Likelihood:    </th> <td> -438.27</td>\n",
       "</tr>\n",
       "<tr>\n",
       "  <th>No. Observations:</th>      <td>   124</td>      <th>  AIC:               </th> <td>   880.5</td>\n",
       "</tr>\n",
       "<tr>\n",
       "  <th>Df Residuals:</th>          <td>   122</td>      <th>  BIC:               </th> <td>   886.2</td>\n",
       "</tr>\n",
       "<tr>\n",
       "  <th>Df Model:</th>              <td>     1</td>      <th>                     </th>     <td> </td>   \n",
       "</tr>\n",
       "<tr>\n",
       "  <th>Covariance Type:</th>      <td>nonrobust</td>    <th>                     </th>     <td> </td>   \n",
       "</tr>\n",
       "</table>\n",
       "<table class=\"simpletable\">\n",
       "<tr>\n",
       "      <td></td>         <th>coef</th>     <th>std err</th>      <th>t</th>      <th>P>|t|</th>  <th>[0.025</th>    <th>0.975]</th>  \n",
       "</tr>\n",
       "<tr>\n",
       "  <th>const</th>     <td>   64.9510</td> <td>    3.169</td> <td>   20.494</td> <td> 0.000</td> <td>   58.677</td> <td>   71.225</td>\n",
       "</tr>\n",
       "<tr>\n",
       "  <th>Hepatitis</th> <td>    0.0737</td> <td>    0.036</td> <td>    2.036</td> <td> 0.044</td> <td>    0.002</td> <td>    0.145</td>\n",
       "</tr>\n",
       "</table>\n",
       "<table class=\"simpletable\">\n",
       "<tr>\n",
       "  <th>Omnibus:</th>       <td> 4.162</td> <th>  Durbin-Watson:     </th> <td>   1.197</td>\n",
       "</tr>\n",
       "<tr>\n",
       "  <th>Prob(Omnibus):</th> <td> 0.125</td> <th>  Jarque-Bera (JB):  </th> <td>   4.102</td>\n",
       "</tr>\n",
       "<tr>\n",
       "  <th>Skew:</th>          <td>-0.402</td> <th>  Prob(JB):          </th> <td>   0.129</td>\n",
       "</tr>\n",
       "<tr>\n",
       "  <th>Kurtosis:</th>      <td> 2.615</td> <th>  Cond. No.          </th> <td>    370.</td>\n",
       "</tr>\n",
       "</table><br/><br/>Notes:<br/>[1] Standard Errors assume that the covariance matrix of the errors is correctly specified."
      ],
      "text/plain": [
       "<class 'statsmodels.iolib.summary.Summary'>\n",
       "\"\"\"\n",
       "                            OLS Regression Results                            \n",
       "==============================================================================\n",
       "Dep. Variable:               Expected   R-squared:                       0.033\n",
       "Model:                            OLS   Adj. R-squared:                  0.025\n",
       "Method:                 Least Squares   F-statistic:                     4.147\n",
       "Date:                Tue, 06 Sep 2022   Prob (F-statistic):             0.0439\n",
       "Time:                        15:29:15   Log-Likelihood:                -438.27\n",
       "No. Observations:                 124   AIC:                             880.5\n",
       "Df Residuals:                     122   BIC:                             886.2\n",
       "Df Model:                           1                                         \n",
       "Covariance Type:            nonrobust                                         \n",
       "==============================================================================\n",
       "                 coef    std err          t      P>|t|      [0.025      0.975]\n",
       "------------------------------------------------------------------------------\n",
       "const         64.9510      3.169     20.494      0.000      58.677      71.225\n",
       "Hepatitis      0.0737      0.036      2.036      0.044       0.002       0.145\n",
       "==============================================================================\n",
       "Omnibus:                        4.162   Durbin-Watson:                   1.197\n",
       "Prob(Omnibus):                  0.125   Jarque-Bera (JB):                4.102\n",
       "Skew:                          -0.402   Prob(JB):                        0.129\n",
       "Kurtosis:                       2.615   Cond. No.                         370.\n",
       "==============================================================================\n",
       "\n",
       "Notes:\n",
       "[1] Standard Errors assume that the covariance matrix of the errors is correctly specified.\n",
       "\"\"\""
      ]
     },
     "execution_count": 22,
     "metadata": {},
     "output_type": "execute_result"
    }
   ],
   "source": [
    "y = df['Expected']\n",
    "x = df[['Hepatitis']]\n",
    "xc = sm.add_constant(x)\n",
    "model = sm.OLS(y,xc).fit()\n",
    "model.summary()"
   ]
  },
  {
   "cell_type": "code",
   "execution_count": null,
   "metadata": {},
   "outputs": [],
   "source": []
  },
  {
   "cell_type": "code",
   "execution_count": null,
   "metadata": {},
   "outputs": [],
   "source": []
  },
  {
   "cell_type": "markdown",
   "metadata": {
    "collapsed": true,
    "id": "AkCEFciPGT8d"
   },
   "source": [
    "<table align=\"left\">\n",
    "    <tr>\n",
    "        <td width=\"6%\">\n",
    "            <img src=\"question_icon.png\">\n",
    "        </td>\n",
    "        <td>\n",
    "            <div align=\"left\", style=\"font-size:120%\">\n",
    "                <font color=\"#21618C\">\n",
    "                    <b>4. If the information that whether the country is a developed or a developing country is included, does it alter the impact of immunzation on life expectancy ?</b>\n",
    "                </font>\n",
    "            </div>\n",
    "        </td>\n",
    "    </tr>\n",
    "</table>"
   ]
  },
  {
   "cell_type": "code",
   "execution_count": 23,
   "metadata": {
    "id": "AW9ewHrnGT8e"
   },
   "outputs": [
    {
     "data": {
      "text/plain": [
       "Index(['Country', 'Status', 'Adult_Mortality', 'Infant_Deaths', 'Hepatitis',\n",
       "       'Measles', 'BMI', 'Underfive_Deaths', 'Polio', 'Diphtheria', 'HIV',\n",
       "       'GDP', 'Population', 'Malnourished10_19', 'Malnourished5_9',\n",
       "       'Income_Index', 'Schooling', 'Expected'],\n",
       "      dtype='object')"
      ]
     },
     "execution_count": 23,
     "metadata": {},
     "output_type": "execute_result"
    }
   ],
   "source": [
    "df.columns"
   ]
  },
  {
   "cell_type": "code",
   "execution_count": 24,
   "metadata": {},
   "outputs": [
    {
     "data": {
      "text/plain": [
       "Developing    105\n",
       "Developed      19\n",
       "Name: Status, dtype: int64"
      ]
     },
     "execution_count": 24,
     "metadata": {},
     "output_type": "execute_result"
    }
   ],
   "source": [
    "df['Status'].value_counts()"
   ]
  },
  {
   "cell_type": "code",
   "execution_count": 25,
   "metadata": {},
   "outputs": [],
   "source": [
    "df2 = pd.get_dummies(df,columns=['Status'],drop_first=True)"
   ]
  },
  {
   "cell_type": "code",
   "execution_count": 26,
   "metadata": {},
   "outputs": [
    {
     "data": {
      "text/html": [
       "<div>\n",
       "<style scoped>\n",
       "    .dataframe tbody tr th:only-of-type {\n",
       "        vertical-align: middle;\n",
       "    }\n",
       "\n",
       "    .dataframe tbody tr th {\n",
       "        vertical-align: top;\n",
       "    }\n",
       "\n",
       "    .dataframe thead th {\n",
       "        text-align: right;\n",
       "    }\n",
       "</style>\n",
       "<table border=\"1\" class=\"dataframe\">\n",
       "  <thead>\n",
       "    <tr style=\"text-align: right;\">\n",
       "      <th></th>\n",
       "      <th>Country</th>\n",
       "      <th>Adult_Mortality</th>\n",
       "      <th>Infant_Deaths</th>\n",
       "      <th>Hepatitis</th>\n",
       "      <th>Measles</th>\n",
       "      <th>BMI</th>\n",
       "      <th>Underfive_Deaths</th>\n",
       "      <th>Polio</th>\n",
       "      <th>Diphtheria</th>\n",
       "      <th>HIV</th>\n",
       "      <th>GDP</th>\n",
       "      <th>Population</th>\n",
       "      <th>Malnourished10_19</th>\n",
       "      <th>Malnourished5_9</th>\n",
       "      <th>Income_Index</th>\n",
       "      <th>Schooling</th>\n",
       "      <th>Expected</th>\n",
       "      <th>Status_Developing</th>\n",
       "    </tr>\n",
       "  </thead>\n",
       "  <tbody>\n",
       "    <tr>\n",
       "      <th>0</th>\n",
       "      <td>Afghanistan</td>\n",
       "      <td>263</td>\n",
       "      <td>62</td>\n",
       "      <td>65</td>\n",
       "      <td>1154</td>\n",
       "      <td>19.1</td>\n",
       "      <td>83</td>\n",
       "      <td>6</td>\n",
       "      <td>65</td>\n",
       "      <td>0.1</td>\n",
       "      <td>584.259210</td>\n",
       "      <td>33736494</td>\n",
       "      <td>17.2</td>\n",
       "      <td>17.3</td>\n",
       "      <td>0.479</td>\n",
       "      <td>10.1</td>\n",
       "      <td>65.0</td>\n",
       "      <td>1</td>\n",
       "    </tr>\n",
       "    <tr>\n",
       "      <th>1</th>\n",
       "      <td>Albania</td>\n",
       "      <td>8</td>\n",
       "      <td>0</td>\n",
       "      <td>98</td>\n",
       "      <td>0</td>\n",
       "      <td>57.2</td>\n",
       "      <td>1</td>\n",
       "      <td>98</td>\n",
       "      <td>98</td>\n",
       "      <td>0.1</td>\n",
       "      <td>4575.763787</td>\n",
       "      <td>288914</td>\n",
       "      <td>1.2</td>\n",
       "      <td>1.3</td>\n",
       "      <td>0.761</td>\n",
       "      <td>14.2</td>\n",
       "      <td>77.5</td>\n",
       "      <td>1</td>\n",
       "    </tr>\n",
       "    <tr>\n",
       "      <th>2</th>\n",
       "      <td>Algeria</td>\n",
       "      <td>19</td>\n",
       "      <td>21</td>\n",
       "      <td>95</td>\n",
       "      <td>63</td>\n",
       "      <td>59.5</td>\n",
       "      <td>24</td>\n",
       "      <td>95</td>\n",
       "      <td>95</td>\n",
       "      <td>0.1</td>\n",
       "      <td>4132.762920</td>\n",
       "      <td>39871528</td>\n",
       "      <td>6.0</td>\n",
       "      <td>5.8</td>\n",
       "      <td>0.743</td>\n",
       "      <td>14.4</td>\n",
       "      <td>75.6</td>\n",
       "      <td>1</td>\n",
       "    </tr>\n",
       "    <tr>\n",
       "      <th>3</th>\n",
       "      <td>Angola</td>\n",
       "      <td>335</td>\n",
       "      <td>66</td>\n",
       "      <td>64</td>\n",
       "      <td>118</td>\n",
       "      <td>23.3</td>\n",
       "      <td>98</td>\n",
       "      <td>7</td>\n",
       "      <td>64</td>\n",
       "      <td>1.9</td>\n",
       "      <td>3695.793748</td>\n",
       "      <td>2785935</td>\n",
       "      <td>8.3</td>\n",
       "      <td>8.2</td>\n",
       "      <td>0.531</td>\n",
       "      <td>11.4</td>\n",
       "      <td>52.4</td>\n",
       "      <td>1</td>\n",
       "    </tr>\n",
       "    <tr>\n",
       "      <th>4</th>\n",
       "      <td>Argentina</td>\n",
       "      <td>116</td>\n",
       "      <td>8</td>\n",
       "      <td>94</td>\n",
       "      <td>0</td>\n",
       "      <td>62.8</td>\n",
       "      <td>9</td>\n",
       "      <td>93</td>\n",
       "      <td>94</td>\n",
       "      <td>0.1</td>\n",
       "      <td>13467.123600</td>\n",
       "      <td>43417765</td>\n",
       "      <td>1.0</td>\n",
       "      <td>0.9</td>\n",
       "      <td>0.826</td>\n",
       "      <td>17.3</td>\n",
       "      <td>76.3</td>\n",
       "      <td>1</td>\n",
       "    </tr>\n",
       "  </tbody>\n",
       "</table>\n",
       "</div>"
      ],
      "text/plain": [
       "       Country  Adult_Mortality  Infant_Deaths  Hepatitis  Measles   BMI  \\\n",
       "0  Afghanistan              263             62         65     1154  19.1   \n",
       "1      Albania                8              0         98        0  57.2   \n",
       "2      Algeria               19             21         95       63  59.5   \n",
       "3       Angola              335             66         64      118  23.3   \n",
       "4    Argentina              116              8         94        0  62.8   \n",
       "\n",
       "   Underfive_Deaths  Polio  Diphtheria  HIV           GDP  Population  \\\n",
       "0                83      6          65  0.1    584.259210    33736494   \n",
       "1                 1     98          98  0.1   4575.763787      288914   \n",
       "2                24     95          95  0.1   4132.762920    39871528   \n",
       "3                98      7          64  1.9   3695.793748     2785935   \n",
       "4                 9     93          94  0.1  13467.123600    43417765   \n",
       "\n",
       "   Malnourished10_19  Malnourished5_9  Income_Index  Schooling  Expected  \\\n",
       "0               17.2             17.3         0.479       10.1      65.0   \n",
       "1                1.2              1.3         0.761       14.2      77.5   \n",
       "2                6.0              5.8         0.743       14.4      75.6   \n",
       "3                8.3              8.2         0.531       11.4      52.4   \n",
       "4                1.0              0.9         0.826       17.3      76.3   \n",
       "\n",
       "   Status_Developing  \n",
       "0                  1  \n",
       "1                  1  \n",
       "2                  1  \n",
       "3                  1  \n",
       "4                  1  "
      ]
     },
     "execution_count": 26,
     "metadata": {},
     "output_type": "execute_result"
    }
   ],
   "source": [
    "df2.head()"
   ]
  },
  {
   "cell_type": "code",
   "execution_count": 27,
   "metadata": {},
   "outputs": [
    {
     "data": {
      "text/html": [
       "<table class=\"simpletable\">\n",
       "<caption>OLS Regression Results</caption>\n",
       "<tr>\n",
       "  <th>Dep. Variable:</th>        <td>Expected</td>     <th>  R-squared:         </th> <td>   0.321</td>\n",
       "</tr>\n",
       "<tr>\n",
       "  <th>Model:</th>                   <td>OLS</td>       <th>  Adj. R-squared:    </th> <td>   0.298</td>\n",
       "</tr>\n",
       "<tr>\n",
       "  <th>Method:</th>             <td>Least Squares</td>  <th>  F-statistic:       </th> <td>   14.06</td>\n",
       "</tr>\n",
       "<tr>\n",
       "  <th>Date:</th>             <td>Tue, 06 Sep 2022</td> <th>  Prob (F-statistic):</th> <td>2.00e-09</td>\n",
       "</tr>\n",
       "<tr>\n",
       "  <th>Time:</th>                 <td>15:29:15</td>     <th>  Log-Likelihood:    </th> <td> -416.35</td>\n",
       "</tr>\n",
       "<tr>\n",
       "  <th>No. Observations:</th>      <td>   124</td>      <th>  AIC:               </th> <td>   842.7</td>\n",
       "</tr>\n",
       "<tr>\n",
       "  <th>Df Residuals:</th>          <td>   119</td>      <th>  BIC:               </th> <td>   856.8</td>\n",
       "</tr>\n",
       "<tr>\n",
       "  <th>Df Model:</th>              <td>     4</td>      <th>                     </th>     <td> </td>   \n",
       "</tr>\n",
       "<tr>\n",
       "  <th>Covariance Type:</th>      <td>nonrobust</td>    <th>                     </th>     <td> </td>   \n",
       "</tr>\n",
       "</table>\n",
       "<table class=\"simpletable\">\n",
       "<tr>\n",
       "          <td></td>             <th>coef</th>     <th>std err</th>      <th>t</th>      <th>P>|t|</th>  <th>[0.025</th>    <th>0.975]</th>  \n",
       "</tr>\n",
       "<tr>\n",
       "  <th>const</th>             <td>   69.8090</td> <td>    3.771</td> <td>   18.512</td> <td> 0.000</td> <td>   62.342</td> <td>   77.276</td>\n",
       "</tr>\n",
       "<tr>\n",
       "  <th>Hepatitis</th>         <td>   -0.0035</td> <td>    0.063</td> <td>   -0.056</td> <td> 0.955</td> <td>   -0.128</td> <td>    0.121</td>\n",
       "</tr>\n",
       "<tr>\n",
       "  <th>Polio</th>             <td>    0.0771</td> <td>    0.039</td> <td>    1.993</td> <td> 0.049</td> <td>    0.000</td> <td>    0.154</td>\n",
       "</tr>\n",
       "<tr>\n",
       "  <th>Diphtheria</th>        <td>    0.0456</td> <td>    0.076</td> <td>    0.602</td> <td> 0.548</td> <td>   -0.104</td> <td>    0.196</td>\n",
       "</tr>\n",
       "<tr>\n",
       "  <th>Status_Developing</th> <td>  -10.6036</td> <td>    1.872</td> <td>   -5.664</td> <td> 0.000</td> <td>  -14.310</td> <td>   -6.897</td>\n",
       "</tr>\n",
       "</table>\n",
       "<table class=\"simpletable\">\n",
       "<tr>\n",
       "  <th>Omnibus:</th>       <td> 2.973</td> <th>  Durbin-Watson:     </th> <td>   1.211</td>\n",
       "</tr>\n",
       "<tr>\n",
       "  <th>Prob(Omnibus):</th> <td> 0.226</td> <th>  Jarque-Bera (JB):  </th> <td>   2.635</td>\n",
       "</tr>\n",
       "<tr>\n",
       "  <th>Skew:</th>          <td>-0.355</td> <th>  Prob(JB):          </th> <td>   0.268</td>\n",
       "</tr>\n",
       "<tr>\n",
       "  <th>Kurtosis:</th>      <td> 3.077</td> <th>  Cond. No.          </th> <td>    946.</td>\n",
       "</tr>\n",
       "</table><br/><br/>Notes:<br/>[1] Standard Errors assume that the covariance matrix of the errors is correctly specified."
      ],
      "text/plain": [
       "<class 'statsmodels.iolib.summary.Summary'>\n",
       "\"\"\"\n",
       "                            OLS Regression Results                            \n",
       "==============================================================================\n",
       "Dep. Variable:               Expected   R-squared:                       0.321\n",
       "Model:                            OLS   Adj. R-squared:                  0.298\n",
       "Method:                 Least Squares   F-statistic:                     14.06\n",
       "Date:                Tue, 06 Sep 2022   Prob (F-statistic):           2.00e-09\n",
       "Time:                        15:29:15   Log-Likelihood:                -416.35\n",
       "No. Observations:                 124   AIC:                             842.7\n",
       "Df Residuals:                     119   BIC:                             856.8\n",
       "Df Model:                           4                                         \n",
       "Covariance Type:            nonrobust                                         \n",
       "=====================================================================================\n",
       "                        coef    std err          t      P>|t|      [0.025      0.975]\n",
       "-------------------------------------------------------------------------------------\n",
       "const                69.8090      3.771     18.512      0.000      62.342      77.276\n",
       "Hepatitis            -0.0035      0.063     -0.056      0.955      -0.128       0.121\n",
       "Polio                 0.0771      0.039      1.993      0.049       0.000       0.154\n",
       "Diphtheria            0.0456      0.076      0.602      0.548      -0.104       0.196\n",
       "Status_Developing   -10.6036      1.872     -5.664      0.000     -14.310      -6.897\n",
       "==============================================================================\n",
       "Omnibus:                        2.973   Durbin-Watson:                   1.211\n",
       "Prob(Omnibus):                  0.226   Jarque-Bera (JB):                2.635\n",
       "Skew:                          -0.355   Prob(JB):                        0.268\n",
       "Kurtosis:                       3.077   Cond. No.                         946.\n",
       "==============================================================================\n",
       "\n",
       "Notes:\n",
       "[1] Standard Errors assume that the covariance matrix of the errors is correctly specified.\n",
       "\"\"\""
      ]
     },
     "execution_count": 27,
     "metadata": {},
     "output_type": "execute_result"
    }
   ],
   "source": [
    "y = df['Expected']\n",
    "x = df2[['Hepatitis','Polio','Diphtheria','Status_Developing']]\n",
    "xc = sm.add_constant(x)\n",
    "model = sm.OLS(y,xc).fit()\n",
    "model.summary()"
   ]
  },
  {
   "cell_type": "code",
   "execution_count": 28,
   "metadata": {},
   "outputs": [
    {
     "data": {
      "text/html": [
       "<table class=\"simpletable\">\n",
       "<caption>OLS Regression Results</caption>\n",
       "<tr>\n",
       "  <th>Dep. Variable:</th>        <td>Expected</td>     <th>  R-squared:         </th> <td>   0.316</td>\n",
       "</tr>\n",
       "<tr>\n",
       "  <th>Model:</th>                   <td>OLS</td>       <th>  Adj. R-squared:    </th> <td>   0.304</td>\n",
       "</tr>\n",
       "<tr>\n",
       "  <th>Method:</th>             <td>Least Squares</td>  <th>  F-statistic:       </th> <td>   27.90</td>\n",
       "</tr>\n",
       "<tr>\n",
       "  <th>Date:</th>             <td>Tue, 06 Sep 2022</td> <th>  Prob (F-statistic):</th> <td>1.09e-10</td>\n",
       "</tr>\n",
       "<tr>\n",
       "  <th>Time:</th>                 <td>15:29:15</td>     <th>  Log-Likelihood:    </th> <td> -416.83</td>\n",
       "</tr>\n",
       "<tr>\n",
       "  <th>No. Observations:</th>      <td>   124</td>      <th>  AIC:               </th> <td>   839.7</td>\n",
       "</tr>\n",
       "<tr>\n",
       "  <th>Df Residuals:</th>          <td>   121</td>      <th>  BIC:               </th> <td>   848.1</td>\n",
       "</tr>\n",
       "<tr>\n",
       "  <th>Df Model:</th>              <td>     2</td>      <th>                     </th>     <td> </td>   \n",
       "</tr>\n",
       "<tr>\n",
       "  <th>Covariance Type:</th>      <td>nonrobust</td>    <th>                     </th>     <td> </td>   \n",
       "</tr>\n",
       "</table>\n",
       "<table class=\"simpletable\">\n",
       "<tr>\n",
       "          <td></td>             <th>coef</th>     <th>std err</th>      <th>t</th>      <th>P>|t|</th>  <th>[0.025</th>    <th>0.975]</th>  \n",
       "</tr>\n",
       "<tr>\n",
       "  <th>const</th>             <td>   71.6009</td> <td>    3.256</td> <td>   21.988</td> <td> 0.000</td> <td>   65.154</td> <td>   78.048</td>\n",
       "</tr>\n",
       "<tr>\n",
       "  <th>Polio</th>             <td>    0.1008</td> <td>    0.030</td> <td>    3.382</td> <td> 0.001</td> <td>    0.042</td> <td>    0.160</td>\n",
       "</tr>\n",
       "<tr>\n",
       "  <th>Status_Developing</th> <td>  -10.7587</td> <td>    1.784</td> <td>   -6.030</td> <td> 0.000</td> <td>  -14.291</td> <td>   -7.227</td>\n",
       "</tr>\n",
       "</table>\n",
       "<table class=\"simpletable\">\n",
       "<tr>\n",
       "  <th>Omnibus:</th>       <td> 3.123</td> <th>  Durbin-Watson:     </th> <td>   1.235</td>\n",
       "</tr>\n",
       "<tr>\n",
       "  <th>Prob(Omnibus):</th> <td> 0.210</td> <th>  Jarque-Bera (JB):  </th> <td>   2.859</td>\n",
       "</tr>\n",
       "<tr>\n",
       "  <th>Skew:</th>          <td>-0.372</td> <th>  Prob(JB):          </th> <td>   0.239</td>\n",
       "</tr>\n",
       "<tr>\n",
       "  <th>Kurtosis:</th>      <td> 3.024</td> <th>  Cond. No.          </th> <td>    487.</td>\n",
       "</tr>\n",
       "</table><br/><br/>Notes:<br/>[1] Standard Errors assume that the covariance matrix of the errors is correctly specified."
      ],
      "text/plain": [
       "<class 'statsmodels.iolib.summary.Summary'>\n",
       "\"\"\"\n",
       "                            OLS Regression Results                            \n",
       "==============================================================================\n",
       "Dep. Variable:               Expected   R-squared:                       0.316\n",
       "Model:                            OLS   Adj. R-squared:                  0.304\n",
       "Method:                 Least Squares   F-statistic:                     27.90\n",
       "Date:                Tue, 06 Sep 2022   Prob (F-statistic):           1.09e-10\n",
       "Time:                        15:29:15   Log-Likelihood:                -416.83\n",
       "No. Observations:                 124   AIC:                             839.7\n",
       "Df Residuals:                     121   BIC:                             848.1\n",
       "Df Model:                           2                                         \n",
       "Covariance Type:            nonrobust                                         \n",
       "=====================================================================================\n",
       "                        coef    std err          t      P>|t|      [0.025      0.975]\n",
       "-------------------------------------------------------------------------------------\n",
       "const                71.6009      3.256     21.988      0.000      65.154      78.048\n",
       "Polio                 0.1008      0.030      3.382      0.001       0.042       0.160\n",
       "Status_Developing   -10.7587      1.784     -6.030      0.000     -14.291      -7.227\n",
       "==============================================================================\n",
       "Omnibus:                        3.123   Durbin-Watson:                   1.235\n",
       "Prob(Omnibus):                  0.210   Jarque-Bera (JB):                2.859\n",
       "Skew:                          -0.372   Prob(JB):                        0.239\n",
       "Kurtosis:                       3.024   Cond. No.                         487.\n",
       "==============================================================================\n",
       "\n",
       "Notes:\n",
       "[1] Standard Errors assume that the covariance matrix of the errors is correctly specified.\n",
       "\"\"\""
      ]
     },
     "execution_count": 28,
     "metadata": {},
     "output_type": "execute_result"
    }
   ],
   "source": [
    "y = df['Expected']\n",
    "x = df2[['Polio','Status_Developing']]\n",
    "xc = sm.add_constant(x)\n",
    "model = sm.OLS(y,xc).fit()\n",
    "model.summary()"
   ]
  },
  {
   "cell_type": "code",
   "execution_count": 29,
   "metadata": {},
   "outputs": [],
   "source": [
    "#people in developing countries leave less than 10+years when compared to people in developed countries"
   ]
  },
  {
   "cell_type": "markdown",
   "metadata": {
    "id": "ixy0KTBKGT8f"
   },
   "source": [
    "<a id=\"ins\"> </a>\n",
    "## 3. Inferences about slope"
   ]
  },
  {
   "cell_type": "markdown",
   "metadata": {
    "collapsed": true,
    "id": "zckUqIHyGT8f"
   },
   "source": [
    "<table align=\"left\">\n",
    "    <tr>\n",
    "        <td width=\"6%\">\n",
    "            <img src=\"question_icon.png\">\n",
    "        </td>\n",
    "        <td>\n",
    "            <div align=\"left\", style=\"font-size:120%\">\n",
    "                <font color=\"#21618C\">\n",
    "                    <b>5. Find the significant variables in the full model when all the variables are considered for prediction of life expectancy.</b>\n",
    "                </font>\n",
    "            </div>\n",
    "        </td>\n",
    "    </tr>\n",
    "</table>"
   ]
  },
  {
   "cell_type": "code",
   "execution_count": 30,
   "metadata": {
    "id": "kfQGvgzkGT8g"
   },
   "outputs": [
    {
     "name": "stdout",
     "output_type": "stream",
     "text": [
      "<class 'pandas.core.frame.DataFrame'>\n",
      "RangeIndex: 124 entries, 0 to 123\n",
      "Data columns (total 18 columns):\n",
      " #   Column             Non-Null Count  Dtype  \n",
      "---  ------             --------------  -----  \n",
      " 0   Country            124 non-null    object \n",
      " 1   Adult_Mortality    124 non-null    int64  \n",
      " 2   Infant_Deaths      124 non-null    int64  \n",
      " 3   Hepatitis          124 non-null    int64  \n",
      " 4   Measles            124 non-null    int64  \n",
      " 5   BMI                124 non-null    float64\n",
      " 6   Underfive_Deaths   124 non-null    int64  \n",
      " 7   Polio              124 non-null    int64  \n",
      " 8   Diphtheria         124 non-null    int64  \n",
      " 9   HIV                124 non-null    float64\n",
      " 10  GDP                124 non-null    float64\n",
      " 11  Population         124 non-null    int64  \n",
      " 12  Malnourished10_19  124 non-null    float64\n",
      " 13  Malnourished5_9    124 non-null    float64\n",
      " 14  Income_Index       124 non-null    float64\n",
      " 15  Schooling          124 non-null    float64\n",
      " 16  Expected           124 non-null    float64\n",
      " 17  Status_Developing  124 non-null    uint8  \n",
      "dtypes: float64(8), int64(8), object(1), uint8(1)\n",
      "memory usage: 16.7+ KB\n"
     ]
    }
   ],
   "source": [
    "df2.info()"
   ]
  },
  {
   "cell_type": "code",
   "execution_count": 31,
   "metadata": {},
   "outputs": [],
   "source": [
    "df2 = df2.drop(['Country'],axis=1)"
   ]
  },
  {
   "cell_type": "code",
   "execution_count": 32,
   "metadata": {},
   "outputs": [
    {
     "data": {
      "text/html": [
       "<div>\n",
       "<style scoped>\n",
       "    .dataframe tbody tr th:only-of-type {\n",
       "        vertical-align: middle;\n",
       "    }\n",
       "\n",
       "    .dataframe tbody tr th {\n",
       "        vertical-align: top;\n",
       "    }\n",
       "\n",
       "    .dataframe thead th {\n",
       "        text-align: right;\n",
       "    }\n",
       "</style>\n",
       "<table border=\"1\" class=\"dataframe\">\n",
       "  <thead>\n",
       "    <tr style=\"text-align: right;\">\n",
       "      <th></th>\n",
       "      <th>Adult_Mortality</th>\n",
       "      <th>Infant_Deaths</th>\n",
       "      <th>Hepatitis</th>\n",
       "      <th>Measles</th>\n",
       "      <th>BMI</th>\n",
       "      <th>Underfive_Deaths</th>\n",
       "      <th>Polio</th>\n",
       "      <th>Diphtheria</th>\n",
       "      <th>HIV</th>\n",
       "      <th>GDP</th>\n",
       "      <th>Population</th>\n",
       "      <th>Malnourished10_19</th>\n",
       "      <th>Malnourished5_9</th>\n",
       "      <th>Income_Index</th>\n",
       "      <th>Schooling</th>\n",
       "      <th>Expected</th>\n",
       "      <th>Status_Developing</th>\n",
       "    </tr>\n",
       "  </thead>\n",
       "  <tbody>\n",
       "    <tr>\n",
       "      <th>0</th>\n",
       "      <td>263</td>\n",
       "      <td>62</td>\n",
       "      <td>65</td>\n",
       "      <td>1154</td>\n",
       "      <td>19.1</td>\n",
       "      <td>83</td>\n",
       "      <td>6</td>\n",
       "      <td>65</td>\n",
       "      <td>0.1</td>\n",
       "      <td>584.259210</td>\n",
       "      <td>33736494</td>\n",
       "      <td>17.2</td>\n",
       "      <td>17.3</td>\n",
       "      <td>0.479</td>\n",
       "      <td>10.1</td>\n",
       "      <td>65.0</td>\n",
       "      <td>1</td>\n",
       "    </tr>\n",
       "    <tr>\n",
       "      <th>1</th>\n",
       "      <td>8</td>\n",
       "      <td>0</td>\n",
       "      <td>98</td>\n",
       "      <td>0</td>\n",
       "      <td>57.2</td>\n",
       "      <td>1</td>\n",
       "      <td>98</td>\n",
       "      <td>98</td>\n",
       "      <td>0.1</td>\n",
       "      <td>4575.763787</td>\n",
       "      <td>288914</td>\n",
       "      <td>1.2</td>\n",
       "      <td>1.3</td>\n",
       "      <td>0.761</td>\n",
       "      <td>14.2</td>\n",
       "      <td>77.5</td>\n",
       "      <td>1</td>\n",
       "    </tr>\n",
       "    <tr>\n",
       "      <th>2</th>\n",
       "      <td>19</td>\n",
       "      <td>21</td>\n",
       "      <td>95</td>\n",
       "      <td>63</td>\n",
       "      <td>59.5</td>\n",
       "      <td>24</td>\n",
       "      <td>95</td>\n",
       "      <td>95</td>\n",
       "      <td>0.1</td>\n",
       "      <td>4132.762920</td>\n",
       "      <td>39871528</td>\n",
       "      <td>6.0</td>\n",
       "      <td>5.8</td>\n",
       "      <td>0.743</td>\n",
       "      <td>14.4</td>\n",
       "      <td>75.6</td>\n",
       "      <td>1</td>\n",
       "    </tr>\n",
       "    <tr>\n",
       "      <th>3</th>\n",
       "      <td>335</td>\n",
       "      <td>66</td>\n",
       "      <td>64</td>\n",
       "      <td>118</td>\n",
       "      <td>23.3</td>\n",
       "      <td>98</td>\n",
       "      <td>7</td>\n",
       "      <td>64</td>\n",
       "      <td>1.9</td>\n",
       "      <td>3695.793748</td>\n",
       "      <td>2785935</td>\n",
       "      <td>8.3</td>\n",
       "      <td>8.2</td>\n",
       "      <td>0.531</td>\n",
       "      <td>11.4</td>\n",
       "      <td>52.4</td>\n",
       "      <td>1</td>\n",
       "    </tr>\n",
       "    <tr>\n",
       "      <th>4</th>\n",
       "      <td>116</td>\n",
       "      <td>8</td>\n",
       "      <td>94</td>\n",
       "      <td>0</td>\n",
       "      <td>62.8</td>\n",
       "      <td>9</td>\n",
       "      <td>93</td>\n",
       "      <td>94</td>\n",
       "      <td>0.1</td>\n",
       "      <td>13467.123600</td>\n",
       "      <td>43417765</td>\n",
       "      <td>1.0</td>\n",
       "      <td>0.9</td>\n",
       "      <td>0.826</td>\n",
       "      <td>17.3</td>\n",
       "      <td>76.3</td>\n",
       "      <td>1</td>\n",
       "    </tr>\n",
       "    <tr>\n",
       "      <th>...</th>\n",
       "      <td>...</td>\n",
       "      <td>...</td>\n",
       "      <td>...</td>\n",
       "      <td>...</td>\n",
       "      <td>...</td>\n",
       "      <td>...</td>\n",
       "      <td>...</td>\n",
       "      <td>...</td>\n",
       "      <td>...</td>\n",
       "      <td>...</td>\n",
       "      <td>...</td>\n",
       "      <td>...</td>\n",
       "      <td>...</td>\n",
       "      <td>...</td>\n",
       "      <td>...</td>\n",
       "      <td>...</td>\n",
       "      <td>...</td>\n",
       "    </tr>\n",
       "    <tr>\n",
       "      <th>119</th>\n",
       "      <td>37</td>\n",
       "      <td>24</td>\n",
       "      <td>95</td>\n",
       "      <td>129</td>\n",
       "      <td>15.4</td>\n",
       "      <td>38</td>\n",
       "      <td>95</td>\n",
       "      <td>95</td>\n",
       "      <td>7.1</td>\n",
       "      <td>287.931877</td>\n",
       "      <td>8991735</td>\n",
       "      <td>6.8</td>\n",
       "      <td>7.0</td>\n",
       "      <td>0.388</td>\n",
       "      <td>8.8</td>\n",
       "      <td>55.3</td>\n",
       "      <td>1</td>\n",
       "    </tr>\n",
       "    <tr>\n",
       "      <th>120</th>\n",
       "      <td>397</td>\n",
       "      <td>26</td>\n",
       "      <td>89</td>\n",
       "      <td>386</td>\n",
       "      <td>14.9</td>\n",
       "      <td>42</td>\n",
       "      <td>89</td>\n",
       "      <td>89</td>\n",
       "      <td>7.7</td>\n",
       "      <td>236.911438</td>\n",
       "      <td>8818438</td>\n",
       "      <td>6.9</td>\n",
       "      <td>7.1</td>\n",
       "      <td>0.371</td>\n",
       "      <td>8.2</td>\n",
       "      <td>53.4</td>\n",
       "      <td>1</td>\n",
       "    </tr>\n",
       "    <tr>\n",
       "      <th>121</th>\n",
       "      <td>48</td>\n",
       "      <td>29</td>\n",
       "      <td>96</td>\n",
       "      <td>1064</td>\n",
       "      <td>14.5</td>\n",
       "      <td>46</td>\n",
       "      <td>96</td>\n",
       "      <td>96</td>\n",
       "      <td>8.1</td>\n",
       "      <td>212.661949</td>\n",
       "      <td>868346</td>\n",
       "      <td>7.0</td>\n",
       "      <td>7.3</td>\n",
       "      <td>0.359</td>\n",
       "      <td>7.6</td>\n",
       "      <td>52.0</td>\n",
       "      <td>1</td>\n",
       "    </tr>\n",
       "    <tr>\n",
       "      <th>122</th>\n",
       "      <td>415</td>\n",
       "      <td>31</td>\n",
       "      <td>88</td>\n",
       "      <td>2738</td>\n",
       "      <td>14.1</td>\n",
       "      <td>50</td>\n",
       "      <td>85</td>\n",
       "      <td>88</td>\n",
       "      <td>8.0</td>\n",
       "      <td>196.597780</td>\n",
       "      <td>853625</td>\n",
       "      <td>7.2</td>\n",
       "      <td>7.4</td>\n",
       "      <td>0.343</td>\n",
       "      <td>7.2</td>\n",
       "      <td>57.0</td>\n",
       "      <td>1</td>\n",
       "    </tr>\n",
       "    <tr>\n",
       "      <th>123</th>\n",
       "      <td>438</td>\n",
       "      <td>33</td>\n",
       "      <td>85</td>\n",
       "      <td>896</td>\n",
       "      <td>13.7</td>\n",
       "      <td>54</td>\n",
       "      <td>76</td>\n",
       "      <td>77</td>\n",
       "      <td>8.1</td>\n",
       "      <td>21.569654</td>\n",
       "      <td>832946</td>\n",
       "      <td>7.4</td>\n",
       "      <td>7.5</td>\n",
       "      <td>0.332</td>\n",
       "      <td>7.1</td>\n",
       "      <td>48.6</td>\n",
       "      <td>1</td>\n",
       "    </tr>\n",
       "  </tbody>\n",
       "</table>\n",
       "<p>124 rows × 17 columns</p>\n",
       "</div>"
      ],
      "text/plain": [
       "     Adult_Mortality  Infant_Deaths  Hepatitis  Measles   BMI  \\\n",
       "0                263             62         65     1154  19.1   \n",
       "1                  8              0         98        0  57.2   \n",
       "2                 19             21         95       63  59.5   \n",
       "3                335             66         64      118  23.3   \n",
       "4                116              8         94        0  62.8   \n",
       "..               ...            ...        ...      ...   ...   \n",
       "119               37             24         95      129  15.4   \n",
       "120              397             26         89      386  14.9   \n",
       "121               48             29         96     1064  14.5   \n",
       "122              415             31         88     2738  14.1   \n",
       "123              438             33         85      896  13.7   \n",
       "\n",
       "     Underfive_Deaths  Polio  Diphtheria  HIV           GDP  Population  \\\n",
       "0                  83      6          65  0.1    584.259210    33736494   \n",
       "1                   1     98          98  0.1   4575.763787      288914   \n",
       "2                  24     95          95  0.1   4132.762920    39871528   \n",
       "3                  98      7          64  1.9   3695.793748     2785935   \n",
       "4                   9     93          94  0.1  13467.123600    43417765   \n",
       "..                ...    ...         ...  ...           ...         ...   \n",
       "119                38     95          95  7.1    287.931877     8991735   \n",
       "120                42     89          89  7.7    236.911438     8818438   \n",
       "121                46     96          96  8.1    212.661949      868346   \n",
       "122                50     85          88  8.0    196.597780      853625   \n",
       "123                54     76          77  8.1     21.569654      832946   \n",
       "\n",
       "     Malnourished10_19  Malnourished5_9  Income_Index  Schooling  Expected  \\\n",
       "0                 17.2             17.3         0.479       10.1      65.0   \n",
       "1                  1.2              1.3         0.761       14.2      77.5   \n",
       "2                  6.0              5.8         0.743       14.4      75.6   \n",
       "3                  8.3              8.2         0.531       11.4      52.4   \n",
       "4                  1.0              0.9         0.826       17.3      76.3   \n",
       "..                 ...              ...           ...        ...       ...   \n",
       "119                6.8              7.0         0.388        8.8      55.3   \n",
       "120                6.9              7.1         0.371        8.2      53.4   \n",
       "121                7.0              7.3         0.359        7.6      52.0   \n",
       "122                7.2              7.4         0.343        7.2      57.0   \n",
       "123                7.4              7.5         0.332        7.1      48.6   \n",
       "\n",
       "     Status_Developing  \n",
       "0                    1  \n",
       "1                    1  \n",
       "2                    1  \n",
       "3                    1  \n",
       "4                    1  \n",
       "..                 ...  \n",
       "119                  1  \n",
       "120                  1  \n",
       "121                  1  \n",
       "122                  1  \n",
       "123                  1  \n",
       "\n",
       "[124 rows x 17 columns]"
      ]
     },
     "execution_count": 32,
     "metadata": {},
     "output_type": "execute_result"
    }
   ],
   "source": [
    "df2"
   ]
  },
  {
   "cell_type": "code",
   "execution_count": 33,
   "metadata": {},
   "outputs": [
    {
     "data": {
      "text/html": [
       "<table class=\"simpletable\">\n",
       "<caption>OLS Regression Results</caption>\n",
       "<tr>\n",
       "  <th>Dep. Variable:</th>        <td>Expected</td>     <th>  R-squared:         </th> <td>   0.848</td>\n",
       "</tr>\n",
       "<tr>\n",
       "  <th>Model:</th>                   <td>OLS</td>       <th>  Adj. R-squared:    </th> <td>   0.826</td>\n",
       "</tr>\n",
       "<tr>\n",
       "  <th>Method:</th>             <td>Least Squares</td>  <th>  F-statistic:       </th> <td>   37.43</td>\n",
       "</tr>\n",
       "<tr>\n",
       "  <th>Date:</th>             <td>Tue, 06 Sep 2022</td> <th>  Prob (F-statistic):</th> <td>1.94e-36</td>\n",
       "</tr>\n",
       "<tr>\n",
       "  <th>Time:</th>                 <td>15:29:15</td>     <th>  Log-Likelihood:    </th> <td> -323.38</td>\n",
       "</tr>\n",
       "<tr>\n",
       "  <th>No. Observations:</th>      <td>   124</td>      <th>  AIC:               </th> <td>   680.8</td>\n",
       "</tr>\n",
       "<tr>\n",
       "  <th>Df Residuals:</th>          <td>   107</td>      <th>  BIC:               </th> <td>   728.7</td>\n",
       "</tr>\n",
       "<tr>\n",
       "  <th>Df Model:</th>              <td>    16</td>      <th>                     </th>     <td> </td>   \n",
       "</tr>\n",
       "<tr>\n",
       "  <th>Covariance Type:</th>      <td>nonrobust</td>    <th>                     </th>     <td> </td>   \n",
       "</tr>\n",
       "</table>\n",
       "<table class=\"simpletable\">\n",
       "<tr>\n",
       "          <td></td>             <th>coef</th>     <th>std err</th>      <th>t</th>      <th>P>|t|</th>  <th>[0.025</th>    <th>0.975]</th>  \n",
       "</tr>\n",
       "<tr>\n",
       "  <th>const</th>             <td>   60.0678</td> <td>    3.747</td> <td>   16.030</td> <td> 0.000</td> <td>   52.639</td> <td>   67.496</td>\n",
       "</tr>\n",
       "<tr>\n",
       "  <th>Adult_Mortality</th>   <td>   -0.0231</td> <td>    0.004</td> <td>   -5.685</td> <td> 0.000</td> <td>   -0.031</td> <td>   -0.015</td>\n",
       "</tr>\n",
       "<tr>\n",
       "  <th>Infant_Deaths</th>     <td>    0.0556</td> <td>    0.037</td> <td>    1.507</td> <td> 0.135</td> <td>   -0.018</td> <td>    0.129</td>\n",
       "</tr>\n",
       "<tr>\n",
       "  <th>Hepatitis</th>         <td>    0.0656</td> <td>    0.032</td> <td>    2.056</td> <td> 0.042</td> <td>    0.002</td> <td>    0.129</td>\n",
       "</tr>\n",
       "<tr>\n",
       "  <th>Measles</th>           <td> -5.93e-05</td> <td> 6.09e-05</td> <td>   -0.974</td> <td> 0.332</td> <td>   -0.000</td> <td> 6.14e-05</td>\n",
       "</tr>\n",
       "<tr>\n",
       "  <th>BMI</th>               <td>   -0.0266</td> <td>    0.023</td> <td>   -1.179</td> <td> 0.241</td> <td>   -0.071</td> <td>    0.018</td>\n",
       "</tr>\n",
       "<tr>\n",
       "  <th>Underfive_Deaths</th>  <td>   -0.0389</td> <td>    0.027</td> <td>   -1.439</td> <td> 0.153</td> <td>   -0.093</td> <td>    0.015</td>\n",
       "</tr>\n",
       "<tr>\n",
       "  <th>Polio</th>             <td>   -0.0091</td> <td>    0.022</td> <td>   -0.417</td> <td> 0.677</td> <td>   -0.053</td> <td>    0.034</td>\n",
       "</tr>\n",
       "<tr>\n",
       "  <th>Diphtheria</th>        <td>   -0.0345</td> <td>    0.040</td> <td>   -0.868</td> <td> 0.387</td> <td>   -0.113</td> <td>    0.044</td>\n",
       "</tr>\n",
       "<tr>\n",
       "  <th>HIV</th>               <td>   -1.0385</td> <td>    0.268</td> <td>   -3.881</td> <td> 0.000</td> <td>   -1.569</td> <td>   -0.508</td>\n",
       "</tr>\n",
       "<tr>\n",
       "  <th>GDP</th>               <td> 5.021e-05</td> <td> 3.48e-05</td> <td>    1.445</td> <td> 0.151</td> <td>-1.87e-05</td> <td>    0.000</td>\n",
       "</tr>\n",
       "<tr>\n",
       "  <th>Population</th>        <td>-1.845e-08</td> <td>  8.6e-09</td> <td>   -2.146</td> <td> 0.034</td> <td>-3.55e-08</td> <td>-1.41e-09</td>\n",
       "</tr>\n",
       "<tr>\n",
       "  <th>Malnourished10_19</th> <td>   -0.4850</td> <td>    0.300</td> <td>   -1.616</td> <td> 0.109</td> <td>   -1.080</td> <td>    0.110</td>\n",
       "</tr>\n",
       "<tr>\n",
       "  <th>Malnourished5_9</th>   <td>    0.2983</td> <td>    0.283</td> <td>    1.053</td> <td> 0.294</td> <td>   -0.263</td> <td>    0.860</td>\n",
       "</tr>\n",
       "<tr>\n",
       "  <th>Income_Index</th>      <td>   18.6518</td> <td>    6.313</td> <td>    2.955</td> <td> 0.004</td> <td>    6.138</td> <td>   31.166</td>\n",
       "</tr>\n",
       "<tr>\n",
       "  <th>Schooling</th>         <td>    0.3599</td> <td>    0.346</td> <td>    1.040</td> <td> 0.301</td> <td>   -0.326</td> <td>    1.046</td>\n",
       "</tr>\n",
       "<tr>\n",
       "  <th>Status_Developing</th> <td>   -2.0360</td> <td>    1.168</td> <td>   -1.743</td> <td> 0.084</td> <td>   -4.352</td> <td>    0.280</td>\n",
       "</tr>\n",
       "</table>\n",
       "<table class=\"simpletable\">\n",
       "<tr>\n",
       "  <th>Omnibus:</th>       <td> 6.529</td> <th>  Durbin-Watson:     </th> <td>   1.754</td>\n",
       "</tr>\n",
       "<tr>\n",
       "  <th>Prob(Omnibus):</th> <td> 0.038</td> <th>  Jarque-Bera (JB):  </th> <td>  10.518</td>\n",
       "</tr>\n",
       "<tr>\n",
       "  <th>Skew:</th>          <td> 0.122</td> <th>  Prob(JB):          </th> <td> 0.00520</td>\n",
       "</tr>\n",
       "<tr>\n",
       "  <th>Kurtosis:</th>      <td> 4.406</td> <th>  Cond. No.          </th> <td>9.15e+08</td>\n",
       "</tr>\n",
       "</table><br/><br/>Notes:<br/>[1] Standard Errors assume that the covariance matrix of the errors is correctly specified.<br/>[2] The condition number is large, 9.15e+08. This might indicate that there are<br/>strong multicollinearity or other numerical problems."
      ],
      "text/plain": [
       "<class 'statsmodels.iolib.summary.Summary'>\n",
       "\"\"\"\n",
       "                            OLS Regression Results                            \n",
       "==============================================================================\n",
       "Dep. Variable:               Expected   R-squared:                       0.848\n",
       "Model:                            OLS   Adj. R-squared:                  0.826\n",
       "Method:                 Least Squares   F-statistic:                     37.43\n",
       "Date:                Tue, 06 Sep 2022   Prob (F-statistic):           1.94e-36\n",
       "Time:                        15:29:15   Log-Likelihood:                -323.38\n",
       "No. Observations:                 124   AIC:                             680.8\n",
       "Df Residuals:                     107   BIC:                             728.7\n",
       "Df Model:                          16                                         \n",
       "Covariance Type:            nonrobust                                         \n",
       "=====================================================================================\n",
       "                        coef    std err          t      P>|t|      [0.025      0.975]\n",
       "-------------------------------------------------------------------------------------\n",
       "const                60.0678      3.747     16.030      0.000      52.639      67.496\n",
       "Adult_Mortality      -0.0231      0.004     -5.685      0.000      -0.031      -0.015\n",
       "Infant_Deaths         0.0556      0.037      1.507      0.135      -0.018       0.129\n",
       "Hepatitis             0.0656      0.032      2.056      0.042       0.002       0.129\n",
       "Measles            -5.93e-05   6.09e-05     -0.974      0.332      -0.000    6.14e-05\n",
       "BMI                  -0.0266      0.023     -1.179      0.241      -0.071       0.018\n",
       "Underfive_Deaths     -0.0389      0.027     -1.439      0.153      -0.093       0.015\n",
       "Polio                -0.0091      0.022     -0.417      0.677      -0.053       0.034\n",
       "Diphtheria           -0.0345      0.040     -0.868      0.387      -0.113       0.044\n",
       "HIV                  -1.0385      0.268     -3.881      0.000      -1.569      -0.508\n",
       "GDP                5.021e-05   3.48e-05      1.445      0.151   -1.87e-05       0.000\n",
       "Population        -1.845e-08    8.6e-09     -2.146      0.034   -3.55e-08   -1.41e-09\n",
       "Malnourished10_19    -0.4850      0.300     -1.616      0.109      -1.080       0.110\n",
       "Malnourished5_9       0.2983      0.283      1.053      0.294      -0.263       0.860\n",
       "Income_Index         18.6518      6.313      2.955      0.004       6.138      31.166\n",
       "Schooling             0.3599      0.346      1.040      0.301      -0.326       1.046\n",
       "Status_Developing    -2.0360      1.168     -1.743      0.084      -4.352       0.280\n",
       "==============================================================================\n",
       "Omnibus:                        6.529   Durbin-Watson:                   1.754\n",
       "Prob(Omnibus):                  0.038   Jarque-Bera (JB):               10.518\n",
       "Skew:                           0.122   Prob(JB):                      0.00520\n",
       "Kurtosis:                       4.406   Cond. No.                     9.15e+08\n",
       "==============================================================================\n",
       "\n",
       "Notes:\n",
       "[1] Standard Errors assume that the covariance matrix of the errors is correctly specified.\n",
       "[2] The condition number is large, 9.15e+08. This might indicate that there are\n",
       "strong multicollinearity or other numerical problems.\n",
       "\"\"\""
      ]
     },
     "execution_count": 33,
     "metadata": {},
     "output_type": "execute_result"
    }
   ],
   "source": [
    "y = df['Expected']\n",
    "x = df2.drop(['Expected'],axis=1)\n",
    "xc = sm.add_constant(x)\n",
    "model = sm.OLS(y,xc).fit()\n",
    "model.summary()"
   ]
  },
  {
   "cell_type": "code",
   "execution_count": 34,
   "metadata": {},
   "outputs": [
    {
     "name": "stdout",
     "output_type": "stream",
     "text": [
      "probability: 0.6773527493356807 var removed: Polio\n",
      "probability: 0.3457409455857485 var removed: Measles\n",
      "probability: 0.48054865417630765 var removed: Malnourished5_9\n",
      "probability: 0.3691956242261356 var removed: Schooling\n",
      "probability: 0.2451478004847828 var removed: BMI\n",
      "probability: 0.24544239053022385 var removed: Diphtheria\n",
      "probability: 0.20549102659779192 var removed: Infant_Deaths\n",
      "probability: 0.6435739505555522 var removed: Underfive_Deaths\n",
      "probability: 0.2198958593631744 var removed: Malnourished10_19\n",
      "probability: 0.1668776168582538 var removed: GDP\n"
     ]
    },
    {
     "data": {
      "text/plain": [
       "Index(['const', 'Adult_Mortality', 'Hepatitis', 'HIV', 'Population',\n",
       "       'Income_Index', 'Status_Developing'],\n",
       "      dtype='object')"
      ]
     },
     "execution_count": 34,
     "metadata": {},
     "output_type": "execute_result"
    }
   ],
   "source": [
    "#backward elimination\n",
    "\n",
    "cols = xc.columns\n",
    "\n",
    "while len(cols)>1:\n",
    "    x2 = xc[cols]\n",
    "    model = sm.OLS(y,x2).fit()\n",
    "    p = model.pvalues\n",
    "    pmax = p.max()\n",
    "    pmax_id = p.idxmax()\n",
    "    if pmax > 0.05:\n",
    "        cols = cols.drop(pmax_id)\n",
    "        print('probability:',pmax,'var removed:',pmax_id)\n",
    "    else:\n",
    "        break\n",
    "cols"
   ]
  },
  {
   "cell_type": "markdown",
   "metadata": {
    "collapsed": true,
    "id": "9Px9OgnSGT8g"
   },
   "source": [
    "<table align=\"left\">\n",
    "    <tr>\n",
    "        <td width=\"6%\">\n",
    "            <img src=\"question_icon.png\">\n",
    "        </td>\n",
    "        <td>\n",
    "            <div align=\"left\", style=\"font-size:120%\">\n",
    "                <font color=\"#21618C\">\n",
    "                    <b>6. If economic indices are used to predict the life expectancy, calculate the total variation for the observed values of life expectancy.</b>\n",
    "                </font>\n",
    "            </div>\n",
    "        </td>\n",
    "    </tr>\n",
    "</table>"
   ]
  },
  {
   "cell_type": "code",
   "execution_count": 35,
   "metadata": {
    "id": "bkRLRHs9GT8h"
   },
   "outputs": [
    {
     "data": {
      "text/plain": [
       "Index(['Country', 'Status', 'Adult_Mortality', 'Infant_Deaths', 'Hepatitis',\n",
       "       'Measles', 'BMI', 'Underfive_Deaths', 'Polio', 'Diphtheria', 'HIV',\n",
       "       'GDP', 'Population', 'Malnourished10_19', 'Malnourished5_9',\n",
       "       'Income_Index', 'Schooling', 'Expected'],\n",
       "      dtype='object')"
      ]
     },
     "execution_count": 35,
     "metadata": {},
     "output_type": "execute_result"
    }
   ],
   "source": [
    "df.columns"
   ]
  },
  {
   "cell_type": "code",
   "execution_count": 54,
   "metadata": {},
   "outputs": [
    {
     "data": {
      "text/html": [
       "<table class=\"simpletable\">\n",
       "<caption>OLS Regression Results</caption>\n",
       "<tr>\n",
       "  <th>Dep. Variable:</th>        <td>Expected</td>     <th>  R-squared:         </th> <td>   0.713</td>\n",
       "</tr>\n",
       "<tr>\n",
       "  <th>Model:</th>                   <td>OLS</td>       <th>  Adj. R-squared:    </th> <td>   0.709</td>\n",
       "</tr>\n",
       "<tr>\n",
       "  <th>Method:</th>             <td>Least Squares</td>  <th>  F-statistic:       </th> <td>   150.6</td>\n",
       "</tr>\n",
       "<tr>\n",
       "  <th>Date:</th>             <td>Tue, 06 Sep 2022</td> <th>  Prob (F-statistic):</th> <td>1.44e-33</td>\n",
       "</tr>\n",
       "<tr>\n",
       "  <th>Time:</th>                 <td>15:34:01</td>     <th>  Log-Likelihood:    </th> <td> -362.85</td>\n",
       "</tr>\n",
       "<tr>\n",
       "  <th>No. Observations:</th>      <td>   124</td>      <th>  AIC:               </th> <td>   731.7</td>\n",
       "</tr>\n",
       "<tr>\n",
       "  <th>Df Residuals:</th>          <td>   121</td>      <th>  BIC:               </th> <td>   740.2</td>\n",
       "</tr>\n",
       "<tr>\n",
       "  <th>Df Model:</th>              <td>     2</td>      <th>                     </th>     <td> </td>   \n",
       "</tr>\n",
       "<tr>\n",
       "  <th>Covariance Type:</th>      <td>nonrobust</td>    <th>                     </th>     <td> </td>   \n",
       "</tr>\n",
       "</table>\n",
       "<table class=\"simpletable\">\n",
       "<tr>\n",
       "        <td></td>          <th>coef</th>     <th>std err</th>      <th>t</th>      <th>P>|t|</th>  <th>[0.025</th>    <th>0.975]</th>  \n",
       "</tr>\n",
       "<tr>\n",
       "  <th>const</th>        <td>   42.6132</td> <td>    1.865</td> <td>   22.848</td> <td> 0.000</td> <td>   38.921</td> <td>   46.306</td>\n",
       "</tr>\n",
       "<tr>\n",
       "  <th>GDP</th>          <td> 4.515e-05</td> <td> 4.36e-05</td> <td>    1.034</td> <td> 0.303</td> <td>-4.13e-05</td> <td>    0.000</td>\n",
       "</tr>\n",
       "<tr>\n",
       "  <th>Income_Index</th> <td>   40.9705</td> <td>    2.823</td> <td>   14.512</td> <td> 0.000</td> <td>   35.381</td> <td>   46.560</td>\n",
       "</tr>\n",
       "</table>\n",
       "<table class=\"simpletable\">\n",
       "<tr>\n",
       "  <th>Omnibus:</th>       <td> 9.157</td> <th>  Durbin-Watson:     </th> <td>   1.349</td>\n",
       "</tr>\n",
       "<tr>\n",
       "  <th>Prob(Omnibus):</th> <td> 0.010</td> <th>  Jarque-Bera (JB):  </th> <td>  16.954</td>\n",
       "</tr>\n",
       "<tr>\n",
       "  <th>Skew:</th>          <td> 0.232</td> <th>  Prob(JB):          </th> <td>0.000208</td>\n",
       "</tr>\n",
       "<tr>\n",
       "  <th>Kurtosis:</th>      <td> 4.751</td> <th>  Cond. No.          </th> <td>1.05e+05</td>\n",
       "</tr>\n",
       "</table><br/><br/>Notes:<br/>[1] Standard Errors assume that the covariance matrix of the errors is correctly specified.<br/>[2] The condition number is large, 1.05e+05. This might indicate that there are<br/>strong multicollinearity or other numerical problems."
      ],
      "text/plain": [
       "<class 'statsmodels.iolib.summary.Summary'>\n",
       "\"\"\"\n",
       "                            OLS Regression Results                            \n",
       "==============================================================================\n",
       "Dep. Variable:               Expected   R-squared:                       0.713\n",
       "Model:                            OLS   Adj. R-squared:                  0.709\n",
       "Method:                 Least Squares   F-statistic:                     150.6\n",
       "Date:                Tue, 06 Sep 2022   Prob (F-statistic):           1.44e-33\n",
       "Time:                        15:34:01   Log-Likelihood:                -362.85\n",
       "No. Observations:                 124   AIC:                             731.7\n",
       "Df Residuals:                     121   BIC:                             740.2\n",
       "Df Model:                           2                                         \n",
       "Covariance Type:            nonrobust                                         \n",
       "================================================================================\n",
       "                   coef    std err          t      P>|t|      [0.025      0.975]\n",
       "--------------------------------------------------------------------------------\n",
       "const           42.6132      1.865     22.848      0.000      38.921      46.306\n",
       "GDP           4.515e-05   4.36e-05      1.034      0.303   -4.13e-05       0.000\n",
       "Income_Index    40.9705      2.823     14.512      0.000      35.381      46.560\n",
       "==============================================================================\n",
       "Omnibus:                        9.157   Durbin-Watson:                   1.349\n",
       "Prob(Omnibus):                  0.010   Jarque-Bera (JB):               16.954\n",
       "Skew:                           0.232   Prob(JB):                     0.000208\n",
       "Kurtosis:                       4.751   Cond. No.                     1.05e+05\n",
       "==============================================================================\n",
       "\n",
       "Notes:\n",
       "[1] Standard Errors assume that the covariance matrix of the errors is correctly specified.\n",
       "[2] The condition number is large, 1.05e+05. This might indicate that there are\n",
       "strong multicollinearity or other numerical problems.\n",
       "\"\"\""
      ]
     },
     "execution_count": 54,
     "metadata": {},
     "output_type": "execute_result"
    }
   ],
   "source": [
    "x = df2[['GDP','Income_Index']]\n",
    "y = df2['Expected']\n",
    "xc = sm.add_constant(x)\n",
    "model = sm.OLS(y,xc).fit()\n",
    "model.summary()"
   ]
  },
  {
   "cell_type": "code",
   "execution_count": 55,
   "metadata": {},
   "outputs": [],
   "source": [
    "#sst = y - y_bar"
   ]
  },
  {
   "cell_type": "code",
   "execution_count": 57,
   "metadata": {},
   "outputs": [
    {
     "name": "stdout",
     "output_type": "stream",
     "text": [
      "total_variance 8819.805483870936\n"
     ]
    }
   ],
   "source": [
    "y_pred = model.predict(xc)\n",
    "\n",
    "\n",
    "sse = np.sum((y-y_pred)**2)\n",
    "ssr=np.sum((y_pred-y.mean())**2)\n",
    "\n",
    "sst = sse+ssr\n",
    "\n",
    "print(\"total_variance\",sst)"
   ]
  },
  {
   "cell_type": "code",
   "execution_count": null,
   "metadata": {},
   "outputs": [],
   "source": []
  },
  {
   "cell_type": "markdown",
   "metadata": {
    "collapsed": true,
    "id": "OO-K8PrvGT8h"
   },
   "source": [
    "<table align=\"left\">\n",
    "    <tr>\n",
    "        <td width=\"6%\">\n",
    "            <img src=\"question_icon.png\">\n",
    "        </td>\n",
    "        <td>\n",
    "            <div align=\"left\", style=\"font-size:120%\">\n",
    "                <font color=\"#21618C\">\n",
    "                    <b>7. Determine the lower bound and upper bound for estimated value of life expectancy per unit change in HDI (for income)</b>\n",
    "                </font>\n",
    "            </div>\n",
    "        </td>\n",
    "    </tr>\n",
    "</table>"
   ]
  },
  {
   "cell_type": "code",
   "execution_count": null,
   "metadata": {},
   "outputs": [],
   "source": []
  },
  {
   "cell_type": "code",
   "execution_count": 58,
   "metadata": {
    "id": "CuWU4wx3GT8i"
   },
   "outputs": [
    {
     "data": {
      "text/plain": [
       "Index(['Adult_Mortality', 'Infant_Deaths', 'Hepatitis', 'Measles', 'BMI',\n",
       "       'Underfive_Deaths', 'Polio', 'Diphtheria', 'HIV', 'GDP', 'Population',\n",
       "       'Malnourished10_19', 'Malnourished5_9', 'Income_Index', 'Schooling',\n",
       "       'Expected', 'Status_Developing'],\n",
       "      dtype='object')"
      ]
     },
     "execution_count": 58,
     "metadata": {},
     "output_type": "execute_result"
    }
   ],
   "source": [
    "df2.columns"
   ]
  },
  {
   "cell_type": "code",
   "execution_count": 61,
   "metadata": {},
   "outputs": [
    {
     "data": {
      "text/html": [
       "<table class=\"simpletable\">\n",
       "<caption>OLS Regression Results</caption>\n",
       "<tr>\n",
       "  <th>Dep. Variable:</th>        <td>Expected</td>     <th>  R-squared:         </th> <td>   0.711</td>\n",
       "</tr>\n",
       "<tr>\n",
       "  <th>Model:</th>                   <td>OLS</td>       <th>  Adj. R-squared:    </th> <td>   0.709</td>\n",
       "</tr>\n",
       "<tr>\n",
       "  <th>Method:</th>             <td>Least Squares</td>  <th>  F-statistic:       </th> <td>   300.0</td>\n",
       "</tr>\n",
       "<tr>\n",
       "  <th>Date:</th>             <td>Tue, 06 Sep 2022</td> <th>  Prob (F-statistic):</th> <td>1.13e-34</td>\n",
       "</tr>\n",
       "<tr>\n",
       "  <th>Time:</th>                 <td>15:43:09</td>     <th>  Log-Likelihood:    </th> <td> -363.40</td>\n",
       "</tr>\n",
       "<tr>\n",
       "  <th>No. Observations:</th>      <td>   124</td>      <th>  AIC:               </th> <td>   730.8</td>\n",
       "</tr>\n",
       "<tr>\n",
       "  <th>Df Residuals:</th>          <td>   122</td>      <th>  BIC:               </th> <td>   736.4</td>\n",
       "</tr>\n",
       "<tr>\n",
       "  <th>Df Model:</th>              <td>     1</td>      <th>                     </th>     <td> </td>   \n",
       "</tr>\n",
       "<tr>\n",
       "  <th>Covariance Type:</th>      <td>nonrobust</td>    <th>                     </th>     <td> </td>   \n",
       "</tr>\n",
       "</table>\n",
       "<table class=\"simpletable\">\n",
       "<tr>\n",
       "        <td></td>          <th>coef</th>     <th>std err</th>      <th>t</th>      <th>P>|t|</th>  <th>[0.025</th>    <th>0.975]</th>  \n",
       "</tr>\n",
       "<tr>\n",
       "  <th>const</th>        <td>   41.9191</td> <td>    1.741</td> <td>   24.081</td> <td> 0.000</td> <td>   38.473</td> <td>   45.365</td>\n",
       "</tr>\n",
       "<tr>\n",
       "  <th>Income_Index</th> <td>   42.4243</td> <td>    2.449</td> <td>   17.322</td> <td> 0.000</td> <td>   37.576</td> <td>   47.273</td>\n",
       "</tr>\n",
       "</table>\n",
       "<table class=\"simpletable\">\n",
       "<tr>\n",
       "  <th>Omnibus:</th>       <td>11.870</td> <th>  Durbin-Watson:     </th> <td>   1.355</td>\n",
       "</tr>\n",
       "<tr>\n",
       "  <th>Prob(Omnibus):</th> <td> 0.003</td> <th>  Jarque-Bera (JB):  </th> <td>  26.475</td>\n",
       "</tr>\n",
       "<tr>\n",
       "  <th>Skew:</th>          <td> 0.280</td> <th>  Prob(JB):          </th> <td>1.78e-06</td>\n",
       "</tr>\n",
       "<tr>\n",
       "  <th>Kurtosis:</th>      <td> 5.193</td> <th>  Cond. No.          </th> <td>    8.87</td>\n",
       "</tr>\n",
       "</table><br/><br/>Notes:<br/>[1] Standard Errors assume that the covariance matrix of the errors is correctly specified."
      ],
      "text/plain": [
       "<class 'statsmodels.iolib.summary.Summary'>\n",
       "\"\"\"\n",
       "                            OLS Regression Results                            \n",
       "==============================================================================\n",
       "Dep. Variable:               Expected   R-squared:                       0.711\n",
       "Model:                            OLS   Adj. R-squared:                  0.709\n",
       "Method:                 Least Squares   F-statistic:                     300.0\n",
       "Date:                Tue, 06 Sep 2022   Prob (F-statistic):           1.13e-34\n",
       "Time:                        15:43:09   Log-Likelihood:                -363.40\n",
       "No. Observations:                 124   AIC:                             730.8\n",
       "Df Residuals:                     122   BIC:                             736.4\n",
       "Df Model:                           1                                         \n",
       "Covariance Type:            nonrobust                                         \n",
       "================================================================================\n",
       "                   coef    std err          t      P>|t|      [0.025      0.975]\n",
       "--------------------------------------------------------------------------------\n",
       "const           41.9191      1.741     24.081      0.000      38.473      45.365\n",
       "Income_Index    42.4243      2.449     17.322      0.000      37.576      47.273\n",
       "==============================================================================\n",
       "Omnibus:                       11.870   Durbin-Watson:                   1.355\n",
       "Prob(Omnibus):                  0.003   Jarque-Bera (JB):               26.475\n",
       "Skew:                           0.280   Prob(JB):                     1.78e-06\n",
       "Kurtosis:                       5.193   Cond. No.                         8.87\n",
       "==============================================================================\n",
       "\n",
       "Notes:\n",
       "[1] Standard Errors assume that the covariance matrix of the errors is correctly specified.\n",
       "\"\"\""
      ]
     },
     "execution_count": 61,
     "metadata": {},
     "output_type": "execute_result"
    }
   ],
   "source": [
    "x = df2[['Income_Index']]\n",
    "y = df2['Expected']\n",
    "xc = sm.add_constant(x)\n",
    "model = sm.OLS(y,xc).fit()\n",
    "model.summary()"
   ]
  },
  {
   "cell_type": "code",
   "execution_count": 62,
   "metadata": {},
   "outputs": [
    {
     "data": {
      "text/html": [
       "<div>\n",
       "<style scoped>\n",
       "    .dataframe tbody tr th:only-of-type {\n",
       "        vertical-align: middle;\n",
       "    }\n",
       "\n",
       "    .dataframe tbody tr th {\n",
       "        vertical-align: top;\n",
       "    }\n",
       "\n",
       "    .dataframe thead th {\n",
       "        text-align: right;\n",
       "    }\n",
       "</style>\n",
       "<table border=\"1\" class=\"dataframe\">\n",
       "  <thead>\n",
       "    <tr style=\"text-align: right;\">\n",
       "      <th></th>\n",
       "      <th>0</th>\n",
       "      <th>1</th>\n",
       "    </tr>\n",
       "  </thead>\n",
       "  <tbody>\n",
       "    <tr>\n",
       "      <th>const</th>\n",
       "      <td>38.473158</td>\n",
       "      <td>45.365105</td>\n",
       "    </tr>\n",
       "    <tr>\n",
       "      <th>Income_Index</th>\n",
       "      <td>37.575806</td>\n",
       "      <td>47.272760</td>\n",
       "    </tr>\n",
       "  </tbody>\n",
       "</table>\n",
       "</div>"
      ],
      "text/plain": [
       "                      0          1\n",
       "const         38.473158  45.365105\n",
       "Income_Index  37.575806  47.272760"
      ]
     },
     "execution_count": 62,
     "metadata": {},
     "output_type": "execute_result"
    }
   ],
   "source": [
    "model.conf_int()"
   ]
  },
  {
   "cell_type": "code",
   "execution_count": null,
   "metadata": {},
   "outputs": [],
   "source": [
    "#37.575806\t    47.272760"
   ]
  },
  {
   "cell_type": "code",
   "execution_count": null,
   "metadata": {},
   "outputs": [],
   "source": []
  },
  {
   "cell_type": "code",
   "execution_count": null,
   "metadata": {},
   "outputs": [],
   "source": []
  },
  {
   "cell_type": "code",
   "execution_count": null,
   "metadata": {},
   "outputs": [],
   "source": []
  },
  {
   "cell_type": "markdown",
   "metadata": {
    "id": "B8OmzXM1GT8i"
   },
   "source": [
    "<a id=\"ML_eval\"> </a>\n",
    "## 4. Model Evaluation"
   ]
  },
  {
   "cell_type": "markdown",
   "metadata": {
    "collapsed": true,
    "id": "rEvt1TAXGT8j"
   },
   "source": [
    "<table align=\"left\">\n",
    "    <tr>\n",
    "        <td width=\"6%\">\n",
    "            <img src=\"question_icon.png\">\n",
    "        </td>\n",
    "        <td>\n",
    "            <div align=\"left\", style=\"font-size:120%\">\n",
    "                <font color=\"#21618C\">\n",
    "                    <b>8. A model is built to analyze the impact of mortality on Life expectancy. Would the addition of information about population of the country lead to a better prediction?</b>\n",
    "                </font>\n",
    "            </div>\n",
    "        </td>\n",
    "    </tr>\n",
    "</table>"
   ]
  },
  {
   "cell_type": "code",
   "execution_count": 67,
   "metadata": {
    "id": "znUwZhZvGT8j"
   },
   "outputs": [
    {
     "data": {
      "text/html": [
       "<table class=\"simpletable\">\n",
       "<caption>OLS Regression Results</caption>\n",
       "<tr>\n",
       "  <th>Dep. Variable:</th>        <td>Expected</td>     <th>  R-squared:         </th> <td>   0.530</td>\n",
       "</tr>\n",
       "<tr>\n",
       "  <th>Model:</th>                   <td>OLS</td>       <th>  Adj. R-squared:    </th> <td>   0.519</td>\n",
       "</tr>\n",
       "<tr>\n",
       "  <th>Method:</th>             <td>Least Squares</td>  <th>  F-statistic:       </th> <td>   45.18</td>\n",
       "</tr>\n",
       "<tr>\n",
       "  <th>Date:</th>             <td>Tue, 06 Sep 2022</td> <th>  Prob (F-statistic):</th> <td>1.29e-19</td>\n",
       "</tr>\n",
       "<tr>\n",
       "  <th>Time:</th>                 <td>15:49:37</td>     <th>  Log-Likelihood:    </th> <td> -393.48</td>\n",
       "</tr>\n",
       "<tr>\n",
       "  <th>No. Observations:</th>      <td>   124</td>      <th>  AIC:               </th> <td>   795.0</td>\n",
       "</tr>\n",
       "<tr>\n",
       "  <th>Df Residuals:</th>          <td>   120</td>      <th>  BIC:               </th> <td>   806.2</td>\n",
       "</tr>\n",
       "<tr>\n",
       "  <th>Df Model:</th>              <td>     3</td>      <th>                     </th>     <td> </td>   \n",
       "</tr>\n",
       "<tr>\n",
       "  <th>Covariance Type:</th>      <td>nonrobust</td>    <th>                     </th>     <td> </td>   \n",
       "</tr>\n",
       "</table>\n",
       "<table class=\"simpletable\">\n",
       "<tr>\n",
       "          <td></td>            <th>coef</th>     <th>std err</th>      <th>t</th>      <th>P>|t|</th>  <th>[0.025</th>    <th>0.975]</th>  \n",
       "</tr>\n",
       "<tr>\n",
       "  <th>const</th>            <td>   80.3623</td> <td>    1.004</td> <td>   80.060</td> <td> 0.000</td> <td>   78.375</td> <td>   82.350</td>\n",
       "</tr>\n",
       "<tr>\n",
       "  <th>Adult_Mortality</th>  <td>   -0.0548</td> <td>    0.005</td> <td>   -9.996</td> <td> 0.000</td> <td>   -0.066</td> <td>   -0.044</td>\n",
       "</tr>\n",
       "<tr>\n",
       "  <th>Infant_Deaths</th>    <td>    0.0905</td> <td>    0.049</td> <td>    1.844</td> <td> 0.068</td> <td>   -0.007</td> <td>    0.188</td>\n",
       "</tr>\n",
       "<tr>\n",
       "  <th>Underfive_Deaths</th> <td>   -0.0775</td> <td>    0.038</td> <td>   -2.033</td> <td> 0.044</td> <td>   -0.153</td> <td>   -0.002</td>\n",
       "</tr>\n",
       "</table>\n",
       "<table class=\"simpletable\">\n",
       "<tr>\n",
       "  <th>Omnibus:</th>       <td>54.244</td> <th>  Durbin-Watson:     </th> <td>   1.530</td>\n",
       "</tr>\n",
       "<tr>\n",
       "  <th>Prob(Omnibus):</th> <td> 0.000</td> <th>  Jarque-Bera (JB):  </th> <td> 142.185</td>\n",
       "</tr>\n",
       "<tr>\n",
       "  <th>Skew:</th>          <td>-1.734</td> <th>  Prob(JB):          </th> <td>1.33e-31</td>\n",
       "</tr>\n",
       "<tr>\n",
       "  <th>Kurtosis:</th>      <td> 6.937</td> <th>  Cond. No.          </th> <td>    392.</td>\n",
       "</tr>\n",
       "</table><br/><br/>Notes:<br/>[1] Standard Errors assume that the covariance matrix of the errors is correctly specified."
      ],
      "text/plain": [
       "<class 'statsmodels.iolib.summary.Summary'>\n",
       "\"\"\"\n",
       "                            OLS Regression Results                            \n",
       "==============================================================================\n",
       "Dep. Variable:               Expected   R-squared:                       0.530\n",
       "Model:                            OLS   Adj. R-squared:                  0.519\n",
       "Method:                 Least Squares   F-statistic:                     45.18\n",
       "Date:                Tue, 06 Sep 2022   Prob (F-statistic):           1.29e-19\n",
       "Time:                        15:49:37   Log-Likelihood:                -393.48\n",
       "No. Observations:                 124   AIC:                             795.0\n",
       "Df Residuals:                     120   BIC:                             806.2\n",
       "Df Model:                           3                                         \n",
       "Covariance Type:            nonrobust                                         \n",
       "====================================================================================\n",
       "                       coef    std err          t      P>|t|      [0.025      0.975]\n",
       "------------------------------------------------------------------------------------\n",
       "const               80.3623      1.004     80.060      0.000      78.375      82.350\n",
       "Adult_Mortality     -0.0548      0.005     -9.996      0.000      -0.066      -0.044\n",
       "Infant_Deaths        0.0905      0.049      1.844      0.068      -0.007       0.188\n",
       "Underfive_Deaths    -0.0775      0.038     -2.033      0.044      -0.153      -0.002\n",
       "==============================================================================\n",
       "Omnibus:                       54.244   Durbin-Watson:                   1.530\n",
       "Prob(Omnibus):                  0.000   Jarque-Bera (JB):              142.185\n",
       "Skew:                          -1.734   Prob(JB):                     1.33e-31\n",
       "Kurtosis:                       6.937   Cond. No.                         392.\n",
       "==============================================================================\n",
       "\n",
       "Notes:\n",
       "[1] Standard Errors assume that the covariance matrix of the errors is correctly specified.\n",
       "\"\"\""
      ]
     },
     "execution_count": 67,
     "metadata": {},
     "output_type": "execute_result"
    }
   ],
   "source": [
    "x = df2[['Adult_Mortality','Infant_Deaths','Underfive_Deaths']]\n",
    "y = df2['Expected']\n",
    "xc = sm.add_constant(x)\n",
    "model = sm.OLS(y,xc).fit()\n",
    "model.summary()"
   ]
  },
  {
   "cell_type": "code",
   "execution_count": 69,
   "metadata": {},
   "outputs": [
    {
     "data": {
      "text/html": [
       "<table class=\"simpletable\">\n",
       "<caption>OLS Regression Results</caption>\n",
       "<tr>\n",
       "  <th>Dep. Variable:</th>        <td>Expected</td>     <th>  R-squared:         </th> <td>   0.517</td>\n",
       "</tr>\n",
       "<tr>\n",
       "  <th>Model:</th>                   <td>OLS</td>       <th>  Adj. R-squared:    </th> <td>   0.509</td>\n",
       "</tr>\n",
       "<tr>\n",
       "  <th>Method:</th>             <td>Least Squares</td>  <th>  F-statistic:       </th> <td>   64.79</td>\n",
       "</tr>\n",
       "<tr>\n",
       "  <th>Date:</th>             <td>Tue, 06 Sep 2022</td> <th>  Prob (F-statistic):</th> <td>7.45e-20</td>\n",
       "</tr>\n",
       "<tr>\n",
       "  <th>Time:</th>                 <td>15:50:17</td>     <th>  Log-Likelihood:    </th> <td> -395.21</td>\n",
       "</tr>\n",
       "<tr>\n",
       "  <th>No. Observations:</th>      <td>   124</td>      <th>  AIC:               </th> <td>   796.4</td>\n",
       "</tr>\n",
       "<tr>\n",
       "  <th>Df Residuals:</th>          <td>   121</td>      <th>  BIC:               </th> <td>   804.9</td>\n",
       "</tr>\n",
       "<tr>\n",
       "  <th>Df Model:</th>              <td>     2</td>      <th>                     </th>     <td> </td>   \n",
       "</tr>\n",
       "<tr>\n",
       "  <th>Covariance Type:</th>      <td>nonrobust</td>    <th>                     </th>     <td> </td>   \n",
       "</tr>\n",
       "</table>\n",
       "<table class=\"simpletable\">\n",
       "<tr>\n",
       "          <td></td>            <th>coef</th>     <th>std err</th>      <th>t</th>      <th>P>|t|</th>  <th>[0.025</th>    <th>0.975]</th>  \n",
       "</tr>\n",
       "<tr>\n",
       "  <th>const</th>            <td>   80.6909</td> <td>    0.998</td> <td>   80.887</td> <td> 0.000</td> <td>   78.716</td> <td>   82.666</td>\n",
       "</tr>\n",
       "<tr>\n",
       "  <th>Adult_Mortality</th>  <td>   -0.0572</td> <td>    0.005</td> <td>  -10.664</td> <td> 0.000</td> <td>   -0.068</td> <td>   -0.047</td>\n",
       "</tr>\n",
       "<tr>\n",
       "  <th>Underfive_Deaths</th> <td>   -0.0077</td> <td>    0.004</td> <td>   -1.719</td> <td> 0.088</td> <td>   -0.017</td> <td>    0.001</td>\n",
       "</tr>\n",
       "</table>\n",
       "<table class=\"simpletable\">\n",
       "<tr>\n",
       "  <th>Omnibus:</th>       <td>58.013</td> <th>  Durbin-Watson:     </th> <td>   1.562</td>\n",
       "</tr>\n",
       "<tr>\n",
       "  <th>Prob(Omnibus):</th> <td> 0.000</td> <th>  Jarque-Bera (JB):  </th> <td> 163.329</td>\n",
       "</tr>\n",
       "<tr>\n",
       "  <th>Skew:</th>          <td>-1.830</td> <th>  Prob(JB):          </th> <td>3.42e-36</td>\n",
       "</tr>\n",
       "<tr>\n",
       "  <th>Kurtosis:</th>      <td> 7.269</td> <th>  Cond. No.          </th> <td>    370.</td>\n",
       "</tr>\n",
       "</table><br/><br/>Notes:<br/>[1] Standard Errors assume that the covariance matrix of the errors is correctly specified."
      ],
      "text/plain": [
       "<class 'statsmodels.iolib.summary.Summary'>\n",
       "\"\"\"\n",
       "                            OLS Regression Results                            \n",
       "==============================================================================\n",
       "Dep. Variable:               Expected   R-squared:                       0.517\n",
       "Model:                            OLS   Adj. R-squared:                  0.509\n",
       "Method:                 Least Squares   F-statistic:                     64.79\n",
       "Date:                Tue, 06 Sep 2022   Prob (F-statistic):           7.45e-20\n",
       "Time:                        15:50:17   Log-Likelihood:                -395.21\n",
       "No. Observations:                 124   AIC:                             796.4\n",
       "Df Residuals:                     121   BIC:                             804.9\n",
       "Df Model:                           2                                         \n",
       "Covariance Type:            nonrobust                                         \n",
       "====================================================================================\n",
       "                       coef    std err          t      P>|t|      [0.025      0.975]\n",
       "------------------------------------------------------------------------------------\n",
       "const               80.6909      0.998     80.887      0.000      78.716      82.666\n",
       "Adult_Mortality     -0.0572      0.005    -10.664      0.000      -0.068      -0.047\n",
       "Underfive_Deaths    -0.0077      0.004     -1.719      0.088      -0.017       0.001\n",
       "==============================================================================\n",
       "Omnibus:                       58.013   Durbin-Watson:                   1.562\n",
       "Prob(Omnibus):                  0.000   Jarque-Bera (JB):              163.329\n",
       "Skew:                          -1.830   Prob(JB):                     3.42e-36\n",
       "Kurtosis:                       7.269   Cond. No.                         370.\n",
       "==============================================================================\n",
       "\n",
       "Notes:\n",
       "[1] Standard Errors assume that the covariance matrix of the errors is correctly specified.\n",
       "\"\"\""
      ]
     },
     "execution_count": 69,
     "metadata": {},
     "output_type": "execute_result"
    }
   ],
   "source": [
    "x = df2[['Adult_Mortality','Underfive_Deaths']]\n",
    "y = df2['Expected']\n",
    "xc = sm.add_constant(x)\n",
    "model = sm.OLS(y,xc).fit()\n",
    "model.summary()"
   ]
  },
  {
   "cell_type": "code",
   "execution_count": 70,
   "metadata": {},
   "outputs": [],
   "source": [
    "#no need to add population"
   ]
  },
  {
   "cell_type": "code",
   "execution_count": null,
   "metadata": {},
   "outputs": [],
   "source": []
  },
  {
   "cell_type": "code",
   "execution_count": null,
   "metadata": {},
   "outputs": [],
   "source": []
  },
  {
   "cell_type": "code",
   "execution_count": null,
   "metadata": {},
   "outputs": [],
   "source": []
  },
  {
   "cell_type": "code",
   "execution_count": null,
   "metadata": {},
   "outputs": [],
   "source": []
  },
  {
   "cell_type": "markdown",
   "metadata": {
    "collapsed": true,
    "id": "IpDAWaDeGT8k"
   },
   "source": [
    "<table align=\"left\">\n",
    "    <tr>\n",
    "        <td width=\"6%\">\n",
    "            <img src=\"question_icon.png\">\n",
    "        </td>\n",
    "        <td>\n",
    "            <div align=\"left\", style=\"font-size:120%\">\n",
    "                <font color=\"#21618C\">\n",
    "                    <b>9. Fit a full model and test the significance of the overall model. <br></b>\n",
    "                </font>\n",
    "            </div>\n",
    "        </td>\n",
    "    </tr>\n",
    "</table>"
   ]
  },
  {
   "cell_type": "code",
   "execution_count": 71,
   "metadata": {
    "id": "Yj6QQBFfGT8l",
    "scrolled": true
   },
   "outputs": [],
   "source": [
    "#f -stat should be compared"
   ]
  },
  {
   "cell_type": "code",
   "execution_count": 73,
   "metadata": {},
   "outputs": [
    {
     "data": {
      "text/html": [
       "<table class=\"simpletable\">\n",
       "<caption>OLS Regression Results</caption>\n",
       "<tr>\n",
       "  <th>Dep. Variable:</th>        <td>Expected</td>     <th>  R-squared:         </th> <td>   0.848</td>\n",
       "</tr>\n",
       "<tr>\n",
       "  <th>Model:</th>                   <td>OLS</td>       <th>  Adj. R-squared:    </th> <td>   0.826</td>\n",
       "</tr>\n",
       "<tr>\n",
       "  <th>Method:</th>             <td>Least Squares</td>  <th>  F-statistic:       </th> <td>   37.43</td>\n",
       "</tr>\n",
       "<tr>\n",
       "  <th>Date:</th>             <td>Tue, 06 Sep 2022</td> <th>  Prob (F-statistic):</th> <td>1.94e-36</td>\n",
       "</tr>\n",
       "<tr>\n",
       "  <th>Time:</th>                 <td>15:55:29</td>     <th>  Log-Likelihood:    </th> <td> -323.38</td>\n",
       "</tr>\n",
       "<tr>\n",
       "  <th>No. Observations:</th>      <td>   124</td>      <th>  AIC:               </th> <td>   680.8</td>\n",
       "</tr>\n",
       "<tr>\n",
       "  <th>Df Residuals:</th>          <td>   107</td>      <th>  BIC:               </th> <td>   728.7</td>\n",
       "</tr>\n",
       "<tr>\n",
       "  <th>Df Model:</th>              <td>    16</td>      <th>                     </th>     <td> </td>   \n",
       "</tr>\n",
       "<tr>\n",
       "  <th>Covariance Type:</th>      <td>nonrobust</td>    <th>                     </th>     <td> </td>   \n",
       "</tr>\n",
       "</table>\n",
       "<table class=\"simpletable\">\n",
       "<tr>\n",
       "          <td></td>             <th>coef</th>     <th>std err</th>      <th>t</th>      <th>P>|t|</th>  <th>[0.025</th>    <th>0.975]</th>  \n",
       "</tr>\n",
       "<tr>\n",
       "  <th>const</th>             <td>   60.0678</td> <td>    3.747</td> <td>   16.030</td> <td> 0.000</td> <td>   52.639</td> <td>   67.496</td>\n",
       "</tr>\n",
       "<tr>\n",
       "  <th>Adult_Mortality</th>   <td>   -0.0231</td> <td>    0.004</td> <td>   -5.685</td> <td> 0.000</td> <td>   -0.031</td> <td>   -0.015</td>\n",
       "</tr>\n",
       "<tr>\n",
       "  <th>Infant_Deaths</th>     <td>    0.0556</td> <td>    0.037</td> <td>    1.507</td> <td> 0.135</td> <td>   -0.018</td> <td>    0.129</td>\n",
       "</tr>\n",
       "<tr>\n",
       "  <th>Hepatitis</th>         <td>    0.0656</td> <td>    0.032</td> <td>    2.056</td> <td> 0.042</td> <td>    0.002</td> <td>    0.129</td>\n",
       "</tr>\n",
       "<tr>\n",
       "  <th>Measles</th>           <td> -5.93e-05</td> <td> 6.09e-05</td> <td>   -0.974</td> <td> 0.332</td> <td>   -0.000</td> <td> 6.14e-05</td>\n",
       "</tr>\n",
       "<tr>\n",
       "  <th>BMI</th>               <td>   -0.0266</td> <td>    0.023</td> <td>   -1.179</td> <td> 0.241</td> <td>   -0.071</td> <td>    0.018</td>\n",
       "</tr>\n",
       "<tr>\n",
       "  <th>Underfive_Deaths</th>  <td>   -0.0389</td> <td>    0.027</td> <td>   -1.439</td> <td> 0.153</td> <td>   -0.093</td> <td>    0.015</td>\n",
       "</tr>\n",
       "<tr>\n",
       "  <th>Polio</th>             <td>   -0.0091</td> <td>    0.022</td> <td>   -0.417</td> <td> 0.677</td> <td>   -0.053</td> <td>    0.034</td>\n",
       "</tr>\n",
       "<tr>\n",
       "  <th>Diphtheria</th>        <td>   -0.0345</td> <td>    0.040</td> <td>   -0.868</td> <td> 0.387</td> <td>   -0.113</td> <td>    0.044</td>\n",
       "</tr>\n",
       "<tr>\n",
       "  <th>HIV</th>               <td>   -1.0385</td> <td>    0.268</td> <td>   -3.881</td> <td> 0.000</td> <td>   -1.569</td> <td>   -0.508</td>\n",
       "</tr>\n",
       "<tr>\n",
       "  <th>GDP</th>               <td> 5.021e-05</td> <td> 3.48e-05</td> <td>    1.445</td> <td> 0.151</td> <td>-1.87e-05</td> <td>    0.000</td>\n",
       "</tr>\n",
       "<tr>\n",
       "  <th>Population</th>        <td>-1.845e-08</td> <td>  8.6e-09</td> <td>   -2.146</td> <td> 0.034</td> <td>-3.55e-08</td> <td>-1.41e-09</td>\n",
       "</tr>\n",
       "<tr>\n",
       "  <th>Malnourished10_19</th> <td>   -0.4850</td> <td>    0.300</td> <td>   -1.616</td> <td> 0.109</td> <td>   -1.080</td> <td>    0.110</td>\n",
       "</tr>\n",
       "<tr>\n",
       "  <th>Malnourished5_9</th>   <td>    0.2983</td> <td>    0.283</td> <td>    1.053</td> <td> 0.294</td> <td>   -0.263</td> <td>    0.860</td>\n",
       "</tr>\n",
       "<tr>\n",
       "  <th>Income_Index</th>      <td>   18.6518</td> <td>    6.313</td> <td>    2.955</td> <td> 0.004</td> <td>    6.138</td> <td>   31.166</td>\n",
       "</tr>\n",
       "<tr>\n",
       "  <th>Schooling</th>         <td>    0.3599</td> <td>    0.346</td> <td>    1.040</td> <td> 0.301</td> <td>   -0.326</td> <td>    1.046</td>\n",
       "</tr>\n",
       "<tr>\n",
       "  <th>Status_Developing</th> <td>   -2.0360</td> <td>    1.168</td> <td>   -1.743</td> <td> 0.084</td> <td>   -4.352</td> <td>    0.280</td>\n",
       "</tr>\n",
       "</table>\n",
       "<table class=\"simpletable\">\n",
       "<tr>\n",
       "  <th>Omnibus:</th>       <td> 6.529</td> <th>  Durbin-Watson:     </th> <td>   1.754</td>\n",
       "</tr>\n",
       "<tr>\n",
       "  <th>Prob(Omnibus):</th> <td> 0.038</td> <th>  Jarque-Bera (JB):  </th> <td>  10.518</td>\n",
       "</tr>\n",
       "<tr>\n",
       "  <th>Skew:</th>          <td> 0.122</td> <th>  Prob(JB):          </th> <td> 0.00520</td>\n",
       "</tr>\n",
       "<tr>\n",
       "  <th>Kurtosis:</th>      <td> 4.406</td> <th>  Cond. No.          </th> <td>9.15e+08</td>\n",
       "</tr>\n",
       "</table><br/><br/>Notes:<br/>[1] Standard Errors assume that the covariance matrix of the errors is correctly specified.<br/>[2] The condition number is large, 9.15e+08. This might indicate that there are<br/>strong multicollinearity or other numerical problems."
      ],
      "text/plain": [
       "<class 'statsmodels.iolib.summary.Summary'>\n",
       "\"\"\"\n",
       "                            OLS Regression Results                            \n",
       "==============================================================================\n",
       "Dep. Variable:               Expected   R-squared:                       0.848\n",
       "Model:                            OLS   Adj. R-squared:                  0.826\n",
       "Method:                 Least Squares   F-statistic:                     37.43\n",
       "Date:                Tue, 06 Sep 2022   Prob (F-statistic):           1.94e-36\n",
       "Time:                        15:55:29   Log-Likelihood:                -323.38\n",
       "No. Observations:                 124   AIC:                             680.8\n",
       "Df Residuals:                     107   BIC:                             728.7\n",
       "Df Model:                          16                                         \n",
       "Covariance Type:            nonrobust                                         \n",
       "=====================================================================================\n",
       "                        coef    std err          t      P>|t|      [0.025      0.975]\n",
       "-------------------------------------------------------------------------------------\n",
       "const                60.0678      3.747     16.030      0.000      52.639      67.496\n",
       "Adult_Mortality      -0.0231      0.004     -5.685      0.000      -0.031      -0.015\n",
       "Infant_Deaths         0.0556      0.037      1.507      0.135      -0.018       0.129\n",
       "Hepatitis             0.0656      0.032      2.056      0.042       0.002       0.129\n",
       "Measles            -5.93e-05   6.09e-05     -0.974      0.332      -0.000    6.14e-05\n",
       "BMI                  -0.0266      0.023     -1.179      0.241      -0.071       0.018\n",
       "Underfive_Deaths     -0.0389      0.027     -1.439      0.153      -0.093       0.015\n",
       "Polio                -0.0091      0.022     -0.417      0.677      -0.053       0.034\n",
       "Diphtheria           -0.0345      0.040     -0.868      0.387      -0.113       0.044\n",
       "HIV                  -1.0385      0.268     -3.881      0.000      -1.569      -0.508\n",
       "GDP                5.021e-05   3.48e-05      1.445      0.151   -1.87e-05       0.000\n",
       "Population        -1.845e-08    8.6e-09     -2.146      0.034   -3.55e-08   -1.41e-09\n",
       "Malnourished10_19    -0.4850      0.300     -1.616      0.109      -1.080       0.110\n",
       "Malnourished5_9       0.2983      0.283      1.053      0.294      -0.263       0.860\n",
       "Income_Index         18.6518      6.313      2.955      0.004       6.138      31.166\n",
       "Schooling             0.3599      0.346      1.040      0.301      -0.326       1.046\n",
       "Status_Developing    -2.0360      1.168     -1.743      0.084      -4.352       0.280\n",
       "==============================================================================\n",
       "Omnibus:                        6.529   Durbin-Watson:                   1.754\n",
       "Prob(Omnibus):                  0.038   Jarque-Bera (JB):               10.518\n",
       "Skew:                           0.122   Prob(JB):                      0.00520\n",
       "Kurtosis:                       4.406   Cond. No.                     9.15e+08\n",
       "==============================================================================\n",
       "\n",
       "Notes:\n",
       "[1] Standard Errors assume that the covariance matrix of the errors is correctly specified.\n",
       "[2] The condition number is large, 9.15e+08. This might indicate that there are\n",
       "strong multicollinearity or other numerical problems.\n",
       "\"\"\""
      ]
     },
     "execution_count": 73,
     "metadata": {},
     "output_type": "execute_result"
    }
   ],
   "source": [
    "x = df2.drop('Expected',axis=1)\n",
    "y = df2['Expected']\n",
    "xc = sm.add_constant(x)\n",
    "model = sm.OLS(y,xc).fit()\n",
    "model.summary()"
   ]
  },
  {
   "cell_type": "code",
   "execution_count": null,
   "metadata": {},
   "outputs": [],
   "source": [
    "#f-stat probab  - 37.43\n",
    "#since probability of statistic is less than significance level .we will reject ho to conclude that overall model is significant"
   ]
  },
  {
   "cell_type": "markdown",
   "metadata": {
    "id": "l-U6cjSiGT8l"
   },
   "source": [
    "<a id=\"assum\"> </a>\n",
    "## 4. Assumptions of Linear Regression"
   ]
  },
  {
   "cell_type": "markdown",
   "metadata": {
    "collapsed": true,
    "id": "Y8Xe7qjqGT8m"
   },
   "source": [
    "<table align=\"left\">\n",
    "    <tr>\n",
    "        <td width=\"6%\">\n",
    "            <img src=\"question_icon.png\">\n",
    "        </td>\n",
    "        <td>\n",
    "            <div align=\"left\", style=\"font-size:120%\">\n",
    "                <font color=\"#21618C\">\n",
    "                    <b>10. A model is built using all the features (full model) to predict the life expectancy. Check whether the residuals obtained form the model follow a normal distribution.</b>\n",
    "                </font>\n",
    "            </div>\n",
    "        </td>\n",
    "    </tr>\n",
    "</table>"
   ]
  },
  {
   "cell_type": "code",
   "execution_count": 74,
   "metadata": {
    "id": "PP48v3jTGT8m"
   },
   "outputs": [],
   "source": [
    "residuals= model.resid"
   ]
  },
  {
   "cell_type": "code",
   "execution_count": 75,
   "metadata": {},
   "outputs": [
    {
     "name": "stderr",
     "output_type": "stream",
     "text": [
      "C:\\Users\\tsskr\\anaconda\\lib\\site-packages\\seaborn\\distributions.py:2619: FutureWarning: `distplot` is a deprecated function and will be removed in a future version. Please adapt your code to use either `displot` (a figure-level function with similar flexibility) or `histplot` (an axes-level function for histograms).\n",
      "  warnings.warn(msg, FutureWarning)\n"
     ]
    },
    {
     "data": {
      "text/plain": [
       "<AxesSubplot:ylabel='Density'>"
      ]
     },
     "execution_count": 75,
     "metadata": {},
     "output_type": "execute_result"
    },
    {
     "data": {
      "image/png": "[encoded data removed]",
      "text/plain": [
       "<Figure size 432x288 with 1 Axes>"
      ]
     },
     "metadata": {
      "needs_background": "light"
     },
     "output_type": "display_data"
    }
   ],
   "source": [
    "sns.distplot(residuals)"
   ]
  },
  {
   "cell_type": "code",
   "execution_count": 76,
   "metadata": {},
   "outputs": [
    {
     "data": {
      "text/plain": [
       "0.12384050948028269"
      ]
     },
     "execution_count": 76,
     "metadata": {},
     "output_type": "execute_result"
    }
   ],
   "source": [
    "residuals.skew()"
   ]
  },
  {
   "cell_type": "code",
   "execution_count": 77,
   "metadata": {},
   "outputs": [
    {
     "data": {
      "image/png": "[encoded data removed]",
      "text/plain": [
       "<Figure size 432x288 with 1 Axes>"
      ]
     },
     "metadata": {
      "needs_background": "light"
     },
     "output_type": "display_data"
    }
   ],
   "source": [
    "import scipy.stats as stats\n",
    "stats.probplot(residuals,plot=plt)\n",
    "plt.show()"
   ]
  },
  {
   "cell_type": "code",
   "execution_count": 78,
   "metadata": {},
   "outputs": [],
   "source": [
    "#since probability of jb is less than significance level ,we will reject ho to conclude that residuals are not normal"
   ]
  },
  {
   "cell_type": "code",
   "execution_count": null,
   "metadata": {},
   "outputs": [],
   "source": []
  },
  {
   "cell_type": "code",
   "execution_count": null,
   "metadata": {},
   "outputs": [],
   "source": []
  },
  {
   "cell_type": "markdown",
   "metadata": {
    "collapsed": true,
    "id": "jtHqhREXGT8m"
   },
   "source": [
    "<table align=\"left\">\n",
    "    <tr>\n",
    "        <td width=\"6%\">\n",
    "            <img src=\"question_icon.png\">\n",
    "        </td>\n",
    "        <td>\n",
    "            <div align=\"left\", style=\"font-size:120%\">\n",
    "                <font color=\"#21618C\">\n",
    "                        <b>11. Does the interaction of status of the country and its GDP have significant effect on life expectancy? (consider the full model)</b>\n",
    "                </font>\n",
    "            </div>\n",
    "        </td>\n",
    "    </tr>\n",
    "</table>"
   ]
  },
  {
   "cell_type": "code",
   "execution_count": 79,
   "metadata": {
    "id": "Ng-8kwKgGT8n"
   },
   "outputs": [
    {
     "data": {
      "text/plain": [
       "Index(['Country', 'Status', 'Adult_Mortality', 'Infant_Deaths', 'Hepatitis',\n",
       "       'Measles', 'BMI', 'Underfive_Deaths', 'Polio', 'Diphtheria', 'HIV',\n",
       "       'GDP', 'Population', 'Malnourished10_19', 'Malnourished5_9',\n",
       "       'Income_Index', 'Schooling', 'Expected'],\n",
       "      dtype='object')"
      ]
     },
     "execution_count": 79,
     "metadata": {},
     "output_type": "execute_result"
    }
   ],
   "source": [
    "df.columns"
   ]
  },
  {
   "cell_type": "code",
   "execution_count": 80,
   "metadata": {},
   "outputs": [
    {
     "data": {
      "text/html": [
       "<table class=\"simpletable\">\n",
       "<caption>OLS Regression Results</caption>\n",
       "<tr>\n",
       "  <th>Dep. Variable:</th>        <td>Expected</td>     <th>  R-squared:         </th> <td>   0.853</td>\n",
       "</tr>\n",
       "<tr>\n",
       "  <th>Model:</th>                   <td>OLS</td>       <th>  Adj. R-squared:    </th> <td>   0.830</td>\n",
       "</tr>\n",
       "<tr>\n",
       "  <th>Method:</th>             <td>Least Squares</td>  <th>  F-statistic:       </th> <td>   36.30</td>\n",
       "</tr>\n",
       "<tr>\n",
       "  <th>Date:</th>             <td>Tue, 06 Sep 2022</td> <th>  Prob (F-statistic):</th> <td>2.14e-36</td>\n",
       "</tr>\n",
       "<tr>\n",
       "  <th>Time:</th>                 <td>16:04:55</td>     <th>  Log-Likelihood:    </th> <td> -321.30</td>\n",
       "</tr>\n",
       "<tr>\n",
       "  <th>No. Observations:</th>      <td>   124</td>      <th>  AIC:               </th> <td>   678.6</td>\n",
       "</tr>\n",
       "<tr>\n",
       "  <th>Df Residuals:</th>          <td>   106</td>      <th>  BIC:               </th> <td>   729.4</td>\n",
       "</tr>\n",
       "<tr>\n",
       "  <th>Df Model:</th>              <td>    17</td>      <th>                     </th>     <td> </td>   \n",
       "</tr>\n",
       "<tr>\n",
       "  <th>Covariance Type:</th>      <td>nonrobust</td>    <th>                     </th>     <td> </td>   \n",
       "</tr>\n",
       "</table>\n",
       "<table class=\"simpletable\">\n",
       "<tr>\n",
       "          <td></td>             <th>coef</th>     <th>std err</th>      <th>t</th>      <th>P>|t|</th>  <th>[0.025</th>    <th>0.975]</th>  \n",
       "</tr>\n",
       "<tr>\n",
       "  <th>const</th>             <td>   62.5466</td> <td>    3.925</td> <td>   15.935</td> <td> 0.000</td> <td>   54.765</td> <td>   70.328</td>\n",
       "</tr>\n",
       "<tr>\n",
       "  <th>Adult_Mortality</th>   <td>   -0.0228</td> <td>    0.004</td> <td>   -5.680</td> <td> 0.000</td> <td>   -0.031</td> <td>   -0.015</td>\n",
       "</tr>\n",
       "<tr>\n",
       "  <th>Infant_Deaths</th>     <td>    0.0564</td> <td>    0.036</td> <td>    1.547</td> <td> 0.125</td> <td>   -0.016</td> <td>    0.129</td>\n",
       "</tr>\n",
       "<tr>\n",
       "  <th>Hepatitis</th>         <td>    0.0715</td> <td>    0.032</td> <td>    2.259</td> <td> 0.026</td> <td>    0.009</td> <td>    0.134</td>\n",
       "</tr>\n",
       "<tr>\n",
       "  <th>Measles</th>           <td>-5.287e-05</td> <td> 6.03e-05</td> <td>   -0.877</td> <td> 0.382</td> <td>   -0.000</td> <td> 6.66e-05</td>\n",
       "</tr>\n",
       "<tr>\n",
       "  <th>BMI</th>               <td>   -0.0291</td> <td>    0.022</td> <td>   -1.306</td> <td> 0.194</td> <td>   -0.073</td> <td>    0.015</td>\n",
       "</tr>\n",
       "<tr>\n",
       "  <th>Underfive_Deaths</th>  <td>   -0.0401</td> <td>    0.027</td> <td>   -1.497</td> <td> 0.137</td> <td>   -0.093</td> <td>    0.013</td>\n",
       "</tr>\n",
       "<tr>\n",
       "  <th>Polio</th>             <td>   -0.0056</td> <td>    0.022</td> <td>   -0.258</td> <td> 0.797</td> <td>   -0.049</td> <td>    0.037</td>\n",
       "</tr>\n",
       "<tr>\n",
       "  <th>Diphtheria</th>        <td>   -0.0446</td> <td>    0.040</td> <td>   -1.124</td> <td> 0.264</td> <td>   -0.123</td> <td>    0.034</td>\n",
       "</tr>\n",
       "<tr>\n",
       "  <th>HIV</th>               <td>   -1.0748</td> <td>    0.265</td> <td>   -4.054</td> <td> 0.000</td> <td>   -1.600</td> <td>   -0.549</td>\n",
       "</tr>\n",
       "<tr>\n",
       "  <th>GDP</th>               <td>-7.939e-06</td> <td>  4.6e-05</td> <td>   -0.173</td> <td> 0.863</td> <td>-9.91e-05</td> <td> 8.32e-05</td>\n",
       "</tr>\n",
       "<tr>\n",
       "  <th>Population</th>        <td>-1.612e-08</td> <td> 8.58e-09</td> <td>   -1.878</td> <td> 0.063</td> <td>-3.31e-08</td> <td> 8.96e-10</td>\n",
       "</tr>\n",
       "<tr>\n",
       "  <th>Malnourished10_19</th> <td>   -0.4757</td> <td>    0.297</td> <td>   -1.604</td> <td> 0.112</td> <td>   -1.064</td> <td>    0.112</td>\n",
       "</tr>\n",
       "<tr>\n",
       "  <th>Malnourished5_9</th>   <td>    0.2995</td> <td>    0.280</td> <td>    1.071</td> <td> 0.287</td> <td>   -0.255</td> <td>    0.854</td>\n",
       "</tr>\n",
       "<tr>\n",
       "  <th>Income_Index</th>      <td>   15.9884</td> <td>    6.392</td> <td>    2.501</td> <td> 0.014</td> <td>    3.315</td> <td>   28.662</td>\n",
       "</tr>\n",
       "<tr>\n",
       "  <th>Schooling</th>         <td>    0.4188</td> <td>    0.343</td> <td>    1.220</td> <td> 0.225</td> <td>   -0.262</td> <td>    1.099</td>\n",
       "</tr>\n",
       "<tr>\n",
       "  <th>Status_Developing</th> <td>   -3.8250</td> <td>    1.489</td> <td>   -2.569</td> <td> 0.012</td> <td>   -6.777</td> <td>   -0.873</td>\n",
       "</tr>\n",
       "<tr>\n",
       "  <th>GDP_STATUS</th>        <td>    0.0001</td> <td>  6.8e-05</td> <td>    1.902</td> <td> 0.060</td> <td> -5.5e-06</td> <td>    0.000</td>\n",
       "</tr>\n",
       "</table>\n",
       "<table class=\"simpletable\">\n",
       "<tr>\n",
       "  <th>Omnibus:</th>       <td> 4.411</td> <th>  Durbin-Watson:     </th> <td>   1.813</td>\n",
       "</tr>\n",
       "<tr>\n",
       "  <th>Prob(Omnibus):</th> <td> 0.110</td> <th>  Jarque-Bera (JB):  </th> <td>   5.490</td>\n",
       "</tr>\n",
       "<tr>\n",
       "  <th>Skew:</th>          <td> 0.109</td> <th>  Prob(JB):          </th> <td>  0.0642</td>\n",
       "</tr>\n",
       "<tr>\n",
       "  <th>Kurtosis:</th>      <td> 4.008</td> <th>  Cond. No.          </th> <td>9.48e+08</td>\n",
       "</tr>\n",
       "</table><br/><br/>Notes:<br/>[1] Standard Errors assume that the covariance matrix of the errors is correctly specified.<br/>[2] The condition number is large, 9.48e+08. This might indicate that there are<br/>strong multicollinearity or other numerical problems."
      ],
      "text/plain": [
       "<class 'statsmodels.iolib.summary.Summary'>\n",
       "\"\"\"\n",
       "                            OLS Regression Results                            \n",
       "==============================================================================\n",
       "Dep. Variable:               Expected   R-squared:                       0.853\n",
       "Model:                            OLS   Adj. R-squared:                  0.830\n",
       "Method:                 Least Squares   F-statistic:                     36.30\n",
       "Date:                Tue, 06 Sep 2022   Prob (F-statistic):           2.14e-36\n",
       "Time:                        16:04:55   Log-Likelihood:                -321.30\n",
       "No. Observations:                 124   AIC:                             678.6\n",
       "Df Residuals:                     106   BIC:                             729.4\n",
       "Df Model:                          17                                         \n",
       "Covariance Type:            nonrobust                                         \n",
       "=====================================================================================\n",
       "                        coef    std err          t      P>|t|      [0.025      0.975]\n",
       "-------------------------------------------------------------------------------------\n",
       "const                62.5466      3.925     15.935      0.000      54.765      70.328\n",
       "Adult_Mortality      -0.0228      0.004     -5.680      0.000      -0.031      -0.015\n",
       "Infant_Deaths         0.0564      0.036      1.547      0.125      -0.016       0.129\n",
       "Hepatitis             0.0715      0.032      2.259      0.026       0.009       0.134\n",
       "Measles           -5.287e-05   6.03e-05     -0.877      0.382      -0.000    6.66e-05\n",
       "BMI                  -0.0291      0.022     -1.306      0.194      -0.073       0.015\n",
       "Underfive_Deaths     -0.0401      0.027     -1.497      0.137      -0.093       0.013\n",
       "Polio                -0.0056      0.022     -0.258      0.797      -0.049       0.037\n",
       "Diphtheria           -0.0446      0.040     -1.124      0.264      -0.123       0.034\n",
       "HIV                  -1.0748      0.265     -4.054      0.000      -1.600      -0.549\n",
       "GDP               -7.939e-06    4.6e-05     -0.173      0.863   -9.91e-05    8.32e-05\n",
       "Population        -1.612e-08   8.58e-09     -1.878      0.063   -3.31e-08    8.96e-10\n",
       "Malnourished10_19    -0.4757      0.297     -1.604      0.112      -1.064       0.112\n",
       "Malnourished5_9       0.2995      0.280      1.071      0.287      -0.255       0.854\n",
       "Income_Index         15.9884      6.392      2.501      0.014       3.315      28.662\n",
       "Schooling             0.4188      0.343      1.220      0.225      -0.262       1.099\n",
       "Status_Developing    -3.8250      1.489     -2.569      0.012      -6.777      -0.873\n",
       "GDP_STATUS            0.0001    6.8e-05      1.902      0.060    -5.5e-06       0.000\n",
       "==============================================================================\n",
       "Omnibus:                        4.411   Durbin-Watson:                   1.813\n",
       "Prob(Omnibus):                  0.110   Jarque-Bera (JB):                5.490\n",
       "Skew:                           0.109   Prob(JB):                       0.0642\n",
       "Kurtosis:                       4.008   Cond. No.                     9.48e+08\n",
       "==============================================================================\n",
       "\n",
       "Notes:\n",
       "[1] Standard Errors assume that the covariance matrix of the errors is correctly specified.\n",
       "[2] The condition number is large, 9.48e+08. This might indicate that there are\n",
       "strong multicollinearity or other numerical problems.\n",
       "\"\"\""
      ]
     },
     "execution_count": 80,
     "metadata": {},
     "output_type": "execute_result"
    }
   ],
   "source": [
    "\n",
    "x = df2.drop('Expected',axis=1)\n",
    "y = df2['Expected']\n",
    "x['GDP_STATUS'] = x['GDP']*x['Status_Developing']\n",
    "xc = sm.add_constant(x)\n",
    "model = sm.OLS(y,xc).fit()\n",
    "model.summary()"
   ]
  },
  {
   "cell_type": "code",
   "execution_count": 81,
   "metadata": {},
   "outputs": [],
   "source": [
    "#new variable is insignificant"
   ]
  },
  {
   "cell_type": "markdown",
   "metadata": {
    "collapsed": true,
    "id": "Tc9LlIkTGT8n"
   },
   "source": [
    "<table align=\"left\">\n",
    "    <tr>\n",
    "        <td width=\"6%\">\n",
    "            <img src=\"question_icon.png\">\n",
    "        </td>\n",
    "        <td>\n",
    "            <div align=\"left\", style=\"font-size:120%\">\n",
    "                <font color=\"#21618C\">\n",
    "                    <b>12. Construct a full no-intecept model. What would you conclude when all the variables take value 0? </b>\n",
    "                </font>\n",
    "            </div>\n",
    "        </td>\n",
    "    </tr>\n",
    "</table>"
   ]
  },
  {
   "cell_type": "code",
   "execution_count": 82,
   "metadata": {
    "id": "jtaT9qB2GT8o"
   },
   "outputs": [
    {
     "data": {
      "text/html": [
       "<table class=\"simpletable\">\n",
       "<caption>OLS Regression Results</caption>\n",
       "<tr>\n",
       "  <th>Dep. Variable:</th>        <td>Expected</td>     <th>  R-squared (uncentered):</th>      <td>   0.993</td> \n",
       "</tr>\n",
       "<tr>\n",
       "  <th>Model:</th>                   <td>OLS</td>       <th>  Adj. R-squared (uncentered):</th> <td>   0.992</td> \n",
       "</tr>\n",
       "<tr>\n",
       "  <th>Method:</th>             <td>Least Squares</td>  <th>  F-statistic:       </th>          <td>   940.0</td> \n",
       "</tr>\n",
       "<tr>\n",
       "  <th>Date:</th>             <td>Tue, 06 Sep 2022</td> <th>  Prob (F-statistic):</th>          <td>4.84e-108</td>\n",
       "</tr>\n",
       "<tr>\n",
       "  <th>Time:</th>                 <td>16:10:58</td>     <th>  Log-Likelihood:    </th>          <td> -399.28</td> \n",
       "</tr>\n",
       "<tr>\n",
       "  <th>No. Observations:</th>      <td>   124</td>      <th>  AIC:               </th>          <td>   830.6</td> \n",
       "</tr>\n",
       "<tr>\n",
       "  <th>Df Residuals:</th>          <td>   108</td>      <th>  BIC:               </th>          <td>   875.7</td> \n",
       "</tr>\n",
       "<tr>\n",
       "  <th>Df Model:</th>              <td>    16</td>      <th>                     </th>              <td> </td>    \n",
       "</tr>\n",
       "<tr>\n",
       "  <th>Covariance Type:</th>      <td>nonrobust</td>    <th>                     </th>              <td> </td>    \n",
       "</tr>\n",
       "</table>\n",
       "<table class=\"simpletable\">\n",
       "<tr>\n",
       "          <td></td>             <th>coef</th>     <th>std err</th>      <th>t</th>      <th>P>|t|</th>  <th>[0.025</th>    <th>0.975]</th>  \n",
       "</tr>\n",
       "<tr>\n",
       "  <th>Adult_Mortality</th>   <td>   -0.0069</td> <td>    0.007</td> <td>   -0.960</td> <td> 0.339</td> <td>   -0.021</td> <td>    0.007</td>\n",
       "</tr>\n",
       "<tr>\n",
       "  <th>Infant_Deaths</th>     <td>   -0.0807</td> <td>    0.066</td> <td>   -1.224</td> <td> 0.223</td> <td>   -0.211</td> <td>    0.050</td>\n",
       "</tr>\n",
       "<tr>\n",
       "  <th>Hepatitis</th>         <td>    0.0305</td> <td>    0.058</td> <td>    0.523</td> <td> 0.602</td> <td>   -0.085</td> <td>    0.146</td>\n",
       "</tr>\n",
       "<tr>\n",
       "  <th>Measles</th>           <td>   -0.0002</td> <td>    0.000</td> <td>   -1.516</td> <td> 0.133</td> <td>   -0.000</td> <td> 5.18e-05</td>\n",
       "</tr>\n",
       "<tr>\n",
       "  <th>BMI</th>               <td>   -0.0697</td> <td>    0.041</td> <td>   -1.696</td> <td> 0.093</td> <td>   -0.151</td> <td>    0.012</td>\n",
       "</tr>\n",
       "<tr>\n",
       "  <th>Underfive_Deaths</th>  <td>    0.0712</td> <td>    0.048</td> <td>    1.482</td> <td> 0.141</td> <td>   -0.024</td> <td>    0.166</td>\n",
       "</tr>\n",
       "<tr>\n",
       "  <th>Polio</th>             <td>    0.0180</td> <td>    0.040</td> <td>    0.449</td> <td> 0.654</td> <td>   -0.061</td> <td>    0.097</td>\n",
       "</tr>\n",
       "<tr>\n",
       "  <th>Diphtheria</th>        <td>    0.0388</td> <td>    0.073</td> <td>    0.535</td> <td> 0.593</td> <td>   -0.105</td> <td>    0.183</td>\n",
       "</tr>\n",
       "<tr>\n",
       "  <th>HIV</th>               <td>    0.5728</td> <td>    0.455</td> <td>    1.258</td> <td> 0.211</td> <td>   -0.330</td> <td>    1.475</td>\n",
       "</tr>\n",
       "<tr>\n",
       "  <th>GDP</th>               <td>-3.684e-05</td> <td>  6.3e-05</td> <td>   -0.585</td> <td> 0.560</td> <td>   -0.000</td> <td> 8.81e-05</td>\n",
       "</tr>\n",
       "<tr>\n",
       "  <th>Population</th>        <td>-1.747e-08</td> <td> 1.58e-08</td> <td>   -1.107</td> <td> 0.271</td> <td>-4.87e-08</td> <td> 1.38e-08</td>\n",
       "</tr>\n",
       "<tr>\n",
       "  <th>Malnourished10_19</th> <td>   -1.1120</td> <td>    0.546</td> <td>   -2.035</td> <td> 0.044</td> <td>   -2.195</td> <td>   -0.029</td>\n",
       "</tr>\n",
       "<tr>\n",
       "  <th>Malnourished5_9</th>   <td>    1.6540</td> <td>    0.496</td> <td>    3.334</td> <td> 0.001</td> <td>    0.671</td> <td>    2.637</td>\n",
       "</tr>\n",
       "<tr>\n",
       "  <th>Income_Index</th>      <td>   43.2384</td> <td>   11.241</td> <td>    3.846</td> <td> 0.000</td> <td>   20.956</td> <td>   65.520</td>\n",
       "</tr>\n",
       "<tr>\n",
       "  <th>Schooling</th>         <td>    2.1667</td> <td>    0.601</td> <td>    3.608</td> <td> 0.000</td> <td>    0.976</td> <td>    3.357</td>\n",
       "</tr>\n",
       "<tr>\n",
       "  <th>Status_Developing</th> <td>    7.8535</td> <td>    1.821</td> <td>    4.313</td> <td> 0.000</td> <td>    4.244</td> <td>   11.463</td>\n",
       "</tr>\n",
       "</table>\n",
       "<table class=\"simpletable\">\n",
       "<tr>\n",
       "  <th>Omnibus:</th>       <td> 7.813</td> <th>  Durbin-Watson:     </th> <td>   1.591</td>\n",
       "</tr>\n",
       "<tr>\n",
       "  <th>Prob(Omnibus):</th> <td> 0.020</td> <th>  Jarque-Bera (JB):  </th> <td>   7.565</td>\n",
       "</tr>\n",
       "<tr>\n",
       "  <th>Skew:</th>          <td> 0.588</td> <th>  Prob(JB):          </th> <td>  0.0228</td>\n",
       "</tr>\n",
       "<tr>\n",
       "  <th>Kurtosis:</th>      <td> 3.282</td> <th>  Cond. No.          </th> <td>8.75e+08</td>\n",
       "</tr>\n",
       "</table><br/><br/>Notes:<br/>[1] R² is computed without centering (uncentered) since the model does not contain a constant.<br/>[2] Standard Errors assume that the covariance matrix of the errors is correctly specified.<br/>[3] The condition number is large, 8.75e+08. This might indicate that there are<br/>strong multicollinearity or other numerical problems."
      ],
      "text/plain": [
       "<class 'statsmodels.iolib.summary.Summary'>\n",
       "\"\"\"\n",
       "                                 OLS Regression Results                                \n",
       "=======================================================================================\n",
       "Dep. Variable:               Expected   R-squared (uncentered):                   0.993\n",
       "Model:                            OLS   Adj. R-squared (uncentered):              0.992\n",
       "Method:                 Least Squares   F-statistic:                              940.0\n",
       "Date:                Tue, 06 Sep 2022   Prob (F-statistic):                   4.84e-108\n",
       "Time:                        16:10:58   Log-Likelihood:                         -399.28\n",
       "No. Observations:                 124   AIC:                                      830.6\n",
       "Df Residuals:                     108   BIC:                                      875.7\n",
       "Df Model:                          16                                                  \n",
       "Covariance Type:            nonrobust                                                  \n",
       "=====================================================================================\n",
       "                        coef    std err          t      P>|t|      [0.025      0.975]\n",
       "-------------------------------------------------------------------------------------\n",
       "Adult_Mortality      -0.0069      0.007     -0.960      0.339      -0.021       0.007\n",
       "Infant_Deaths        -0.0807      0.066     -1.224      0.223      -0.211       0.050\n",
       "Hepatitis             0.0305      0.058      0.523      0.602      -0.085       0.146\n",
       "Measles              -0.0002      0.000     -1.516      0.133      -0.000    5.18e-05\n",
       "BMI                  -0.0697      0.041     -1.696      0.093      -0.151       0.012\n",
       "Underfive_Deaths      0.0712      0.048      1.482      0.141      -0.024       0.166\n",
       "Polio                 0.0180      0.040      0.449      0.654      -0.061       0.097\n",
       "Diphtheria            0.0388      0.073      0.535      0.593      -0.105       0.183\n",
       "HIV                   0.5728      0.455      1.258      0.211      -0.330       1.475\n",
       "GDP               -3.684e-05    6.3e-05     -0.585      0.560      -0.000    8.81e-05\n",
       "Population        -1.747e-08   1.58e-08     -1.107      0.271   -4.87e-08    1.38e-08\n",
       "Malnourished10_19    -1.1120      0.546     -2.035      0.044      -2.195      -0.029\n",
       "Malnourished5_9       1.6540      0.496      3.334      0.001       0.671       2.637\n",
       "Income_Index         43.2384     11.241      3.846      0.000      20.956      65.520\n",
       "Schooling             2.1667      0.601      3.608      0.000       0.976       3.357\n",
       "Status_Developing     7.8535      1.821      4.313      0.000       4.244      11.463\n",
       "==============================================================================\n",
       "Omnibus:                        7.813   Durbin-Watson:                   1.591\n",
       "Prob(Omnibus):                  0.020   Jarque-Bera (JB):                7.565\n",
       "Skew:                           0.588   Prob(JB):                       0.0228\n",
       "Kurtosis:                       3.282   Cond. No.                     8.75e+08\n",
       "==============================================================================\n",
       "\n",
       "Notes:\n",
       "[1] R² is computed without centering (uncentered) since the model does not contain a constant.\n",
       "[2] Standard Errors assume that the covariance matrix of the errors is correctly specified.\n",
       "[3] The condition number is large, 8.75e+08. This might indicate that there are\n",
       "strong multicollinearity or other numerical problems.\n",
       "\"\"\""
      ]
     },
     "execution_count": 82,
     "metadata": {},
     "output_type": "execute_result"
    }
   ],
   "source": [
    "x = df2.drop('Expected',axis=1)\n",
    "y = df2['Expected']\n",
    "model = sm.OLS(y,x).fit()\n",
    "model.summary()"
   ]
  },
  {
   "cell_type": "code",
   "execution_count": 83,
   "metadata": {},
   "outputs": [],
   "source": [
    "#predicted value will be zero when all variables are zero"
   ]
  },
  {
   "cell_type": "markdown",
   "metadata": {
    "id": "O3TOOMH7GT8o"
   },
   "source": [
    "### Hereon on we shall consider the FEV dataset.\n"
   ]
  },
  {
   "cell_type": "markdown",
   "metadata": {
    "id": "-cuOvjcHGT8p"
   },
   "source": [
    "### About the data set (Respiratory function data)\n",
    "\n",
    "Dataset consists of information about respiratory function in children and adolescents and factors that might impact the respiratory function. <br> Attribute information: \n",
    "\n",
    "**Age:** Age in years\n",
    "\n",
    "**Height:** Height in inches \n",
    "\n",
    "**Gender:** Gender value is 1 if male 0 if female\n",
    "\n",
    "**Smoke:** Whether the person is a smoker or non- smoker, the value is 1 if smoker and 0 otherwise\n",
    "\n",
    "**FEV:**  Forced Exhalation Volume (FEV), a measure of how much air somebody can forcibly exhale from their lung (Percentage)"
   ]
  },
  {
   "cell_type": "markdown",
   "metadata": {
    "id": "Qe2zwds0GT8p"
   },
   "source": [
    "#### Load the dataset and check the first five observations"
   ]
  },
  {
   "cell_type": "code",
   "execution_count": 85,
   "metadata": {
    "id": "Rd_zQlutGT8p"
   },
   "outputs": [
    {
     "data": {
      "text/html": [
       "<div>\n",
       "<style scoped>\n",
       "    .dataframe tbody tr th:only-of-type {\n",
       "        vertical-align: middle;\n",
       "    }\n",
       "\n",
       "    .dataframe tbody tr th {\n",
       "        vertical-align: top;\n",
       "    }\n",
       "\n",
       "    .dataframe thead th {\n",
       "        text-align: right;\n",
       "    }\n",
       "</style>\n",
       "<table border=\"1\" class=\"dataframe\">\n",
       "  <thead>\n",
       "    <tr style=\"text-align: right;\">\n",
       "      <th></th>\n",
       "      <th>Age</th>\n",
       "      <th>Height</th>\n",
       "      <th>Gender</th>\n",
       "      <th>Smoke</th>\n",
       "      <th>FEV</th>\n",
       "    </tr>\n",
       "  </thead>\n",
       "  <tbody>\n",
       "    <tr>\n",
       "      <th>0</th>\n",
       "      <td>9</td>\n",
       "      <td>57.0</td>\n",
       "      <td>0</td>\n",
       "      <td>0</td>\n",
       "      <td>1.708</td>\n",
       "    </tr>\n",
       "    <tr>\n",
       "      <th>1</th>\n",
       "      <td>8</td>\n",
       "      <td>67.5</td>\n",
       "      <td>0</td>\n",
       "      <td>0</td>\n",
       "      <td>1.724</td>\n",
       "    </tr>\n",
       "    <tr>\n",
       "      <th>2</th>\n",
       "      <td>7</td>\n",
       "      <td>54.5</td>\n",
       "      <td>0</td>\n",
       "      <td>0</td>\n",
       "      <td>1.720</td>\n",
       "    </tr>\n",
       "    <tr>\n",
       "      <th>3</th>\n",
       "      <td>9</td>\n",
       "      <td>53.0</td>\n",
       "      <td>1</td>\n",
       "      <td>0</td>\n",
       "      <td>1.558</td>\n",
       "    </tr>\n",
       "    <tr>\n",
       "      <th>4</th>\n",
       "      <td>9</td>\n",
       "      <td>57.0</td>\n",
       "      <td>1</td>\n",
       "      <td>0</td>\n",
       "      <td>1.895</td>\n",
       "    </tr>\n",
       "  </tbody>\n",
       "</table>\n",
       "</div>"
      ],
      "text/plain": [
       "   Age  Height  Gender  Smoke    FEV\n",
       "0    9    57.0       0      0  1.708\n",
       "1    8    67.5       0      0  1.724\n",
       "2    7    54.5       0      0  1.720\n",
       "3    9    53.0       1      0  1.558\n",
       "4    9    57.0       1      0  1.895"
      ]
     },
     "execution_count": 85,
     "metadata": {},
     "output_type": "execute_result"
    }
   ],
   "source": [
    "df = pd.read_csv('LungCapdata.csv')\n",
    "df.head()"
   ]
  },
  {
   "cell_type": "code",
   "execution_count": 86,
   "metadata": {},
   "outputs": [
    {
     "name": "stdout",
     "output_type": "stream",
     "text": [
      "<class 'pandas.core.frame.DataFrame'>\n",
      "RangeIndex: 654 entries, 0 to 653\n",
      "Data columns (total 5 columns):\n",
      " #   Column  Non-Null Count  Dtype  \n",
      "---  ------  --------------  -----  \n",
      " 0   Age     654 non-null    int64  \n",
      " 1   Height  654 non-null    float64\n",
      " 2   Gender  654 non-null    int64  \n",
      " 3   Smoke   654 non-null    int64  \n",
      " 4   FEV     654 non-null    float64\n",
      "dtypes: float64(2), int64(3)\n",
      "memory usage: 25.7 KB\n"
     ]
    }
   ],
   "source": [
    "df.info()"
   ]
  },
  {
   "cell_type": "code",
   "execution_count": null,
   "metadata": {},
   "outputs": [],
   "source": []
  },
  {
   "cell_type": "markdown",
   "metadata": {
    "collapsed": true,
    "id": "IvMQxjPRGT8q"
   },
   "source": [
    "<table align=\"left\">\n",
    "    <tr>\n",
    "        <td width=\"6%\">\n",
    "            <img src=\"question_icon.png\">\n",
    "        </td>\n",
    "        <td>\n",
    "            <div align=\"left\", style=\"font-size:120%\">\n",
    "                <font color=\"#21618C\">\n",
    "                    <b>13. Can we use a linear regression model to analyze the impact of all the features on respiratory function (FEV) ? </b>\n",
    "                </font>\n",
    "            </div>\n",
    "        </td>\n",
    "    </tr>\n",
    "</table>"
   ]
  },
  {
   "cell_type": "code",
   "execution_count": 89,
   "metadata": {
    "id": "Y6fV5VIJGT8q"
   },
   "outputs": [
    {
     "data": {
      "text/plain": [
       "<AxesSubplot:>"
      ]
     },
     "execution_count": 89,
     "metadata": {},
     "output_type": "execute_result"
    },
    {
     "data": {
      "image/png": "[encoded data removed]",
      "text/plain": [
       "<Figure size 720x720 with 2 Axes>"
      ]
     },
     "metadata": {
      "needs_background": "light"
     },
     "output_type": "display_data"
    }
   ],
   "source": [
    "y = df['FEV']\n",
    "x = df.drop('FEV',axis=1)\n",
    "\n",
    "xc = sm.add_constant(x)\n",
    "\n",
    "plt.figure(figsize=(10,10))\n",
    "sns.heatmap(xc.corr(),annot=True)"
   ]
  },
  {
   "cell_type": "code",
   "execution_count": 91,
   "metadata": {},
   "outputs": [
    {
     "data": {
      "text/html": [
       "<div>\n",
       "<style scoped>\n",
       "    .dataframe tbody tr th:only-of-type {\n",
       "        vertical-align: middle;\n",
       "    }\n",
       "\n",
       "    .dataframe tbody tr th {\n",
       "        vertical-align: top;\n",
       "    }\n",
       "\n",
       "    .dataframe thead th {\n",
       "        text-align: right;\n",
       "    }\n",
       "</style>\n",
       "<table border=\"1\" class=\"dataframe\">\n",
       "  <thead>\n",
       "    <tr style=\"text-align: right;\">\n",
       "      <th></th>\n",
       "      <th>vif</th>\n",
       "    </tr>\n",
       "  </thead>\n",
       "  <tbody>\n",
       "    <tr>\n",
       "      <th>const</th>\n",
       "      <td>191.122030</td>\n",
       "    </tr>\n",
       "    <tr>\n",
       "      <th>Age</th>\n",
       "      <td>3.019010</td>\n",
       "    </tr>\n",
       "    <tr>\n",
       "      <th>Height</th>\n",
       "      <td>2.829728</td>\n",
       "    </tr>\n",
       "    <tr>\n",
       "      <th>Gender</th>\n",
       "      <td>1.060228</td>\n",
       "    </tr>\n",
       "    <tr>\n",
       "      <th>Smoke</th>\n",
       "      <td>1.209564</td>\n",
       "    </tr>\n",
       "  </tbody>\n",
       "</table>\n",
       "</div>"
      ],
      "text/plain": [
       "               vif\n",
       "const   191.122030\n",
       "Age       3.019010\n",
       "Height    2.829728\n",
       "Gender    1.060228\n",
       "Smoke     1.209564"
      ]
     },
     "execution_count": 91,
     "metadata": {},
     "output_type": "execute_result"
    }
   ],
   "source": [
    "from statsmodels.stats.outliers_influence import variance_inflation_factor as vif\n",
    "vif =[vif(xc.values,i)for i in range(xc.shape[1])]\n",
    "pd.DataFrame(vif,index=xc.columns,columns=['vif'])"
   ]
  },
  {
   "cell_type": "code",
   "execution_count": null,
   "metadata": {},
   "outputs": [],
   "source": []
  },
  {
   "cell_type": "code",
   "execution_count": null,
   "metadata": {},
   "outputs": [],
   "source": []
  },
  {
   "cell_type": "markdown",
   "metadata": {
    "collapsed": true,
    "id": "r4Ab8QP9GT8q"
   },
   "source": [
    "<table align=\"left\">\n",
    "    <tr>\n",
    "        <td width=\"6%\">\n",
    "            <img src=\"question_icon.png\">\n",
    "        </td>\n",
    "        <td>\n",
    "            <div align=\"left\", style=\"font-size:120%\">\n",
    "                <font color=\"#21618C\">\n",
    "                    <b>14. How can we rectify the multicollinearity detected in question 13? </b>\n",
    "                </font>\n",
    "            </div>\n",
    "        </td>\n",
    "    </tr>\n",
    "</table>"
   ]
  },
  {
   "cell_type": "code",
   "execution_count": 44,
   "metadata": {
    "id": "lcZBHcW3GT8r"
   },
   "outputs": [],
   "source": [
    "#considering correlation analysis, there is indication of some collinearity between age and height. To remove multicollinearity \n",
    "#one of the these variable may be dropped"
   ]
  },
  {
   "cell_type": "markdown",
   "metadata": {
    "collapsed": true,
    "id": "F5YUK2DDGT8r"
   },
   "source": [
    "<table align=\"left\">\n",
    "    <tr>\n",
    "        <td width=\"6%\">\n",
    "            <img src=\"question_icon.png\">\n",
    "        </td>\n",
    "        <td>\n",
    "            <div align=\"left\", style=\"font-size:120%\">\n",
    "                <font color=\"#21618C\">\n",
    "                    <b>15. A Linear regression model is used to analyze the impact of all possible features on respiratory function (FEV). How do we check whether or not the model adequately captures the relationship between the response and predictor variables?</b>\n",
    "                </font>\n",
    "            </div>\n",
    "        </td>\n",
    "    </tr>\n",
    "</table>"
   ]
  },
  {
   "cell_type": "code",
   "execution_count": 93,
   "metadata": {
    "id": "mN2JpSKGGT8r",
    "scrolled": false
   },
   "outputs": [
    {
     "data": {
      "text/html": [
       "<table class=\"simpletable\">\n",
       "<caption>OLS Regression Results</caption>\n",
       "<tr>\n",
       "  <th>Dep. Variable:</th>           <td>FEV</td>       <th>  R-squared:         </th> <td>   0.775</td> \n",
       "</tr>\n",
       "<tr>\n",
       "  <th>Model:</th>                   <td>OLS</td>       <th>  Adj. R-squared:    </th> <td>   0.774</td> \n",
       "</tr>\n",
       "<tr>\n",
       "  <th>Method:</th>             <td>Least Squares</td>  <th>  F-statistic:       </th> <td>   560.0</td> \n",
       "</tr>\n",
       "<tr>\n",
       "  <th>Date:</th>             <td>Tue, 06 Sep 2022</td> <th>  Prob (F-statistic):</th> <td>9.10e-209</td>\n",
       "</tr>\n",
       "<tr>\n",
       "  <th>Time:</th>                 <td>16:29:52</td>     <th>  Log-Likelihood:    </th> <td> -345.90</td> \n",
       "</tr>\n",
       "<tr>\n",
       "  <th>No. Observations:</th>      <td>   654</td>      <th>  AIC:               </th> <td>   701.8</td> \n",
       "</tr>\n",
       "<tr>\n",
       "  <th>Df Residuals:</th>          <td>   649</td>      <th>  BIC:               </th> <td>   724.2</td> \n",
       "</tr>\n",
       "<tr>\n",
       "  <th>Df Model:</th>              <td>     4</td>      <th>                     </th>     <td> </td>    \n",
       "</tr>\n",
       "<tr>\n",
       "  <th>Covariance Type:</th>      <td>nonrobust</td>    <th>                     </th>     <td> </td>    \n",
       "</tr>\n",
       "</table>\n",
       "<table class=\"simpletable\">\n",
       "<tr>\n",
       "     <td></td>       <th>coef</th>     <th>std err</th>      <th>t</th>      <th>P>|t|</th>  <th>[0.025</th>    <th>0.975]</th>  \n",
       "</tr>\n",
       "<tr>\n",
       "  <th>const</th>  <td>   -4.4570</td> <td>    0.223</td> <td>  -20.001</td> <td> 0.000</td> <td>   -4.895</td> <td>   -4.019</td>\n",
       "</tr>\n",
       "<tr>\n",
       "  <th>Age</th>    <td>    0.0655</td> <td>    0.009</td> <td>    6.904</td> <td> 0.000</td> <td>    0.047</td> <td>    0.084</td>\n",
       "</tr>\n",
       "<tr>\n",
       "  <th>Height</th> <td>    0.1042</td> <td>    0.005</td> <td>   21.901</td> <td> 0.000</td> <td>    0.095</td> <td>    0.114</td>\n",
       "</tr>\n",
       "<tr>\n",
       "  <th>Gender</th> <td>    0.1571</td> <td>    0.033</td> <td>    4.731</td> <td> 0.000</td> <td>    0.092</td> <td>    0.222</td>\n",
       "</tr>\n",
       "<tr>\n",
       "  <th>Smoke</th>  <td>   -0.0872</td> <td>    0.059</td> <td>   -1.472</td> <td> 0.141</td> <td>   -0.204</td> <td>    0.029</td>\n",
       "</tr>\n",
       "</table>\n",
       "<table class=\"simpletable\">\n",
       "<tr>\n",
       "  <th>Omnibus:</th>       <td>22.758</td> <th>  Durbin-Watson:     </th> <td>   1.645</td>\n",
       "</tr>\n",
       "<tr>\n",
       "  <th>Prob(Omnibus):</th> <td> 0.000</td> <th>  Jarque-Bera (JB):  </th> <td>  43.271</td>\n",
       "</tr>\n",
       "<tr>\n",
       "  <th>Skew:</th>          <td> 0.207</td> <th>  Prob(JB):          </th> <td>4.02e-10</td>\n",
       "</tr>\n",
       "<tr>\n",
       "  <th>Kurtosis:</th>      <td> 4.190</td> <th>  Cond. No.          </th> <td>    861.</td>\n",
       "</tr>\n",
       "</table><br/><br/>Notes:<br/>[1] Standard Errors assume that the covariance matrix of the errors is correctly specified."
      ],
      "text/plain": [
       "<class 'statsmodels.iolib.summary.Summary'>\n",
       "\"\"\"\n",
       "                            OLS Regression Results                            \n",
       "==============================================================================\n",
       "Dep. Variable:                    FEV   R-squared:                       0.775\n",
       "Model:                            OLS   Adj. R-squared:                  0.774\n",
       "Method:                 Least Squares   F-statistic:                     560.0\n",
       "Date:                Tue, 06 Sep 2022   Prob (F-statistic):          9.10e-209\n",
       "Time:                        16:29:52   Log-Likelihood:                -345.90\n",
       "No. Observations:                 654   AIC:                             701.8\n",
       "Df Residuals:                     649   BIC:                             724.2\n",
       "Df Model:                           4                                         \n",
       "Covariance Type:            nonrobust                                         \n",
       "==============================================================================\n",
       "                 coef    std err          t      P>|t|      [0.025      0.975]\n",
       "------------------------------------------------------------------------------\n",
       "const         -4.4570      0.223    -20.001      0.000      -4.895      -4.019\n",
       "Age            0.0655      0.009      6.904      0.000       0.047       0.084\n",
       "Height         0.1042      0.005     21.901      0.000       0.095       0.114\n",
       "Gender         0.1571      0.033      4.731      0.000       0.092       0.222\n",
       "Smoke         -0.0872      0.059     -1.472      0.141      -0.204       0.029\n",
       "==============================================================================\n",
       "Omnibus:                       22.758   Durbin-Watson:                   1.645\n",
       "Prob(Omnibus):                  0.000   Jarque-Bera (JB):               43.271\n",
       "Skew:                           0.207   Prob(JB):                     4.02e-10\n",
       "Kurtosis:                       4.190   Cond. No.                         861.\n",
       "==============================================================================\n",
       "\n",
       "Notes:\n",
       "[1] Standard Errors assume that the covariance matrix of the errors is correctly specified.\n",
       "\"\"\""
      ]
     },
     "execution_count": 93,
     "metadata": {},
     "output_type": "execute_result"
    }
   ],
   "source": [
    "y = df['FEV']\n",
    "x = df.drop('FEV',axis=1)\n",
    "\n",
    "xc = sm.add_constant(x)\n",
    "\n",
    "\n",
    "model = sm.OLS(y,xc).fit()\n",
    "model.summary()"
   ]
  },
  {
   "cell_type": "code",
   "execution_count": 94,
   "metadata": {},
   "outputs": [
    {
     "data": {
      "text/html": [
       "<table class=\"simpletable\">\n",
       "<caption>OLS Regression Results</caption>\n",
       "<tr>\n",
       "  <th>Dep. Variable:</th>           <td>FEV</td>       <th>  R-squared:         </th> <td>   0.775</td> \n",
       "</tr>\n",
       "<tr>\n",
       "  <th>Model:</th>                   <td>OLS</td>       <th>  Adj. R-squared:    </th> <td>   0.774</td> \n",
       "</tr>\n",
       "<tr>\n",
       "  <th>Method:</th>             <td>Least Squares</td>  <th>  F-statistic:       </th> <td>   744.6</td> \n",
       "</tr>\n",
       "<tr>\n",
       "  <th>Date:</th>             <td>Tue, 06 Sep 2022</td> <th>  Prob (F-statistic):</th> <td>9.05e-210</td>\n",
       "</tr>\n",
       "<tr>\n",
       "  <th>Time:</th>                 <td>16:30:30</td>     <th>  Log-Likelihood:    </th> <td> -346.99</td> \n",
       "</tr>\n",
       "<tr>\n",
       "  <th>No. Observations:</th>      <td>   654</td>      <th>  AIC:               </th> <td>   702.0</td> \n",
       "</tr>\n",
       "<tr>\n",
       "  <th>Df Residuals:</th>          <td>   650</td>      <th>  BIC:               </th> <td>   719.9</td> \n",
       "</tr>\n",
       "<tr>\n",
       "  <th>Df Model:</th>              <td>     3</td>      <th>                     </th>     <td> </td>    \n",
       "</tr>\n",
       "<tr>\n",
       "  <th>Covariance Type:</th>      <td>nonrobust</td>    <th>                     </th>     <td> </td>    \n",
       "</tr>\n",
       "</table>\n",
       "<table class=\"simpletable\">\n",
       "<tr>\n",
       "     <td></td>       <th>coef</th>     <th>std err</th>      <th>t</th>      <th>P>|t|</th>  <th>[0.025</th>    <th>0.975]</th>  \n",
       "</tr>\n",
       "<tr>\n",
       "  <th>const</th>  <td>   -4.4486</td> <td>    0.223</td> <td>  -19.952</td> <td> 0.000</td> <td>   -4.886</td> <td>   -4.011</td>\n",
       "</tr>\n",
       "<tr>\n",
       "  <th>Age</th>    <td>    0.0614</td> <td>    0.009</td> <td>    6.766</td> <td> 0.000</td> <td>    0.044</td> <td>    0.079</td>\n",
       "</tr>\n",
       "<tr>\n",
       "  <th>Height</th> <td>    0.1046</td> <td>    0.005</td> <td>   21.986</td> <td> 0.000</td> <td>    0.095</td> <td>    0.114</td>\n",
       "</tr>\n",
       "<tr>\n",
       "  <th>Gender</th> <td>    0.1611</td> <td>    0.033</td> <td>    4.864</td> <td> 0.000</td> <td>    0.096</td> <td>    0.226</td>\n",
       "</tr>\n",
       "</table>\n",
       "<table class=\"simpletable\">\n",
       "<tr>\n",
       "  <th>Omnibus:</th>       <td>23.453</td> <th>  Durbin-Watson:     </th> <td>   1.636</td>\n",
       "</tr>\n",
       "<tr>\n",
       "  <th>Prob(Omnibus):</th> <td> 0.000</td> <th>  Jarque-Bera (JB):  </th> <td>  47.454</td>\n",
       "</tr>\n",
       "<tr>\n",
       "  <th>Skew:</th>          <td> 0.189</td> <th>  Prob(JB):          </th> <td>4.96e-11</td>\n",
       "</tr>\n",
       "<tr>\n",
       "  <th>Kurtosis:</th>      <td> 4.264</td> <th>  Cond. No.          </th> <td>    861.</td>\n",
       "</tr>\n",
       "</table><br/><br/>Notes:<br/>[1] Standard Errors assume that the covariance matrix of the errors is correctly specified."
      ],
      "text/plain": [
       "<class 'statsmodels.iolib.summary.Summary'>\n",
       "\"\"\"\n",
       "                            OLS Regression Results                            \n",
       "==============================================================================\n",
       "Dep. Variable:                    FEV   R-squared:                       0.775\n",
       "Model:                            OLS   Adj. R-squared:                  0.774\n",
       "Method:                 Least Squares   F-statistic:                     744.6\n",
       "Date:                Tue, 06 Sep 2022   Prob (F-statistic):          9.05e-210\n",
       "Time:                        16:30:30   Log-Likelihood:                -346.99\n",
       "No. Observations:                 654   AIC:                             702.0\n",
       "Df Residuals:                     650   BIC:                             719.9\n",
       "Df Model:                           3                                         \n",
       "Covariance Type:            nonrobust                                         \n",
       "==============================================================================\n",
       "                 coef    std err          t      P>|t|      [0.025      0.975]\n",
       "------------------------------------------------------------------------------\n",
       "const         -4.4486      0.223    -19.952      0.000      -4.886      -4.011\n",
       "Age            0.0614      0.009      6.766      0.000       0.044       0.079\n",
       "Height         0.1046      0.005     21.986      0.000       0.095       0.114\n",
       "Gender         0.1611      0.033      4.864      0.000       0.096       0.226\n",
       "==============================================================================\n",
       "Omnibus:                       23.453   Durbin-Watson:                   1.636\n",
       "Prob(Omnibus):                  0.000   Jarque-Bera (JB):               47.454\n",
       "Skew:                           0.189   Prob(JB):                     4.96e-11\n",
       "Kurtosis:                       4.264   Cond. No.                         861.\n",
       "==============================================================================\n",
       "\n",
       "Notes:\n",
       "[1] Standard Errors assume that the covariance matrix of the errors is correctly specified.\n",
       "\"\"\""
      ]
     },
     "execution_count": 94,
     "metadata": {},
     "output_type": "execute_result"
    }
   ],
   "source": [
    "y = df['FEV']\n",
    "x = df.drop(['FEV','Smoke'],axis=1)\n",
    "\n",
    "xc = sm.add_constant(x)\n",
    "\n",
    "\n",
    "model = sm.OLS(y,xc).fit()\n",
    "model.summary()"
   ]
  },
  {
   "cell_type": "code",
   "execution_count": 95,
   "metadata": {},
   "outputs": [],
   "source": [
    "y_pred = model.predict(xc)"
   ]
  },
  {
   "cell_type": "code",
   "execution_count": 98,
   "metadata": {},
   "outputs": [
    {
     "data": {
      "text/plain": [
       "<AxesSubplot:ylabel='FEV'>"
      ]
     },
     "execution_count": 98,
     "metadata": {},
     "output_type": "execute_result"
    },
    {
     "data": {
      "image/png": "[encoded data removed]",
      "text/plain": [
       "<Figure size 432x288 with 1 Axes>"
      ]
     },
     "metadata": {
      "needs_background": "light"
     },
     "output_type": "display_data"
    }
   ],
   "source": [
    "sns.regplot(x=y_pred,y=y,lowess=True,line_kws={'color':'red'})"
   ]
  },
  {
   "cell_type": "code",
   "execution_count": 99,
   "metadata": {},
   "outputs": [
    {
     "data": {
      "text/plain": [
       "(0.9850614019332686, 0.5540074783420321)"
      ]
     },
     "execution_count": 99,
     "metadata": {},
     "output_type": "execute_result"
    }
   ],
   "source": [
    "import statsmodels.api as sm\n",
    "sm.stats.diagnostic.linear_rainbow(model)"
   ]
  },
  {
   "cell_type": "code",
   "execution_count": 100,
   "metadata": {},
   "outputs": [],
   "source": [
    "#we accept ho \n",
    "#model is not appropriate"
   ]
  },
  {
   "cell_type": "code",
   "execution_count": null,
   "metadata": {},
   "outputs": [],
   "source": []
  },
  {
   "cell_type": "markdown",
   "metadata": {
    "collapsed": true,
    "id": "oC27QIBFGT8s"
   },
   "source": [
    "<table align=\"left\">\n",
    "    <tr>\n",
    "        <td width=\"6%\">\n",
    "            <img src=\"question_icon.png\">\n",
    "        </td>\n",
    "        <td>\n",
    "            <div align=\"left\", style=\"font-size:120%\">\n",
    "                <font color=\"#21618C\">\n",
    "                    <b>16.  A Linear regression model is used to analyze the impact of all possible features on respiratory function (FEV). Check whether the error terms are serially independent?</b>\n",
    "                </font>\n",
    "            </div>\n",
    "        </td>\n",
    "    </tr>\n",
    "</table>"
   ]
  },
  {
   "cell_type": "code",
   "execution_count": 106,
   "metadata": {
    "id": "HJXiKKzqGT8s"
   },
   "outputs": [
    {
     "data": {
      "text/html": [
       "<table class=\"simpletable\">\n",
       "<caption>OLS Regression Results</caption>\n",
       "<tr>\n",
       "  <th>Dep. Variable:</th>           <td>FEV</td>       <th>  R-squared:         </th> <td>   0.775</td> \n",
       "</tr>\n",
       "<tr>\n",
       "  <th>Model:</th>                   <td>OLS</td>       <th>  Adj. R-squared:    </th> <td>   0.774</td> \n",
       "</tr>\n",
       "<tr>\n",
       "  <th>Method:</th>             <td>Least Squares</td>  <th>  F-statistic:       </th> <td>   744.6</td> \n",
       "</tr>\n",
       "<tr>\n",
       "  <th>Date:</th>             <td>Tue, 06 Sep 2022</td> <th>  Prob (F-statistic):</th> <td>9.05e-210</td>\n",
       "</tr>\n",
       "<tr>\n",
       "  <th>Time:</th>                 <td>16:41:33</td>     <th>  Log-Likelihood:    </th> <td> -346.99</td> \n",
       "</tr>\n",
       "<tr>\n",
       "  <th>No. Observations:</th>      <td>   654</td>      <th>  AIC:               </th> <td>   702.0</td> \n",
       "</tr>\n",
       "<tr>\n",
       "  <th>Df Residuals:</th>          <td>   650</td>      <th>  BIC:               </th> <td>   719.9</td> \n",
       "</tr>\n",
       "<tr>\n",
       "  <th>Df Model:</th>              <td>     3</td>      <th>                     </th>     <td> </td>    \n",
       "</tr>\n",
       "<tr>\n",
       "  <th>Covariance Type:</th>      <td>nonrobust</td>    <th>                     </th>     <td> </td>    \n",
       "</tr>\n",
       "</table>\n",
       "<table class=\"simpletable\">\n",
       "<tr>\n",
       "     <td></td>       <th>coef</th>     <th>std err</th>      <th>t</th>      <th>P>|t|</th>  <th>[0.025</th>    <th>0.975]</th>  \n",
       "</tr>\n",
       "<tr>\n",
       "  <th>const</th>  <td>   -4.4486</td> <td>    0.223</td> <td>  -19.952</td> <td> 0.000</td> <td>   -4.886</td> <td>   -4.011</td>\n",
       "</tr>\n",
       "<tr>\n",
       "  <th>Age</th>    <td>    0.0614</td> <td>    0.009</td> <td>    6.766</td> <td> 0.000</td> <td>    0.044</td> <td>    0.079</td>\n",
       "</tr>\n",
       "<tr>\n",
       "  <th>Height</th> <td>    0.1046</td> <td>    0.005</td> <td>   21.986</td> <td> 0.000</td> <td>    0.095</td> <td>    0.114</td>\n",
       "</tr>\n",
       "<tr>\n",
       "  <th>Gender</th> <td>    0.1611</td> <td>    0.033</td> <td>    4.864</td> <td> 0.000</td> <td>    0.096</td> <td>    0.226</td>\n",
       "</tr>\n",
       "</table>\n",
       "<table class=\"simpletable\">\n",
       "<tr>\n",
       "  <th>Omnibus:</th>       <td>23.453</td> <th>  Durbin-Watson:     </th> <td>   1.636</td>\n",
       "</tr>\n",
       "<tr>\n",
       "  <th>Prob(Omnibus):</th> <td> 0.000</td> <th>  Jarque-Bera (JB):  </th> <td>  47.454</td>\n",
       "</tr>\n",
       "<tr>\n",
       "  <th>Skew:</th>          <td> 0.189</td> <th>  Prob(JB):          </th> <td>4.96e-11</td>\n",
       "</tr>\n",
       "<tr>\n",
       "  <th>Kurtosis:</th>      <td> 4.264</td> <th>  Cond. No.          </th> <td>    861.</td>\n",
       "</tr>\n",
       "</table><br/><br/>Notes:<br/>[1] Standard Errors assume that the covariance matrix of the errors is correctly specified."
      ],
      "text/plain": [
       "<class 'statsmodels.iolib.summary.Summary'>\n",
       "\"\"\"\n",
       "                            OLS Regression Results                            \n",
       "==============================================================================\n",
       "Dep. Variable:                    FEV   R-squared:                       0.775\n",
       "Model:                            OLS   Adj. R-squared:                  0.774\n",
       "Method:                 Least Squares   F-statistic:                     744.6\n",
       "Date:                Tue, 06 Sep 2022   Prob (F-statistic):          9.05e-210\n",
       "Time:                        16:41:33   Log-Likelihood:                -346.99\n",
       "No. Observations:                 654   AIC:                             702.0\n",
       "Df Residuals:                     650   BIC:                             719.9\n",
       "Df Model:                           3                                         \n",
       "Covariance Type:            nonrobust                                         \n",
       "==============================================================================\n",
       "                 coef    std err          t      P>|t|      [0.025      0.975]\n",
       "------------------------------------------------------------------------------\n",
       "const         -4.4486      0.223    -19.952      0.000      -4.886      -4.011\n",
       "Age            0.0614      0.009      6.766      0.000       0.044       0.079\n",
       "Height         0.1046      0.005     21.986      0.000       0.095       0.114\n",
       "Gender         0.1611      0.033      4.864      0.000       0.096       0.226\n",
       "==============================================================================\n",
       "Omnibus:                       23.453   Durbin-Watson:                   1.636\n",
       "Prob(Omnibus):                  0.000   Jarque-Bera (JB):               47.454\n",
       "Skew:                           0.189   Prob(JB):                     4.96e-11\n",
       "Kurtosis:                       4.264   Cond. No.                         861.\n",
       "==============================================================================\n",
       "\n",
       "Notes:\n",
       "[1] Standard Errors assume that the covariance matrix of the errors is correctly specified.\n",
       "\"\"\""
      ]
     },
     "execution_count": 106,
     "metadata": {},
     "output_type": "execute_result"
    }
   ],
   "source": [
    "df = pd.read_csv('LungCapdata.csv')\n",
    "\n",
    "y = df['FEV']\n",
    "x = df.drop(['FEV','Smoke'],axis=1)\n",
    "xc = sm.add_constant(x)\n",
    "\n",
    "model=sm.OLS(y,xc).fit()\n",
    "\n",
    "model.summary()\n"
   ]
  },
  {
   "cell_type": "code",
   "execution_count": null,
   "metadata": {},
   "outputs": [],
   "source": []
  },
  {
   "cell_type": "code",
   "execution_count": 107,
   "metadata": {},
   "outputs": [
    {
     "data": {
      "image/png": "[encoded data removed]",
      "text/plain": [
       "<Figure size 432x288 with 1 Axes>"
      ]
     },
     "metadata": {
      "needs_background": "light"
     },
     "output_type": "display_data"
    }
   ],
   "source": [
    "import statsmodels.tsa.api as smt\n",
    "\n",
    "residuals = model.resid\n",
    "smt.graphics.plot_acf(residuals,lags=30)\n",
    "plt.show()"
   ]
  },
  {
   "cell_type": "markdown",
   "metadata": {
    "collapsed": true,
    "id": "a5zZMejWGT8s"
   },
   "source": [
    "<table align=\"left\">\n",
    "    <tr>\n",
    "        <td width=\"6%\">\n",
    "            <img src=\"question_icon.png\">\n",
    "        </td>\n",
    "        <td>\n",
    "            <div align=\"left\", style=\"font-size:120%\">\n",
    "                <font color=\"#21618C\">\n",
    "                    <b>17. A model is built using all the features to predict the FEV. Check whether the residuals obtained form the model are normally distributed. </b>\n",
    "                </font>\n",
    "            </div>\n",
    "        </td>\n",
    "    </tr>\n",
    "</table>"
   ]
  },
  {
   "cell_type": "code",
   "execution_count": 108,
   "metadata": {
    "id": "5vUopDxtGT8t",
    "scrolled": false
   },
   "outputs": [
    {
     "data": {
      "text/html": [
       "<table class=\"simpletable\">\n",
       "<caption>OLS Regression Results</caption>\n",
       "<tr>\n",
       "  <th>Dep. Variable:</th>           <td>FEV</td>       <th>  R-squared:         </th> <td>   0.775</td> \n",
       "</tr>\n",
       "<tr>\n",
       "  <th>Model:</th>                   <td>OLS</td>       <th>  Adj. R-squared:    </th> <td>   0.774</td> \n",
       "</tr>\n",
       "<tr>\n",
       "  <th>Method:</th>             <td>Least Squares</td>  <th>  F-statistic:       </th> <td>   560.0</td> \n",
       "</tr>\n",
       "<tr>\n",
       "  <th>Date:</th>             <td>Tue, 06 Sep 2022</td> <th>  Prob (F-statistic):</th> <td>9.10e-209</td>\n",
       "</tr>\n",
       "<tr>\n",
       "  <th>Time:</th>                 <td>16:43:47</td>     <th>  Log-Likelihood:    </th> <td> -345.90</td> \n",
       "</tr>\n",
       "<tr>\n",
       "  <th>No. Observations:</th>      <td>   654</td>      <th>  AIC:               </th> <td>   701.8</td> \n",
       "</tr>\n",
       "<tr>\n",
       "  <th>Df Residuals:</th>          <td>   649</td>      <th>  BIC:               </th> <td>   724.2</td> \n",
       "</tr>\n",
       "<tr>\n",
       "  <th>Df Model:</th>              <td>     4</td>      <th>                     </th>     <td> </td>    \n",
       "</tr>\n",
       "<tr>\n",
       "  <th>Covariance Type:</th>      <td>nonrobust</td>    <th>                     </th>     <td> </td>    \n",
       "</tr>\n",
       "</table>\n",
       "<table class=\"simpletable\">\n",
       "<tr>\n",
       "     <td></td>       <th>coef</th>     <th>std err</th>      <th>t</th>      <th>P>|t|</th>  <th>[0.025</th>    <th>0.975]</th>  \n",
       "</tr>\n",
       "<tr>\n",
       "  <th>const</th>  <td>   -4.4570</td> <td>    0.223</td> <td>  -20.001</td> <td> 0.000</td> <td>   -4.895</td> <td>   -4.019</td>\n",
       "</tr>\n",
       "<tr>\n",
       "  <th>Age</th>    <td>    0.0655</td> <td>    0.009</td> <td>    6.904</td> <td> 0.000</td> <td>    0.047</td> <td>    0.084</td>\n",
       "</tr>\n",
       "<tr>\n",
       "  <th>Height</th> <td>    0.1042</td> <td>    0.005</td> <td>   21.901</td> <td> 0.000</td> <td>    0.095</td> <td>    0.114</td>\n",
       "</tr>\n",
       "<tr>\n",
       "  <th>Gender</th> <td>    0.1571</td> <td>    0.033</td> <td>    4.731</td> <td> 0.000</td> <td>    0.092</td> <td>    0.222</td>\n",
       "</tr>\n",
       "<tr>\n",
       "  <th>Smoke</th>  <td>   -0.0872</td> <td>    0.059</td> <td>   -1.472</td> <td> 0.141</td> <td>   -0.204</td> <td>    0.029</td>\n",
       "</tr>\n",
       "</table>\n",
       "<table class=\"simpletable\">\n",
       "<tr>\n",
       "  <th>Omnibus:</th>       <td>22.758</td> <th>  Durbin-Watson:     </th> <td>   1.645</td>\n",
       "</tr>\n",
       "<tr>\n",
       "  <th>Prob(Omnibus):</th> <td> 0.000</td> <th>  Jarque-Bera (JB):  </th> <td>  43.271</td>\n",
       "</tr>\n",
       "<tr>\n",
       "  <th>Skew:</th>          <td> 0.207</td> <th>  Prob(JB):          </th> <td>4.02e-10</td>\n",
       "</tr>\n",
       "<tr>\n",
       "  <th>Kurtosis:</th>      <td> 4.190</td> <th>  Cond. No.          </th> <td>    861.</td>\n",
       "</tr>\n",
       "</table><br/><br/>Notes:<br/>[1] Standard Errors assume that the covariance matrix of the errors is correctly specified."
      ],
      "text/plain": [
       "<class 'statsmodels.iolib.summary.Summary'>\n",
       "\"\"\"\n",
       "                            OLS Regression Results                            \n",
       "==============================================================================\n",
       "Dep. Variable:                    FEV   R-squared:                       0.775\n",
       "Model:                            OLS   Adj. R-squared:                  0.774\n",
       "Method:                 Least Squares   F-statistic:                     560.0\n",
       "Date:                Tue, 06 Sep 2022   Prob (F-statistic):          9.10e-209\n",
       "Time:                        16:43:47   Log-Likelihood:                -345.90\n",
       "No. Observations:                 654   AIC:                             701.8\n",
       "Df Residuals:                     649   BIC:                             724.2\n",
       "Df Model:                           4                                         \n",
       "Covariance Type:            nonrobust                                         \n",
       "==============================================================================\n",
       "                 coef    std err          t      P>|t|      [0.025      0.975]\n",
       "------------------------------------------------------------------------------\n",
       "const         -4.4570      0.223    -20.001      0.000      -4.895      -4.019\n",
       "Age            0.0655      0.009      6.904      0.000       0.047       0.084\n",
       "Height         0.1042      0.005     21.901      0.000       0.095       0.114\n",
       "Gender         0.1571      0.033      4.731      0.000       0.092       0.222\n",
       "Smoke         -0.0872      0.059     -1.472      0.141      -0.204       0.029\n",
       "==============================================================================\n",
       "Omnibus:                       22.758   Durbin-Watson:                   1.645\n",
       "Prob(Omnibus):                  0.000   Jarque-Bera (JB):               43.271\n",
       "Skew:                           0.207   Prob(JB):                     4.02e-10\n",
       "Kurtosis:                       4.190   Cond. No.                         861.\n",
       "==============================================================================\n",
       "\n",
       "Notes:\n",
       "[1] Standard Errors assume that the covariance matrix of the errors is correctly specified.\n",
       "\"\"\""
      ]
     },
     "execution_count": 108,
     "metadata": {},
     "output_type": "execute_result"
    }
   ],
   "source": [
    "y = df['FEV']\n",
    "x = df.drop('FEV',axis=1)\n",
    "\n",
    "xc = sm.add_constant(x)\n",
    "\n",
    "\n",
    "model = sm.OLS(y,xc).fit()\n",
    "model.summary()"
   ]
  },
  {
   "cell_type": "code",
   "execution_count": null,
   "metadata": {},
   "outputs": [],
   "source": [
    "#since prob(jb) is less than significance level,ho is rejected to conclude that residuals are not normally distributed"
   ]
  },
  {
   "cell_type": "code",
   "execution_count": null,
   "metadata": {},
   "outputs": [],
   "source": [
    "#do qq plot\n",
    "#residuals distplot"
   ]
  },
  {
   "cell_type": "markdown",
   "metadata": {
    "id": "6ruIu1g6GT8t"
   },
   "source": [
    "\n",
    "## 6. Model Performance"
   ]
  },
  {
   "cell_type": "markdown",
   "metadata": {
    "collapsed": true,
    "id": "RneYTzzCGT8u"
   },
   "source": [
    "<table align=\"left\">\n",
    "    <tr>\n",
    "        <td width=\"6%\">\n",
    "            <img src=\"question_icon.png\">\n",
    "        </td>\n",
    "        <td>\n",
    "            <div align=\"left\", style=\"font-size:120%\">\n",
    "                <font color=\"#21618C\">\n",
    "                    <b>18. Consider the full model. Calculate the mean square error and the root mean square error.</b>\n",
    "                </font>\n",
    "            </div>\n",
    "        </td>\n",
    "    </tr>\n",
    "</table>"
   ]
  },
  {
   "cell_type": "code",
   "execution_count": 113,
   "metadata": {
    "id": "lxxdB1FNGT8u"
   },
   "outputs": [
    {
     "name": "stdout",
     "output_type": "stream",
     "text": [
      "mse 0.16918647070243514 rmse 0.41132283027135164\n"
     ]
    }
   ],
   "source": [
    "y = df['FEV']\n",
    "x = df.drop(['FEV','Smoke'],axis=1)\n",
    "xc=sm.add_constant(x)\n",
    "\n",
    "model = sm.OLS(y,xc).fit()\n",
    "y_pred = model.predict(xc)\n",
    "mse = np.sum((y-y_pred)**2)/len(y)\n",
    "rmse = np.sqrt(mse)\n",
    "\n",
    "print('mse',mse,'rmse',rmse)"
   ]
  },
  {
   "cell_type": "markdown",
   "metadata": {
    "collapsed": true,
    "id": "IutRN5LeGT8v"
   },
   "source": [
    "<table align=\"left\">\n",
    "    <tr>\n",
    "        <td width=\"6%\">\n",
    "            <img src=\"question_icon.png\">\n",
    "        </td>\n",
    "        <td>\n",
    "            <div align=\"left\", style=\"font-size:120%\">\n",
    "                <font color=\"#21618C\">\n",
    "                    <b>19. Calculate the mean absolute error and the  mean absolute percentage error. Compare the values of RMSE and MAE. </b>\n",
    "                </font>\n",
    "            </div>\n",
    "        </td>\n",
    "    </tr>\n",
    "</table>"
   ]
  },
  {
   "cell_type": "code",
   "execution_count": 117,
   "metadata": {
    "id": "asdF_imlGT8v"
   },
   "outputs": [
    {
     "name": "stdout",
     "output_type": "stream",
     "text": [
      "0.3130935706513789\n",
      "0.12552293994332683\n"
     ]
    }
   ],
   "source": [
    "mae = np.sum(np.abs(y-y_pred))/len(y)\n",
    "print(mae)\n",
    "\n",
    "mape = np.sum(np.abs(y-y_pred)/y)/len(y)\n",
    "print(mape)"
   ]
  },
  {
   "cell_type": "markdown",
   "metadata": {
    "collapsed": true,
    "id": "qJUT1YRXGT8v"
   },
   "source": [
    "<table align=\"left\">\n",
    "    <tr>\n",
    "        <td width=\"6%\">\n",
    "            <img src=\"question_icon.png\">\n",
    "        </td>\n",
    "        <td>\n",
    "            <div align=\"left\", style=\"font-size:120%\">\n",
    "                <font color=\"#21618C\">\n",
    "                    <b>20. Consider the full model, has the model overfitted? </b>\n",
    "                </font>\n",
    "            </div>\n",
    "        </td>\n",
    "    </tr>\n",
    "</table>"
   ]
  },
  {
   "cell_type": "code",
   "execution_count": 118,
   "metadata": {
    "id": "GODi3g3MGT8w"
   },
   "outputs": [],
   "source": [
    "from sklearn.model_selection import train_test_split"
   ]
  },
  {
   "cell_type": "code",
   "execution_count": 120,
   "metadata": {},
   "outputs": [
    {
     "data": {
      "text/html": [
       "<table class=\"simpletable\">\n",
       "<caption>OLS Regression Results</caption>\n",
       "<tr>\n",
       "  <th>Dep. Variable:</th>           <td>FEV</td>       <th>  R-squared:         </th> <td>   0.762</td> \n",
       "</tr>\n",
       "<tr>\n",
       "  <th>Model:</th>                   <td>OLS</td>       <th>  Adj. R-squared:    </th> <td>   0.760</td> \n",
       "</tr>\n",
       "<tr>\n",
       "  <th>Method:</th>             <td>Least Squares</td>  <th>  F-statistic:       </th> <td>   482.8</td> \n",
       "</tr>\n",
       "<tr>\n",
       "  <th>Date:</th>             <td>Tue, 06 Sep 2022</td> <th>  Prob (F-statistic):</th> <td>1.17e-140</td>\n",
       "</tr>\n",
       "<tr>\n",
       "  <th>Time:</th>                 <td>17:02:16</td>     <th>  Log-Likelihood:    </th> <td> -250.54</td> \n",
       "</tr>\n",
       "<tr>\n",
       "  <th>No. Observations:</th>      <td>   457</td>      <th>  AIC:               </th> <td>   509.1</td> \n",
       "</tr>\n",
       "<tr>\n",
       "  <th>Df Residuals:</th>          <td>   453</td>      <th>  BIC:               </th> <td>   525.6</td> \n",
       "</tr>\n",
       "<tr>\n",
       "  <th>Df Model:</th>              <td>     3</td>      <th>                     </th>     <td> </td>    \n",
       "</tr>\n",
       "<tr>\n",
       "  <th>Covariance Type:</th>      <td>nonrobust</td>    <th>                     </th>     <td> </td>    \n",
       "</tr>\n",
       "</table>\n",
       "<table class=\"simpletable\">\n",
       "<tr>\n",
       "     <td></td>       <th>coef</th>     <th>std err</th>      <th>t</th>      <th>P>|t|</th>  <th>[0.025</th>    <th>0.975]</th>  \n",
       "</tr>\n",
       "<tr>\n",
       "  <th>const</th>  <td>   -4.4130</td> <td>    0.275</td> <td>  -16.060</td> <td> 0.000</td> <td>   -4.953</td> <td>   -3.873</td>\n",
       "</tr>\n",
       "<tr>\n",
       "  <th>Age</th>    <td>    0.0616</td> <td>    0.012</td> <td>    5.236</td> <td> 0.000</td> <td>    0.038</td> <td>    0.085</td>\n",
       "</tr>\n",
       "<tr>\n",
       "  <th>Height</th> <td>    0.1037</td> <td>    0.006</td> <td>   17.466</td> <td> 0.000</td> <td>    0.092</td> <td>    0.115</td>\n",
       "</tr>\n",
       "<tr>\n",
       "  <th>Gender</th> <td>    0.1434</td> <td>    0.040</td> <td>    3.568</td> <td> 0.000</td> <td>    0.064</td> <td>    0.222</td>\n",
       "</tr>\n",
       "</table>\n",
       "<table class=\"simpletable\">\n",
       "<tr>\n",
       "  <th>Omnibus:</th>       <td>11.521</td> <th>  Durbin-Watson:     </th> <td>   2.108</td>\n",
       "</tr>\n",
       "<tr>\n",
       "  <th>Prob(Omnibus):</th> <td> 0.003</td> <th>  Jarque-Bera (JB):  </th> <td>  18.418</td>\n",
       "</tr>\n",
       "<tr>\n",
       "  <th>Skew:</th>          <td> 0.159</td> <th>  Prob(JB):          </th> <td>0.000100</td>\n",
       "</tr>\n",
       "<tr>\n",
       "  <th>Kurtosis:</th>      <td> 3.931</td> <th>  Cond. No.          </th> <td>    870.</td>\n",
       "</tr>\n",
       "</table><br/><br/>Notes:<br/>[1] Standard Errors assume that the covariance matrix of the errors is correctly specified."
      ],
      "text/plain": [
       "<class 'statsmodels.iolib.summary.Summary'>\n",
       "\"\"\"\n",
       "                            OLS Regression Results                            \n",
       "==============================================================================\n",
       "Dep. Variable:                    FEV   R-squared:                       0.762\n",
       "Model:                            OLS   Adj. R-squared:                  0.760\n",
       "Method:                 Least Squares   F-statistic:                     482.8\n",
       "Date:                Tue, 06 Sep 2022   Prob (F-statistic):          1.17e-140\n",
       "Time:                        17:02:16   Log-Likelihood:                -250.54\n",
       "No. Observations:                 457   AIC:                             509.1\n",
       "Df Residuals:                     453   BIC:                             525.6\n",
       "Df Model:                           3                                         \n",
       "Covariance Type:            nonrobust                                         \n",
       "==============================================================================\n",
       "                 coef    std err          t      P>|t|      [0.025      0.975]\n",
       "------------------------------------------------------------------------------\n",
       "const         -4.4130      0.275    -16.060      0.000      -4.953      -3.873\n",
       "Age            0.0616      0.012      5.236      0.000       0.038       0.085\n",
       "Height         0.1037      0.006     17.466      0.000       0.092       0.115\n",
       "Gender         0.1434      0.040      3.568      0.000       0.064       0.222\n",
       "==============================================================================\n",
       "Omnibus:                       11.521   Durbin-Watson:                   2.108\n",
       "Prob(Omnibus):                  0.003   Jarque-Bera (JB):               18.418\n",
       "Skew:                           0.159   Prob(JB):                     0.000100\n",
       "Kurtosis:                       3.931   Cond. No.                         870.\n",
       "==============================================================================\n",
       "\n",
       "Notes:\n",
       "[1] Standard Errors assume that the covariance matrix of the errors is correctly specified.\n",
       "\"\"\""
      ]
     },
     "execution_count": 120,
     "metadata": {},
     "output_type": "execute_result"
    }
   ],
   "source": [
    "y = df['FEV']\n",
    "x = df.drop('FEV',axis=1)\n",
    "xc = sm.add_constant(xc)\n",
    "\n",
    "xtrain,xtest,ytrain,ytest=train_test_split(xc,y,test_size=0.3,random_state=42)\n",
    "\n",
    "model=sm.OLS(ytrain,xtrain).fit()\n",
    "model.summary()"
   ]
  },
  {
   "cell_type": "code",
   "execution_count": 124,
   "metadata": {},
   "outputs": [
    {
     "data": {
      "text/plain": [
       "0.797864074534001"
      ]
     },
     "execution_count": 124,
     "metadata": {},
     "output_type": "execute_result"
    }
   ],
   "source": [
    "from sklearn import metrics\n",
    "y_test_pred = model.predict(xtest)\n",
    "r2_test=metrics.r2_score(ytest,y_test_pred)\n",
    "r2_test"
   ]
  },
  {
   "cell_type": "code",
   "execution_count": 125,
   "metadata": {},
   "outputs": [],
   "source": [
    "#r2 on train data is 0.77 and r2 on test data is 0.76.since the values are very close,there is no evidence of overfitting."
   ]
  },
  {
   "cell_type": "code",
   "execution_count": null,
   "metadata": {},
   "outputs": [],
   "source": []
  }
 ],
 "metadata": {
  "colab": {
   "collapsed_sections": [],
   "name": "SLR - In-Class - Lab Exercise (DAY 1) - Questions  [v1.0 - 080420].ipynb",
   "provenance": []
  },
  "kernelspec": {
   "display_name": "Python 3 (ipykernel)",
   "language": "python",
   "name": "python3"
  },
  "language_info": {
   "codemirror_mode": {
    "name": "ipython",
    "version": 3
   },
   "file_extension": ".py",
   "mimetype": "text/x-python",
   "name": "python",
   "nbconvert_exporter": "python",
   "pygments_lexer": "ipython3",
   "version": "3.9.13"
  }
 },
 "nbformat": 4,
 "nbformat_minor": 1
}
